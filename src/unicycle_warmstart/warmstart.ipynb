{
 "cells": [
  {
   "cell_type": "code",
   "execution_count": 1,
   "metadata": {},
   "outputs": [
    {
     "name": "stderr",
     "output_type": "stream",
     "text": [
      "Using TensorFlow backend.\n",
      "/home/a/.local/lib/python3.6/site-packages/tensorflow/python/framework/dtypes.py:516: FutureWarning: Passing (type, 1) or '1type' as a synonym of type is deprecated; in a future version of numpy, it will be understood as (type, (1,)) / '(1,)type'.\n",
      "  _np_qint8 = np.dtype([(\"qint8\", np.int8, 1)])\n",
      "/home/a/.local/lib/python3.6/site-packages/tensorflow/python/framework/dtypes.py:517: FutureWarning: Passing (type, 1) or '1type' as a synonym of type is deprecated; in a future version of numpy, it will be understood as (type, (1,)) / '(1,)type'.\n",
      "  _np_quint8 = np.dtype([(\"quint8\", np.uint8, 1)])\n",
      "/home/a/.local/lib/python3.6/site-packages/tensorflow/python/framework/dtypes.py:518: FutureWarning: Passing (type, 1) or '1type' as a synonym of type is deprecated; in a future version of numpy, it will be understood as (type, (1,)) / '(1,)type'.\n",
      "  _np_qint16 = np.dtype([(\"qint16\", np.int16, 1)])\n",
      "/home/a/.local/lib/python3.6/site-packages/tensorflow/python/framework/dtypes.py:519: FutureWarning: Passing (type, 1) or '1type' as a synonym of type is deprecated; in a future version of numpy, it will be understood as (type, (1,)) / '(1,)type'.\n",
      "  _np_quint16 = np.dtype([(\"quint16\", np.uint16, 1)])\n",
      "/home/a/.local/lib/python3.6/site-packages/tensorflow/python/framework/dtypes.py:520: FutureWarning: Passing (type, 1) or '1type' as a synonym of type is deprecated; in a future version of numpy, it will be understood as (type, (1,)) / '(1,)type'.\n",
      "  _np_qint32 = np.dtype([(\"qint32\", np.int32, 1)])\n",
      "/home/a/.local/lib/python3.6/site-packages/tensorflow/python/framework/dtypes.py:525: FutureWarning: Passing (type, 1) or '1type' as a synonym of type is deprecated; in a future version of numpy, it will be understood as (type, (1,)) / '(1,)type'.\n",
      "  np_resource = np.dtype([(\"resource\", np.ubyte, 1)])\n",
      "/home/a/.local/lib/python3.6/site-packages/tensorboard/compat/tensorflow_stub/dtypes.py:541: FutureWarning: Passing (type, 1) or '1type' as a synonym of type is deprecated; in a future version of numpy, it will be understood as (type, (1,)) / '(1,)type'.\n",
      "  _np_qint8 = np.dtype([(\"qint8\", np.int8, 1)])\n",
      "/home/a/.local/lib/python3.6/site-packages/tensorboard/compat/tensorflow_stub/dtypes.py:542: FutureWarning: Passing (type, 1) or '1type' as a synonym of type is deprecated; in a future version of numpy, it will be understood as (type, (1,)) / '(1,)type'.\n",
      "  _np_quint8 = np.dtype([(\"quint8\", np.uint8, 1)])\n",
      "/home/a/.local/lib/python3.6/site-packages/tensorboard/compat/tensorflow_stub/dtypes.py:543: FutureWarning: Passing (type, 1) or '1type' as a synonym of type is deprecated; in a future version of numpy, it will be understood as (type, (1,)) / '(1,)type'.\n",
      "  _np_qint16 = np.dtype([(\"qint16\", np.int16, 1)])\n",
      "/home/a/.local/lib/python3.6/site-packages/tensorboard/compat/tensorflow_stub/dtypes.py:544: FutureWarning: Passing (type, 1) or '1type' as a synonym of type is deprecated; in a future version of numpy, it will be understood as (type, (1,)) / '(1,)type'.\n",
      "  _np_quint16 = np.dtype([(\"quint16\", np.uint16, 1)])\n",
      "/home/a/.local/lib/python3.6/site-packages/tensorboard/compat/tensorflow_stub/dtypes.py:545: FutureWarning: Passing (type, 1) or '1type' as a synonym of type is deprecated; in a future version of numpy, it will be understood as (type, (1,)) / '(1,)type'.\n",
      "  _np_qint32 = np.dtype([(\"qint32\", np.int32, 1)])\n",
      "/home/a/.local/lib/python3.6/site-packages/tensorboard/compat/tensorflow_stub/dtypes.py:550: FutureWarning: Passing (type, 1) or '1type' as a synonym of type is deprecated; in a future version of numpy, it will be understood as (type, (1,)) / '(1,)type'.\n",
      "  np_resource = np.dtype([(\"resource\", np.ubyte, 1)])\n"
     ]
    }
   ],
   "source": [
    "import random\n",
    "import numpy as np\n",
    "import crocoddyl\n",
    "import keras\n",
    "from keras.models import load_model\n",
    "from keras import regularizers\n",
    "from keras import optimizers\n",
    "from keras.models import Sequential\n",
    "from keras.layers import Dense, Activation, Dropout\n",
    "crocoddyl.switchToNumpyMatrix()\n"
   ]
  },
  {
   "cell_type": "code",
   "execution_count": 2,
   "metadata": {},
   "outputs": [
    {
     "name": "stdout",
     "output_type": "stream",
     "text": [
      "Total trajectories: 10000, not feasible trajectories: 0\n",
      "\n",
      "\n",
      "Maximum iterations allowed : 1000\n",
      "\n",
      "\n",
      "Minimum iterations taken -> 2,          Maximum iterations taken -> 1000,          Average -> 26 \n",
      "\n",
      ".............................\n",
      "\n",
      "Total trajectories: 10000, not feasible trajectories: 0\n",
      "\n",
      "\n",
      "Maximum iterations allowed : 100\n",
      "\n",
      "\n",
      "Minimum iterations taken -> 2,          Maximum iterations taken -> 100,          Average -> 25 \n",
      "\n",
      ".............................\n",
      "\n",
      "Total trajectories: 10000, not feasible trajectories: 0\n",
      "\n",
      "\n",
      "Maximum iterations allowed : 500\n",
      "\n",
      "\n",
      "Minimum iterations taken -> 2,          Maximum iterations taken -> 500,          Average -> 26 \n",
      "\n",
      ".............................\n",
      "\n"
     ]
    }
   ],
   "source": [
    "def iteration_analysis(MAXITER:int =1000):\n",
    "    \"\"\"\n",
    "    Script to store the number of iterations crocoddyl takes to generate a trajectory.\n",
    "    Here, we generate 10K trajectories and store the number of iterations taken by  crocoddyl \n",
    "    for each trajectory\n",
    "    \n",
    "    \"\"\"\n",
    "    iterations = []\n",
    "    not_feasible = 0\n",
    "    \n",
    "    NUM_TRAJ = 10000\n",
    "\n",
    "\n",
    "    for _ in range(NUM_TRAJ):\n",
    "        initial_config = [random.uniform(-2.1, 2.),\n",
    "                                    random.uniform(-2.1, 2.), \n",
    "                                    random.uniform(0, 1)]\n",
    "\n",
    "        model = crocoddyl.ActionModelUnicycle()\n",
    "\n",
    "        model.costWeights = np.matrix([1, 0.3]).T\n",
    "\n",
    "        problem = crocoddyl.ShootingProblem(np.matrix(initial_config).T, [ model ] * 20, model)\n",
    "\n",
    "        ddp = crocoddyl.SolverDDP(problem)\n",
    "\n",
    "        done = ddp.solve([], [], MAXITER)\n",
    "        if not ddp.isFeasible:\n",
    "            not_feasible += 1\n",
    "\n",
    "        else:\n",
    "            iterations.append(ddp.iter)\n",
    "\n",
    "    max_value = max(iterations)\n",
    "    min_value = min(iterations)\n",
    "    avg_value = sum(iterations)//len(iterations)\n",
    "    print(f\"Total trajectories: {NUM_TRAJ}, not feasible trajectories: {not_feasible}\\n\\n\")\n",
    "    print(f'Maximum iterations allowed : {MAXITER}\\n')\n",
    "    print(f\"\\nMinimum iterations taken -> {min_value},\\\n",
    "          Maximum iterations taken -> {max_value},\\\n",
    "          Average -> {avg_value} \\n\")\n",
    "    print(\".............................\\n\")\n",
    "    \n",
    "    return iterations\n",
    "\n",
    "Group1 = iteration_analysis(MAXITER = 1000)\n",
    "Group2 = iteration_analysis(MAXITER = 100)\n",
    "Group3 = iteration_analysis(MAXITER = 500)"
   ]
  },
  {
   "cell_type": "code",
   "execution_count": 1,
   "metadata": {},
   "outputs": [
    {
     "ename": "SyntaxError",
     "evalue": "invalid syntax (data_net.py, line 78)",
     "output_type": "error",
     "traceback": [
      "Traceback \u001b[0;36m(most recent call last)\u001b[0m:\n",
      "  File \u001b[1;32m\"/home/a/miniconda/envs/deep_net/lib/python3.7/site-packages/IPython/core/interactiveshell.py\"\u001b[0m, line \u001b[1;32m3326\u001b[0m, in \u001b[1;35mrun_code\u001b[0m\n    exec(code_obj, self.user_global_ns, self.user_ns)\n",
      "\u001b[0;36m  File \u001b[0;32m\"<ipython-input-1-ec3fb626318d>\"\u001b[0;36m, line \u001b[0;32m1\u001b[0;36m, in \u001b[0;35m<module>\u001b[0;36m\u001b[0m\n\u001b[0;31m    from data_net import *\u001b[0m\n",
      "\u001b[0;36m  File \u001b[0;32m\"/home/a/deep_Networks/src/unicycle_warmstart/data_net.py\"\u001b[0;36m, line \u001b[0;32m78\u001b[0m\n\u001b[0;31m    model.add(Dense(256,\u001b[0m\n\u001b[0m        ^\u001b[0m\n\u001b[0;31mSyntaxError\u001b[0m\u001b[0;31m:\u001b[0m invalid syntax\n"
     ]
    }
   ],
   "source": [
    "from data_net import *\n",
    "import random\n",
    "import numpy as np\n",
    "import crocoddyl\n",
    "from keras.models import load_model\n",
    "\n",
    "def warmstart(n_trajectories: int = 10000, load_net: bool = False):\n",
    "    if load_net:\n",
    "        neuralNet = load_model('basic_model.h5')\n",
    "    else:\n",
    "        neuralNet = train_net()\n",
    "        \n",
    "    print(f\" With warmstart, without warmstart \")\n",
    "    \n",
    "    for _ in range(n_trajectories):\n",
    "            \n",
    "            initial_config = [random.uniform(-2.1, 2.),\n",
    "                                        random.uniform(-2.1, 2.), \n",
    "                                        random.uniform(0, 1)]\n",
    "\n",
    "            model = crocoddyl.ActionModelUnicycle()\n",
    "            model2 = crocoddyl.ActionModelUnicycle()\n",
    "            \n",
    "            model.costWeights = np.matrix([1., .3]).T\n",
    "            model2.costWeights = np.matrix([1., .3]).T\n",
    "    \n",
    "            \n",
    "            problem = crocoddyl.ShootingProblem(np.matrix(initial_config).T, [ model ] * 20, model)\n",
    "            problem2 = crocoddyl.ShootingProblem(np.matrix(initial_config).T, [ model2 ] * 20, model2)\n",
    "\n",
    "            \n",
    "            ddp = crocoddyl.SolverDDP(problem)\n",
    "            ddp2 = crocoddyl.SolverDDP(problem2)\n",
    "            \n",
    "            \n",
    "            x_data = np.matrix(initial_config).reshape(1, 3)\n",
    "\n",
    "            prediction = neuralNet.predict(x_data).reshape(20, 5)\n",
    "\n",
    "            xs = np.matrix(prediction[:, 0:3])\n",
    "\n",
    "            us = np.matrix(prediction[:, 3:5])\n",
    "            \n",
    "\n",
    "            ddp_xs = []\n",
    "            ddp_xs.append(np.matrix(initial_config).reshape(1, 3).T)\n",
    "            for _ in  range(xs.shape[0]):\n",
    "                ddp_xs.append((np.matrix(xs[_]).T))\n",
    "\n",
    "            ddp_us = []\n",
    "            for _ in  range(us.shape[0]):\n",
    "                ddp_us.append(np.matrix(us[_]).T)\n",
    "\n",
    "            ddp.solve(ddp_xs)\n",
    "            ddp2.solve()\n",
    "            print(\"  \", ddp.iter, \"  \", ddp2.iter)\n",
    "                \n",
    "warmstart(n_trajectories=1000, load_net=False)    "
   ]
  },
  {
   "cell_type": "code",
   "execution_count": 2,
   "metadata": {},
   "outputs": [],
   "source": [
    "initial_config = [random.uniform(-2.1, 2.),\n",
    "                                        random.uniform(-2.1, 2.), \n",
    "                                        random.uniform(0, 1)]\n",
    "\n",
    "model = crocoddyl.ActionModelUnicycle()\n",
    "model2 = crocoddyl.ActionModelUnicycle()\n",
    "\n",
    "model.costWeights = np.matrix([1., .3]).T\n",
    "model2.costWeights = np.matrix([1., .3]).T\n",
    "\n",
    "\n",
    "problem = crocoddyl.ShootingProblem(np.matrix(initial_config).T, [ model ] * 20, model)\n",
    "problem2 = crocoddyl.ShootingProblem(np.matrix(initial_config).T, [ model2 ] * 20, model2)\n",
    "\n",
    "\n",
    "ddp = crocoddyl.SolverDDP(problem)\n",
    "ddp2 = crocoddyl.SolverDDP(problem2)\n",
    "\n",
    "            "
   ]
  },
  {
   "cell_type": "code",
   "execution_count": 5,
   "metadata": {},
   "outputs": [
    {
     "data": {
      "text/plain": [
       "True"
      ]
     },
     "execution_count": 5,
     "metadata": {},
     "output_type": "execute_result"
    }
   ],
   "source": [
    "ddp.solve()"
   ]
  },
  {
   "cell_type": "code",
   "execution_count": 6,
   "metadata": {},
   "outputs": [
    {
     "data": {
      "text/plain": [
       "[matrix([[0.24469323],\n",
       "         [1.0182596 ],\n",
       "         [0.17483822]]), matrix([[0.31938757],\n",
       "         [1.03145375],\n",
       "         [0.52803402]]), matrix([[0.12755307],\n",
       "         [0.91956068],\n",
       "         [0.72216947]]), matrix([[-0.119221  ],\n",
       "         [ 0.70217405],\n",
       "         [ 0.71639857]]), matrix([[-0.33243106],\n",
       "         [ 0.51652862],\n",
       "         [ 0.56796566]]), matrix([[-0.47034728],\n",
       "         [ 0.42852399],\n",
       "         [ 0.35975872]]), matrix([[-0.5049535 ],\n",
       "         [ 0.41550764],\n",
       "         [ 0.16543388]]), matrix([[-0.45340747],\n",
       "         [ 0.42411375],\n",
       "         [ 0.02319054]]), matrix([[-0.35956512],\n",
       "         [ 0.4262904 ],\n",
       "         [-0.06178597]]), matrix([[-0.25957962],\n",
       "         [ 0.42010482],\n",
       "         [-0.10076008]]), matrix([[-0.1727498 ],\n",
       "         [ 0.41132612],\n",
       "         [-0.1090484 ]]), matrix([[-0.10595548],\n",
       "         [ 0.40401329],\n",
       "         [-0.10017001]]), matrix([[-0.05907209],\n",
       "         [ 0.39930121],\n",
       "         [-0.08390875]]), matrix([[-0.02871266],\n",
       "         [ 0.3967478 ],\n",
       "         [-0.06630919]]), matrix([[-0.01055303],\n",
       "         [ 0.39554188],\n",
       "         [-0.05049653]]), matrix([[-0.00060619],\n",
       "         [ 0.39503917],\n",
       "         [-0.0376747 ]]), matrix([[ 0.00425581],\n",
       "         [ 0.39485591],\n",
       "         [-0.02797198]]), matrix([[ 0.00623811],\n",
       "         [ 0.39480044],\n",
       "         [-0.02102933]]), matrix([[ 0.00677336],\n",
       "         [ 0.39478919],\n",
       "         [-0.01635283]]), matrix([[ 0.00672846],\n",
       "         [ 0.39478992],\n",
       "         [-0.01349726]]), matrix([[ 0.00658852],\n",
       "         [ 0.39479181],\n",
       "         [-0.01214754]])]"
      ]
     },
     "execution_count": 6,
     "metadata": {},
     "output_type": "execute_result"
    }
   ],
   "source": [
    "ddp.xs"
   ]
  },
  {
   "cell_type": "code",
   "execution_count": 10,
   "metadata": {},
   "outputs": [],
   "source": [
    "for i in ddp.xs:\n",
    "    for j in i:\n",
    "        j = j + 1e-4"
   ]
  },
  {
   "cell_type": "code",
   "execution_count": 16,
   "metadata": {},
   "outputs": [],
   "source": [
    "for i in ddp.us:\n",
    "    for j in i:\n",
    "        j = j + 1e-4"
   ]
  },
  {
   "cell_type": "code",
   "execution_count": 17,
   "metadata": {},
   "outputs": [
    {
     "data": {
      "text/plain": [
       "[matrix([[0.75850714],\n",
       "         [3.53195802]]), matrix([[-2.22082271],\n",
       "         [ 1.94135449]]), matrix([[-3.28868346],\n",
       "         [-0.05770897]]), matrix([[-2.82706126],\n",
       "         [-1.4843291 ]]), matrix([[-1.63602261],\n",
       "         [-2.08206944]]), matrix([[-0.36973173],\n",
       "         [-1.94324835]]), matrix([[ 0.52259526],\n",
       "         [-1.42243338]]), matrix([[ 0.93867587],\n",
       "         [-0.84976513]]), matrix([[ 1.00176658],\n",
       "         [-0.38974106]]), matrix([[ 0.87272466],\n",
       "         [-0.08288319]]), matrix([[0.67193435],\n",
       "         [0.08878387]]), matrix([[0.47119597],\n",
       "         [0.16261256]]), matrix([[0.30466621],\n",
       "         [0.17599561]]), matrix([[0.18199628],\n",
       "         [0.15812663]]), matrix([[0.09959532],\n",
       "         [0.1282183 ]]), matrix([[0.04865448],\n",
       "         [0.09702717]]), matrix([[0.01983081],\n",
       "         [0.06942655]]), matrix([[0.00535368],\n",
       "         [0.04676498]]), matrix([[-0.00044902],\n",
       "         [ 0.02855565]]), matrix([[-0.00139952],\n",
       "         [ 0.01349726]])]"
      ]
     },
     "execution_count": 17,
     "metadata": {},
     "output_type": "execute_result"
    }
   ],
   "source": [
    "ddp.us"
   ]
  },
  {
   "cell_type": "code",
   "execution_count": 18,
   "metadata": {},
   "outputs": [
    {
     "data": {
      "text/plain": [
       "True"
      ]
     },
     "execution_count": 18,
     "metadata": {},
     "output_type": "execute_result"
    }
   ],
   "source": [
    "ddp2.solve(ddp.xs, ddp.us)"
   ]
  },
  {
   "cell_type": "code",
   "execution_count": 19,
   "metadata": {},
   "outputs": [
    {
     "data": {
      "text/plain": [
       "1"
      ]
     },
     "execution_count": 19,
     "metadata": {},
     "output_type": "execute_result"
    }
   ],
   "source": [
    "ddp2.iter"
   ]
  },
  {
   "cell_type": "code",
   "execution_count": null,
   "metadata": {},
   "outputs": [],
   "source": []
  }
 ],
 "metadata": {
  "kernelspec": {
   "display_name": "Python 3",
   "language": "python",
   "name": "python3"
  },
  "language_info": {
   "codemirror_mode": {
    "name": "ipython",
    "version": 3
   },
   "file_extension": ".py",
   "mimetype": "text/x-python",
   "name": "python",
   "nbconvert_exporter": "python",
   "pygments_lexer": "ipython3",
   "version": "3.7.4"
  }
 },
 "nbformat": 4,
 "nbformat_minor": 2
}
