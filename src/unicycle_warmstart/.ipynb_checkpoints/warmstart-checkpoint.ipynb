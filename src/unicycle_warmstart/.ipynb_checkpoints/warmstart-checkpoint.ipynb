{
 "cells": [
  {
   "cell_type": "code",
   "execution_count": 2,
   "metadata": {},
   "outputs": [
    {
     "name": "stderr",
     "output_type": "stream",
     "text": [
      "Using TensorFlow backend.\n",
      "/home/a/.local/lib/python3.6/site-packages/tensorflow/python/framework/dtypes.py:516: FutureWarning: Passing (type, 1) or '1type' as a synonym of type is deprecated; in a future version of numpy, it will be understood as (type, (1,)) / '(1,)type'.\n",
      "  _np_qint8 = np.dtype([(\"qint8\", np.int8, 1)])\n",
      "/home/a/.local/lib/python3.6/site-packages/tensorflow/python/framework/dtypes.py:517: FutureWarning: Passing (type, 1) or '1type' as a synonym of type is deprecated; in a future version of numpy, it will be understood as (type, (1,)) / '(1,)type'.\n",
      "  _np_quint8 = np.dtype([(\"quint8\", np.uint8, 1)])\n",
      "/home/a/.local/lib/python3.6/site-packages/tensorflow/python/framework/dtypes.py:518: FutureWarning: Passing (type, 1) or '1type' as a synonym of type is deprecated; in a future version of numpy, it will be understood as (type, (1,)) / '(1,)type'.\n",
      "  _np_qint16 = np.dtype([(\"qint16\", np.int16, 1)])\n",
      "/home/a/.local/lib/python3.6/site-packages/tensorflow/python/framework/dtypes.py:519: FutureWarning: Passing (type, 1) or '1type' as a synonym of type is deprecated; in a future version of numpy, it will be understood as (type, (1,)) / '(1,)type'.\n",
      "  _np_quint16 = np.dtype([(\"quint16\", np.uint16, 1)])\n",
      "/home/a/.local/lib/python3.6/site-packages/tensorflow/python/framework/dtypes.py:520: FutureWarning: Passing (type, 1) or '1type' as a synonym of type is deprecated; in a future version of numpy, it will be understood as (type, (1,)) / '(1,)type'.\n",
      "  _np_qint32 = np.dtype([(\"qint32\", np.int32, 1)])\n",
      "/home/a/.local/lib/python3.6/site-packages/tensorflow/python/framework/dtypes.py:525: FutureWarning: Passing (type, 1) or '1type' as a synonym of type is deprecated; in a future version of numpy, it will be understood as (type, (1,)) / '(1,)type'.\n",
      "  np_resource = np.dtype([(\"resource\", np.ubyte, 1)])\n",
      "/home/a/.local/lib/python3.6/site-packages/tensorboard/compat/tensorflow_stub/dtypes.py:541: FutureWarning: Passing (type, 1) or '1type' as a synonym of type is deprecated; in a future version of numpy, it will be understood as (type, (1,)) / '(1,)type'.\n",
      "  _np_qint8 = np.dtype([(\"qint8\", np.int8, 1)])\n",
      "/home/a/.local/lib/python3.6/site-packages/tensorboard/compat/tensorflow_stub/dtypes.py:542: FutureWarning: Passing (type, 1) or '1type' as a synonym of type is deprecated; in a future version of numpy, it will be understood as (type, (1,)) / '(1,)type'.\n",
      "  _np_quint8 = np.dtype([(\"quint8\", np.uint8, 1)])\n",
      "/home/a/.local/lib/python3.6/site-packages/tensorboard/compat/tensorflow_stub/dtypes.py:543: FutureWarning: Passing (type, 1) or '1type' as a synonym of type is deprecated; in a future version of numpy, it will be understood as (type, (1,)) / '(1,)type'.\n",
      "  _np_qint16 = np.dtype([(\"qint16\", np.int16, 1)])\n",
      "/home/a/.local/lib/python3.6/site-packages/tensorboard/compat/tensorflow_stub/dtypes.py:544: FutureWarning: Passing (type, 1) or '1type' as a synonym of type is deprecated; in a future version of numpy, it will be understood as (type, (1,)) / '(1,)type'.\n",
      "  _np_quint16 = np.dtype([(\"quint16\", np.uint16, 1)])\n",
      "/home/a/.local/lib/python3.6/site-packages/tensorboard/compat/tensorflow_stub/dtypes.py:545: FutureWarning: Passing (type, 1) or '1type' as a synonym of type is deprecated; in a future version of numpy, it will be understood as (type, (1,)) / '(1,)type'.\n",
      "  _np_qint32 = np.dtype([(\"qint32\", np.int32, 1)])\n",
      "/home/a/.local/lib/python3.6/site-packages/tensorboard/compat/tensorflow_stub/dtypes.py:550: FutureWarning: Passing (type, 1) or '1type' as a synonym of type is deprecated; in a future version of numpy, it will be understood as (type, (1,)) / '(1,)type'.\n",
      "  np_resource = np.dtype([(\"resource\", np.ubyte, 1)])\n"
     ]
    },
    {
     "name": "stdout",
     "output_type": "stream",
     "text": [
      "[name: \"/device:CPU:0\"\n",
      "device_type: \"CPU\"\n",
      "memory_limit: 268435456\n",
      "locality {\n",
      "}\n",
      "incarnation: 9092958876476905749\n",
      ", name: \"/device:XLA_GPU:0\"\n",
      "device_type: \"XLA_GPU\"\n",
      "memory_limit: 17179869184\n",
      "locality {\n",
      "}\n",
      "incarnation: 10545104273648856990\n",
      "physical_device_desc: \"device: XLA_GPU device\"\n",
      ", name: \"/device:XLA_CPU:0\"\n",
      "device_type: \"XLA_CPU\"\n",
      "memory_limit: 17179869184\n",
      "locality {\n",
      "}\n",
      "incarnation: 17731333495084822754\n",
      "physical_device_desc: \"device: XLA_CPU device\"\n",
      "]\n"
     ]
    }
   ],
   "source": [
    "import random\n",
    "from neural_net import train_net\n",
    "import crocoddyl\n",
    "import numpy as np\n",
    "crocoddyl.switchToNumpyArray()\n",
    "random.seed(1)\n",
    "\n",
    "class warmstart():\n",
    "    def __init__(self, n_trajectories: int = 10):\n",
    "        self.__n_trajectories = n_trajectories\n",
    "        \n",
    "    def warm(self):\n",
    "        net = train_net()\n",
    "        neuralNet = net.generate_trained_net()\n",
    "        \"\"\"\n",
    "        state_weight: float = 1., # can use random.uniform(1, 3)\n",
    "                 control_weight: float = 0.3, # can use random.uniform(0,1)\n",
    "                 nodes: int = 20,\n",
    "                    \n",
    "        \"\"\"  \n",
    "        for _ in range(self.__n_trajectories):\n",
    "            initial_config = np.matrix([random.uniform(-2.1, 2.),\n",
    "                                        random.uniform(-2.1, 2.), \n",
    "                                        random.uniform(0, 1)]).T\n",
    "            \n",
    "            model = crocoddyl.ActionModelUnicycle()\n",
    "            model.costWeights = np.matrix([1., .3]).T\n",
    "            problem = crocoddyl.ShootingProblem(initial_config, [ model ] * 20, model)\n",
    "            ddp = crocoddyl.SolverDDP(problem)\n",
    "            x_data = re = np.asarray(initial_config.reshape(1, 3))\n",
    "            prediction = neuralNet.predict(x_data).reshape(20, 5)\n",
    "            xs = np.array(prediction[:, 0:3])\n",
    "            us = np.array(prediction[:, 3:5])\n",
    "            ddp_xs = []\n",
    "            ddp_xs.append(np.array(initial_config.flatten()))\n",
    "            for _ in  range(xs.shape[0]):\n",
    "                ddp_xs.append(np.array(xs[_]))\n",
    "                \n",
    "            ddp_us = []\n",
    "            for _ in  range(us.shape[0]):\n",
    "                ddp_us.append(np.array(us[_]))    \n",
    "            \n",
    "            ddp.solve(init_xs = ddp_xs, init_us = ddp_us)\n",
    "            print(ddp.iter)\n",
    " \n",
    "#warmstart = warmstart()\n",
    "#warmstart.warm()"
   ]
  },
  {
   "cell_type": "code",
   "execution_count": null,
   "metadata": {},
   "outputs": [],
   "source": []
  },
  {
   "cell_type": "code",
   "execution_count": null,
   "metadata": {},
   "outputs": [],
   "source": []
  },
  {
   "cell_type": "code",
   "execution_count": 3,
   "metadata": {},
   "outputs": [
    {
     "name": "stdout",
     "output_type": "stream",
     "text": [
      "(10000, 100)\n",
      "(10000, 3)\n",
      "Train size (9000, 3), (9000, 100), test size (1000, 3), (1000, 100)\n",
      "Training neural net on 10000...\n",
      "WARNING:tensorflow:From /home/a/.local/lib/python3.6/site-packages/keras/backend/tensorflow_backend.py:422: The name tf.global_variables is deprecated. Please use tf.compat.v1.global_variables instead.\n",
      "\n",
      "1000/1000 [==============================] - 0s 97us/step\n",
      "20\n"
     ]
    }
   ],
   "source": [
    "net = train_net()\n",
    "neuralNet = net.generate_trained_net()"
   ]
  },
  {
   "cell_type": "code",
   "execution_count": null,
   "metadata": {},
   "outputs": [],
   "source": []
  },
  {
   "cell_type": "code",
   "execution_count": 2,
   "metadata": {},
   "outputs": [
    {
     "name": "stdout",
     "output_type": "stream",
     "text": [
      "[name: \"/device:CPU:0\"\n",
      "device_type: \"CPU\"\n",
      "memory_limit: 268435456\n",
      "locality {\n",
      "}\n",
      "incarnation: 11633422068830068686\n",
      ", name: \"/device:XLA_GPU:0\"\n",
      "device_type: \"XLA_GPU\"\n",
      "memory_limit: 17179869184\n",
      "locality {\n",
      "}\n",
      "incarnation: 10222422014812950141\n",
      "physical_device_desc: \"device: XLA_GPU device\"\n",
      ", name: \"/device:XLA_CPU:0\"\n",
      "device_type: \"XLA_CPU\"\n",
      "memory_limit: 17179869184\n",
      "locality {\n",
      "}\n",
      "incarnation: 15940546450528203232\n",
      "physical_device_desc: \"device: XLA_CPU device\"\n",
      "]\n",
      "WARNING:tensorflow:From /home/a/.local/lib/python3.6/site-packages/keras/backend/tensorflow_backend.py:422: The name tf.global_variables is deprecated. Please use tf.compat.v1.global_variables instead.\n",
      "\n"
     ]
    }
   ],
   "source": [
    "\"\"\"\n",
    "state_weight: float = 1., # can use random.uniform(1, 3)\n",
    "         control_weight: float = 0.3, # can use random.uniform(0,1)\n",
    "         nodes: int = 20,\n",
    "\n",
    "\"\"\"  \n",
    "\n"
   ]
  },
  {
   "cell_type": "code",
   "execution_count": null,
   "metadata": {},
   "outputs": [],
   "source": []
  },
  {
   "cell_type": "code",
   "execution_count": null,
   "metadata": {},
   "outputs": [],
   "source": [
    "#%%file testing.py\n",
    "\n",
    "\n",
    "from keras.models import load_model\n",
    "import random\n",
    "from neural_net import train_net\n",
    "import crocoddyl\n",
    "import numpy as np\n",
    "crocoddyl.switchToNumpyArray()\n",
    "random.seed(1)\n",
    "neuralNet = load_model('model.h5')\n",
    "\n",
    "\n",
    "initial_config = np.matrix([random.uniform(-2.1, 2.),\n",
    "                            random.uniform(-2.1, 2.), \n",
    "                            random.uniform(0, 1)]).T\n",
    "\n",
    "print(initial_config.shape)\n",
    "\n",
    "\n",
    "model = crocoddyl.ActionModelUnicycle()\n",
    "model.costWeights = np.matrix([1., .3]).T\n",
    "problem = crocoddyl.ShootingProblem(initial_config, [ model ] * 20, model)\n",
    "ddp = crocoddyl.SolverDDP(problem)\n",
    "x_data = re = np.asarray(initial_config.reshape(1, 3))\n",
    "prediction = neuralNet.predict(x_data).reshape(20, 5)\n",
    "xs = np.array(prediction[:, 0:3])\n",
    "us = np.array(prediction[:, 3:5])\n",
    "\n",
    "ddp.xs = []\n",
    "ddp.xs.append(np.array(initial_config.flatten()))\n",
    "for _ in  range(xs.shape[0]):\n",
    "    ddp.xs.append(np.array(xs[_]))\n",
    "\n",
    "ddp.us = []\n",
    "for _ in  range(us.shape[0]):\n",
    "    ddp.us.append(np.array(us[_]))    \n",
    "    \n",
    "#print(len(ddp_xs))   \n",
    "\n",
    "ddp.solve(ddp.xs, ddp.us)\n",
    "print(ddp.iter)\n",
    "#ddp_xs"
   ]
  },
  {
   "cell_type": "code",
   "execution_count": null,
   "metadata": {},
   "outputs": [],
   "source": []
  }
 ],
 "metadata": {
  "kernelspec": {
   "display_name": "Python 3",
   "language": "python",
   "name": "python3"
  },
  "language_info": {
   "codemirror_mode": {
    "name": "ipython",
    "version": 3
   },
   "file_extension": ".py",
   "mimetype": "text/x-python",
   "name": "python",
   "nbconvert_exporter": "python",
   "pygments_lexer": "ipython3",
   "version": "3.6.8"
  }
 },
 "nbformat": 4,
 "nbformat_minor": 2
}
