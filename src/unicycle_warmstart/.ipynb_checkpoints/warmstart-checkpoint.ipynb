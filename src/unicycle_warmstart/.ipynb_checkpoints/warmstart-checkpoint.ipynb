{
 "cells": [
  {
   "cell_type": "code",
   "execution_count": 1,
   "metadata": {},
   "outputs": [],
   "source": [
    "import random\n",
    "import numpy as np\n",
    "import crocoddyl\n",
    "\n",
    "\n",
    "\n",
    "def iteration_analysis(MAXITER:int =1000):\n",
    "    \"\"\"\n",
    "    Script to store the number of iterations crocoddyl takes to generate a trajectory.\n",
    "    Here, we generate 10K trajectories and store the number of iterations taken by  crocoddyl \n",
    "    for each trajectory\n",
    "    \n",
    "    \"\"\"\n",
    "    iterations = []\n",
    "    not_feasible = 0\n",
    "    \n",
    "    NUM_TRAJ = 10000\n",
    "\n",
    "\n",
    "    for _ in range(NUM_TRAJ):\n",
    "        initial_config = [random.uniform(-2.1, 2.),\n",
    "                                    random.uniform(-2.1, 2.), \n",
    "                                    random.uniform(0, 1)]\n",
    "\n",
    "        model = crocoddyl.ActionModelUnicycle()\n",
    "\n",
    "        model.costWeights = np.matrix([1, 0.3]).T\n",
    "\n",
    "        problem = crocoddyl.ShootingProblem(np.matrix(initial_config).T, [ model ] * 20, model)\n",
    "\n",
    "        ddp = crocoddyl.SolverDDP(problem)\n",
    "\n",
    "        done = ddp.solve([], [], MAXITER)\n",
    "        if not ddp.isFeasible:\n",
    "            not_feasible += 1\n",
    "\n",
    "        else:\n",
    "            iterations.append(ddp.iter)\n",
    "\n",
    "    max_value = max(iterations)\n",
    "    min_value = min(iterations)\n",
    "    avg_value = sum(iterations)//len(iterations)\n",
    "    print(f\"Total trajectories: {NUM_TRAJ}, not feasible trajectories: {not_feasible}\\n\\n\")\n",
    "    print(f'Maximum iterations allowed : {MAXITER}\\n')\n",
    "    print(f\"\\nMinimum iterations -> {min_value}, Maximum iterations -> {max_value}, Average -> {avg_value} \\n\")\n",
    "    print(\"..............\\n\")\n",
    "    \n",
    "    return iterations\n"
   ]
  },
  {
   "cell_type": "code",
   "execution_count": 13,
   "metadata": {},
   "outputs": [
    {
     "name": "stdout",
     "output_type": "stream",
     "text": [
      "Total trajectories: 10000, not feasible trajectories: 0\n",
      "\n",
      "\n",
      " Maximum iterations allowed : 1000\n",
      "\n",
      "\n",
      "Minimum iteration -> 2, maximum iterations -> 692, average ->26 \n",
      "\n",
      "..............\n",
      "\n",
      "Total trajectories: 10000, not feasible trajectories: 0\n",
      "\n",
      "\n",
      " Maximum iterations allowed : 1000\n",
      "\n",
      "\n",
      "Minimum iteration -> 2, maximum iterations -> 428, average ->25 \n",
      "\n",
      "..............\n",
      "\n",
      "Total trajectories: 10000, not feasible trajectories: 0\n",
      "\n",
      "\n",
      " Maximum iterations allowed : 1000\n",
      "\n",
      "\n",
      "Minimum iteration -> 2, maximum iterations -> 947, average ->26 \n",
      "\n",
      "..............\n",
      "\n"
     ]
    }
   ],
   "source": [
    "Group1 = iteration_analysis()\n",
    "Group2 = iteration_analysis()\n",
    "Group3 = iteration_analysis()"
   ]
  },
  {
   "cell_type": "code",
   "execution_count": null,
   "metadata": {},
   "outputs": [],
   "source": []
  }
 ],
 "metadata": {
  "kernelspec": {
   "display_name": "Python 3",
   "language": "python",
   "name": "python3"
  },
  "language_info": {
   "codemirror_mode": {
    "name": "ipython",
    "version": 3
   },
   "file_extension": ".py",
   "mimetype": "text/x-python",
   "name": "python",
   "nbconvert_exporter": "python",
   "pygments_lexer": "ipython3",
   "version": "3.6.8"
  }
 },
 "nbformat": 4,
 "nbformat_minor": 2
}
