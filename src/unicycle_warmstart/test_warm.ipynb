{
 "cells": [
  {
   "cell_type": "code",
   "execution_count": 1,
   "metadata": {},
   "outputs": [
    {
     "name": "stdout",
     "output_type": "stream",
     "text": [
      "[[-1.88530924]\n",
      " [-1.74253462]\n",
      " [ 0.40724176]]\n"
     ]
    },
    {
     "data": {
      "text/plain": [
       "True"
      ]
     },
     "execution_count": 1,
     "metadata": {},
     "output_type": "execute_result"
    }
   ],
   "source": [
    "import crocoddyl, numpy as np, random\n",
    "#crocoddyl.switchToNumpyMatrix()\n",
    "\n",
    "random.seed(123)\n",
    "\n",
    "test_state = np.matrix([random.uniform(-2.1, 2.),\n",
    "                            random.uniform(-2.1, 2.), \n",
    "                            random.uniform(0, 1)]).T\n",
    "\n",
    "model = crocoddyl.ActionModelUnicycle()\n",
    "model_2 = crocoddyl.ActionModelUnicycle()\n",
    "#model.costWeights = np.matrix([self.__state_weight, self.__control_weight]).T\n",
    "problem = crocoddyl.ShootingProblem(test_state, [ model ] * 10, model)\n",
    "\n",
    "problem_2 = crocoddyl.ShootingProblem(test_state, [ model_2 ] * 10, model_2)\n",
    "\n",
    "ddp = crocoddyl.SolverDDP(problem)\n",
    "\n",
    "ddp.solve()\n",
    "print(test_state)\n",
    "\n",
    "\n",
    "\n",
    "ddp_2 = crocoddyl.SolverDDP(problem_2)\n",
    "ddp_2.solve(ddp.xs, ddp.us)"
   ]
  },
  {
   "cell_type": "code",
   "execution_count": 4,
   "metadata": {},
   "outputs": [
    {
     "data": {
      "text/plain": [
       "1"
      ]
     },
     "execution_count": 4,
     "metadata": {},
     "output_type": "execute_result"
    }
   ],
   "source": [
    "ddp_2.iter"
   ]
  },
  {
   "cell_type": "code",
   "execution_count": null,
   "metadata": {},
   "outputs": [],
   "source": []
  }
 ],
 "metadata": {
  "kernelspec": {
   "display_name": "Python 3",
   "language": "python",
   "name": "python3"
  },
  "language_info": {
   "codemirror_mode": {
    "name": "ipython",
    "version": 3
   },
   "file_extension": ".py",
   "mimetype": "text/x-python",
   "name": "python",
   "nbconvert_exporter": "python",
   "pygments_lexer": "ipython3",
   "version": "3.6.8"
  }
 },
 "nbformat": 4,
 "nbformat_minor": 2
}
