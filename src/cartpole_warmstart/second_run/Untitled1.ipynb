{
 "cells": [
  {
   "cell_type": "code",
   "execution_count": 1,
   "metadata": {},
   "outputs": [
    {
     "name": "stdout",
     "output_type": "stream",
     "text": [
      "Writing check_warmstart.py\n"
     ]
    }
   ],
   "source": [
    "%%file check_warmstart.py\n",
    "\n",
    "from keras.models import model_from_json\n",
    "from net import *\n",
    "from keras import optimizers\n",
    "import numpy as np\n",
    "import crocoddyl\n",
    "crocoddyl.switchToNumpyArray()\n",
    "import random\n",
    "from cartpole import *\n",
    "\n",
    "rms = optimizers.RMSprop(lr=0.001, rho=0.9)\n",
    "json_file = open('model_new.json', 'r')\n",
    "loaded_model_json = json_file.read()\n",
    "json_file.close()\n",
    "neuralNet = model_from_json(loaded_model_json)\n",
    "neuralNet.load_weights(\"model_new.h5\")\n",
    "print(\"Loaded model from disk\")\n",
    "\n",
    "\n",
    "\n",
    "\n",
    "for _ in range(0, 1000):from cartpole import *\n",
    "\n",
    "\n",
    "    x0 = [ random.uniform(0,1), random.uniform(-3.14, 3.14), random.uniform(0., 0.99)\n",
    "                    , random.uniform(0., .99)]\n",
    "\n",
    "\n",
    "    model = cartpole_model()\n",
    "    prediction = neuralNet.predict(np.array(x0).reshape(1,4))\n",
    "    prediction = prediction.reshape(100, 5)\n",
    "    ##Every fifth element is control, the first 4 elements are state\n",
    "    ddp_xs, ddp_us = [], []\n",
    "    ddp_xs.append(np.matrix(x0).T)\n",
    "    xs = prediction[:,0:4]\n",
    "    us = prediction[:,4]\n",
    "\n",
    "    for _ in range(xs.shape[0]):\n",
    "        ddp_xs.append(np.matrix(xs[_]).T)\n",
    "\n",
    "    for _ in  range(us.shape[0]):\n",
    "        ddp_us.append(np.matrix(us[_]).T)\n",
    "\n",
    "    T  = 100\n",
    "    problem = crocoddyl.ShootingProblem(np.matrix(x0).T, [ model ]*T, model)\n",
    "    ddp = crocoddyl.SolverDDP(problem)\n",
    "    # Solving this problem\n",
    "    done = ddp.solve(ddp_xs, ddp_us)\n",
    "    print(\"Warmstarting \" , ddp.iter)\n",
    "\n",
    "    del model, prediction, ddp_xs, ddp_us, ddp, problem, T\n",
    "\n",
    "    model2 = cartpole_model()\n",
    "    T  = 100\n",
    "\n",
    "    problem2 = crocoddyl.ShootingProblem(np.matrix(x0).T, [ model2 ]*T, model2)\n",
    "    ddp2 = crocoddyl.SolverDDP(problem2)\n",
    "    done = ddp2.solve()\n",
    "    print(\"Without warstart\", ddp2.iter)"
   ]
  },
  {
   "cell_type": "code",
   "execution_count": 5,
   "metadata": {},
   "outputs": [
    {
     "name": "stdout",
     "output_type": "stream",
     "text": [
      "2\n"
     ]
    }
   ],
   "source": [
    "import numpy as np\n",
    "import crocoddyl\n",
    "from cartpole import *\n",
    "\n",
    "crocoddyl.switchToNumpyArray()\n",
    "import random\n",
    "\n",
    "x0 = [ random.uniform(0,1), random.uniform(-3.14, 3.14), random.uniform(0., 0.99)\n",
    "                    , random.uniform(0., .99)]\n",
    "\n",
    "\n",
    "model = cartpole_model()\n",
    "T  = 100\n",
    "problem = crocoddyl.ShootingProblem(np.matrix(x0).T, [ model ]*T, model)\n",
    "ddp = crocoddyl.SolverDDP(problem)\n",
    "\n",
    "ddp.solve()\n",
    "print(ddp.iter)"
   ]
  },
  {
   "cell_type": "code",
   "execution_count": null,
   "metadata": {},
   "outputs": [],
   "source": []
  }
 ],
 "metadata": {
  "kernelspec": {
   "display_name": "Python 3",
   "language": "python",
   "name": "python3"
  },
  "language_info": {
   "codemirror_mode": {
    "name": "ipython",
    "version": 3
   },
   "file_extension": ".py",
   "mimetype": "text/x-python",
   "name": "python",
   "nbconvert_exporter": "python",
   "pygments_lexer": "ipython3",
   "version": "3.7.4"
  }
 },
 "nbformat": 4,
 "nbformat_minor": 2
}
