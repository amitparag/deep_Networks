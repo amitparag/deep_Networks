{
 "cells": [
  {
   "cell_type": "code",
   "execution_count": 5,
   "metadata": {},
   "outputs": [
    {
     "name": "stdout",
     "output_type": "stream",
     "text": [
      "2\n"
     ]
    }
   ],
   "source": [
    "import numpy as np\n",
    "import crocoddyl\n",
    "from cartpole import *\n",
    "\n",
    "crocoddyl.switchToNumpyArray()\n",
    "import random\n",
    "\n",
    "x0 = [ random.uniform(0,1), random.uniform(-3.14, 3.14), random.uniform(0., 0.99)\n",
    "                    , random.uniform(0., .99)]\n",
    "\n",
    "\n",
    "model = cartpole_model()\n",
    "T  = 100\n",
    "problem = crocoddyl.ShootingProblem(np.matrix(x0).T, [ model ]*T, model)\n",
    "ddp = crocoddyl.SolverDDP(problem)\n",
    "\n",
    "ddp.solve()\n",
    "print(ddp.iter)"
   ]
  },
  {
   "cell_type": "code",
   "execution_count": null,
   "metadata": {},
   "outputs": [],
   "source": []
  }
 ],
 "metadata": {
  "kernelspec": {
   "display_name": "Python 3",
   "language": "python",
   "name": "python3"
  },
  "language_info": {
   "codemirror_mode": {
    "name": "ipython",
    "version": 3
   },
   "file_extension": ".py",
   "mimetype": "text/x-python",
   "name": "python",
   "nbconvert_exporter": "python",
   "pygments_lexer": "ipython3",
   "version": "3.6.9"
  }
 },
 "nbformat": 4,
 "nbformat_minor": 2
}
