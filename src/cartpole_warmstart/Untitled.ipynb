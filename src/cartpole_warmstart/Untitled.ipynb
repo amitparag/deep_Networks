{
 "cells": [
  {
   "cell_type": "code",
   "execution_count": null,
   "metadata": {},
   "outputs": [],
   "source": [
    "from keras.models import model_from_json\n",
    "from neural_net import *\n",
    "\n",
    "def warmstart(test_traj: int = 1, load_model:bool = True):\n",
    "    if load_model:\n",
    "        json_file = open('model.json', 'r')\n",
    "        loaded_model_json = json_file.read()\n",
    "        json_file.close()\n",
    "        neuralNet = model_from_json(loaded_model_json)\n",
    "        loaded_model.load_weights(\"model.h5\")\n",
    "        print(\"Loaded model from disk\")\n",
    "\n",
    "        neuralNet.compile(loss='mean_squared_error',\n",
    "                          optimizer=rms,\n",
    "                          metrics=['mean_squared_error', \"mean_absolute_error\"])\n",
    "        \n",
    "    else:\n",
    "        neuralNet = train_net(ntraj = 10000)\n",
    "        neuralNet.compile(loss='mean_squared_error',\n",
    "                          optimizer=rms,\n",
    "                          metrics=['mean_squared_error', \"mean_absolute_error\"])\n",
    "    for _ in range(test_traj):\n",
    "        \n",
    "        model = cartpole_model()\n",
    "\n",
    "        x0 = [ random.uniform(0,1), random.uniform(-3.14, 3.14), random.uniform(0., 0.99)\n",
    "                        , random.uniform(0., .99)]\n",
    "        \n",
    "        prediction = neuralNet.predict(x0)\n",
    "        \n",
    "        results = \n",
    "\n",
    "        T  = 100\n",
    "        problem = crocoddyl.ShootingProblem(np.matrix(x0).T, [ model ]*T, model)\n",
    "        ddp = crocoddyl.SolverDDP(problem)\n",
    "        # Solving this problem\n",
    "        done = ddp.solve([], [], 1000)\n",
    "        del ddp.xs[0]\n",
    "        \n",
    "        \n",
    "        "
   ]
  },
  {
   "cell_type": "code",
   "execution_count": null,
   "metadata": {},
   "outputs": [],
   "source": [
    "from keras.models import model_from_json\n",
    "from neural_net import *\n",
    "import numpy as np\n",
    "import random\n",
    "\n",
    "json_file = open('model.json', 'r')\n",
    "loaded_model_json = json_file.read()\n",
    "json_file.close()\n",
    "neuralNet = model_from_json(loaded_model_json)\n",
    "loaded_model.load_weights(\"model.h5\")\n",
    "print(\"Loaded model from disk\")\n",
    "\n",
    "neuralNet.compile(loss='mean_squared_error',\n",
    "                  optimizer=rms,\n",
    "                  metrics=['mean_squared_error', \"mean_absolute_error\"])\n",
    "\n",
    "model = cartpole_model()\n",
    "\n",
    "x0 = [ random.uniform(0,1), random.uniform(-3.14, 3.14), random.uniform(0., 0.99)\n",
    "                , random.uniform(0., .99)]\n",
    "\n",
    "prediction = neuralNet.predict(x0).reshape(100, 5)\n",
    "\n",
    "##Every fifth element is control, the first 4 elements are state\n",
    "ddp_xs, ddp_us = [], []\n",
    "ddp_xs.append(np.matrix(x0).T)\n",
    "xs = predictions[:,0:4]\n",
    "us = predictions[:,4]\n",
    "\n",
    "for _ in range(xs.shape[0]):\n",
    "    ddp_xs.append(np.matrix(xs[_]).T)\n",
    "\n",
    "for _ in  range(us.shape[0]):\n",
    "ddp_us.append(np.matrix(us[_]).T)\n",
    "\n",
    "\n",
    "\n",
    "\n",
    "T  = 100\n",
    "problem = crocoddyl.ShootingProblem(np.matrix(x0).T, [ model ]*T, model)\n",
    "ddp = crocoddyl.SolverDDP(problem)\n",
    "# Solving this problem\n",
    "done = ddp.solve(ddp_xs, ddp_us)\n",
    "\n",
    "print(ddp.iter)"
   ]
  },
  {
   "cell_type": "code",
   "execution_count": null,
   "metadata": {},
   "outputs": [],
   "source": []
  },
  {
   "cell_type": "code",
   "execution_count": 67,
   "metadata": {},
   "outputs": [
    {
     "name": "stdout",
     "output_type": "stream",
     "text": [
      "[name: \"/device:CPU:0\"\n",
      "device_type: \"CPU\"\n",
      "memory_limit: 268435456\n",
      "locality {\n",
      "}\n",
      "incarnation: 13739861205323112508\n",
      ", name: \"/device:XLA_GPU:0\"\n",
      "device_type: \"XLA_GPU\"\n",
      "memory_limit: 17179869184\n",
      "locality {\n",
      "}\n",
      "incarnation: 10656024913558531069\n",
      "physical_device_desc: \"device: XLA_GPU device\"\n",
      ", name: \"/device:XLA_CPU:0\"\n",
      "device_type: \"XLA_CPU\"\n",
      "memory_limit: 17179869184\n",
      "locality {\n",
      "}\n",
      "incarnation: 13215368443585859412\n",
      "physical_device_desc: \"device: XLA_CPU device\"\n",
      "]\n"
     ]
    }
   ],
   "source": [
    "\n",
    "import os\n",
    "from multiprocessing import Process, current_process\n",
    "import numpy as np\n",
    "import keras\n",
    "from keras import regularizers\n",
    "from keras import optimizers\n",
    "from keras.models import Sequential\n",
    "from keras.layers import Dense, Activation, Dropout\n",
    "import crocoddyl\n",
    "from tensorflow.python.client import device_lib\n",
    "print(device_lib.list_local_devices())\n",
    "crocoddyl.switchToNumpyArray()\n",
    "import random\n",
    "from model_cartpole import *\n",
    "\n",
    "def get_trajectories(ntraj: int = 2):\n",
    "    \"\"\"\n",
    "    In the cartpole system, each state is 4 dimensional, while the control is 1 dimensional.\n",
    "    Therefore, the each row y_data should be 100 * 5 -> 500. So shape y_data : n_trjac X 500\n",
    "    \n",
    "    \"\"\"\n",
    "    initial_state = []\n",
    "    trajectory = []\n",
    "    for _ in range(ntraj):\n",
    "        \n",
    "        model = cartpole_model()\n",
    "\n",
    "        x0 = [ random.uniform(0,1), random.uniform(-3.14, 3.14), random.uniform(0., 0.99)\n",
    "                        , random.uniform(0., .99)]\n",
    "\n",
    "        T  = 100\n",
    "        problem = crocoddyl.ShootingProblem(np.matrix(x0).T, [ model ]*T, model)\n",
    "        ddp = crocoddyl.SolverDDP(problem)\n",
    "        # Solving this problem\n",
    "        done = ddp.solve([], [], 1000)\n",
    "        del ddp.xs[0]\n",
    "\n",
    "        y = [np.append(np.array(i).T, j) for i, j in zip(ddp.xs, ddp.us)]\n",
    "        initial_state.append(x0)\n",
    "        trajectory.append(np.array(y).flatten())     \n",
    "        \n",
    "    initial_state = np.asarray(initial_state)\n",
    "    trajectory = np.asarray(trajectory)\n",
    "    return initial_state, trajectory"
   ]
  },
  {
   "cell_type": "code",
   "execution_count": 68,
   "metadata": {},
   "outputs": [],
   "source": [
    "x, t = get_trajectories()"
   ]
  },
  {
   "cell_type": "code",
   "execution_count": 69,
   "metadata": {},
   "outputs": [
    {
     "data": {
      "text/plain": [
       "(2, 4)"
      ]
     },
     "execution_count": 69,
     "metadata": {},
     "output_type": "execute_result"
    }
   ],
   "source": [
    "x.shape"
   ]
  },
  {
   "cell_type": "code",
   "execution_count": 70,
   "metadata": {},
   "outputs": [
    {
     "data": {
      "text/plain": [
       "(2, 500)"
      ]
     },
     "execution_count": 70,
     "metadata": {},
     "output_type": "execute_result"
    }
   ],
   "source": [
    "t.shape"
   ]
  },
  {
   "cell_type": "code",
   "execution_count": null,
   "metadata": {},
   "outputs": [],
   "source": []
  },
  {
   "cell_type": "code",
   "execution_count": 62,
   "metadata": {},
   "outputs": [],
   "source": [
    "initial_state = []\n",
    "trajectory = []\n",
    "for _ in range(1):\n",
    "\n",
    "    model = cartpole_model()\n",
    "\n",
    "    x0 = [ random.uniform(0,1), random.uniform(-3.14, 3.14), random.uniform(0., 0.99)\n",
    "                    , random.uniform(0., .99)]\n",
    "\n",
    "    T  = 100\n",
    "    problem = crocoddyl.ShootingProblem(np.matrix(x0).T, [ model ]*T, model)\n",
    "    ddp = crocoddyl.SolverDDP(problem)\n",
    "    # Solving this problem\n",
    "    done = ddp.solve([], [], 1000)\n",
    "    del ddp.xs[0]\n",
    "\n",
    "    y = [np.append(np.array(i).T, j) for i, j in zip(ddp.xs, ddp.us)]\n",
    "    initial_state.append(x0)\n",
    "    trajectory.append(np.array(y).flatten())\n",
    "\n",
    "initial_state = np.asarray(initial_state)\n",
    "trajectory = np.asarray(trajectory)\n"
   ]
  },
  {
   "cell_type": "code",
   "execution_count": 63,
   "metadata": {},
   "outputs": [
    {
     "data": {
      "text/plain": [
       "array([[0.07432075, 0.31644861, 0.79359936, 0.46079197]])"
      ]
     },
     "execution_count": 63,
     "metadata": {},
     "output_type": "execute_result"
    }
   ],
   "source": [
    "initial_state"
   ]
  },
  {
   "cell_type": "code",
   "execution_count": 65,
   "metadata": {},
   "outputs": [
    {
     "data": {
      "text/plain": [
       "(1, 500)"
      ]
     },
     "execution_count": 65,
     "metadata": {},
     "output_type": "execute_result"
    }
   ],
   "source": [
    "trajectory.shape"
   ]
  },
  {
   "cell_type": "code",
   "execution_count": null,
   "metadata": {},
   "outputs": [],
   "source": []
  }
 ],
 "metadata": {
  "kernelspec": {
   "display_name": "Python 3",
   "language": "python",
   "name": "python3"
  },
  "language_info": {
   "codemirror_mode": {
    "name": "ipython",
    "version": 3
   },
   "file_extension": ".py",
   "mimetype": "text/x-python",
   "name": "python",
   "nbconvert_exporter": "python",
   "pygments_lexer": "ipython3",
   "version": "3.6.8"
  }
 },
 "nbformat": 4,
 "nbformat_minor": 2
}
