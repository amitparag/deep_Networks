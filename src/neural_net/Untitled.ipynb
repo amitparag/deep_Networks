{
 "cells": [
  {
   "cell_type": "code",
   "execution_count": 37,
   "metadata": {},
   "outputs": [
    {
     "name": "stderr",
     "output_type": "stream",
     "text": [
      "Using TensorFlow backend.\n",
      "/home/a/.local/lib/python3.6/site-packages/tensorflow/python/framework/dtypes.py:516: FutureWarning: Passing (type, 1) or '1type' as a synonym of type is deprecated; in a future version of numpy, it will be understood as (type, (1,)) / '(1,)type'.\n",
      "  _np_qint8 = np.dtype([(\"qint8\", np.int8, 1)])\n",
      "/home/a/.local/lib/python3.6/site-packages/tensorflow/python/framework/dtypes.py:517: FutureWarning: Passing (type, 1) or '1type' as a synonym of type is deprecated; in a future version of numpy, it will be understood as (type, (1,)) / '(1,)type'.\n",
      "  _np_quint8 = np.dtype([(\"quint8\", np.uint8, 1)])\n",
      "/home/a/.local/lib/python3.6/site-packages/tensorflow/python/framework/dtypes.py:518: FutureWarning: Passing (type, 1) or '1type' as a synonym of type is deprecated; in a future version of numpy, it will be understood as (type, (1,)) / '(1,)type'.\n",
      "  _np_qint16 = np.dtype([(\"qint16\", np.int16, 1)])\n",
      "/home/a/.local/lib/python3.6/site-packages/tensorflow/python/framework/dtypes.py:519: FutureWarning: Passing (type, 1) or '1type' as a synonym of type is deprecated; in a future version of numpy, it will be understood as (type, (1,)) / '(1,)type'.\n",
      "  _np_quint16 = np.dtype([(\"quint16\", np.uint16, 1)])\n",
      "/home/a/.local/lib/python3.6/site-packages/tensorflow/python/framework/dtypes.py:520: FutureWarning: Passing (type, 1) or '1type' as a synonym of type is deprecated; in a future version of numpy, it will be understood as (type, (1,)) / '(1,)type'.\n",
      "  _np_qint32 = np.dtype([(\"qint32\", np.int32, 1)])\n",
      "/home/a/.local/lib/python3.6/site-packages/tensorflow/python/framework/dtypes.py:525: FutureWarning: Passing (type, 1) or '1type' as a synonym of type is deprecated; in a future version of numpy, it will be understood as (type, (1,)) / '(1,)type'.\n",
      "  np_resource = np.dtype([(\"resource\", np.ubyte, 1)])\n",
      "/home/a/.local/lib/python3.6/site-packages/tensorboard/compat/tensorflow_stub/dtypes.py:541: FutureWarning: Passing (type, 1) or '1type' as a synonym of type is deprecated; in a future version of numpy, it will be understood as (type, (1,)) / '(1,)type'.\n",
      "  _np_qint8 = np.dtype([(\"qint8\", np.int8, 1)])\n",
      "/home/a/.local/lib/python3.6/site-packages/tensorboard/compat/tensorflow_stub/dtypes.py:542: FutureWarning: Passing (type, 1) or '1type' as a synonym of type is deprecated; in a future version of numpy, it will be understood as (type, (1,)) / '(1,)type'.\n",
      "  _np_quint8 = np.dtype([(\"quint8\", np.uint8, 1)])\n",
      "/home/a/.local/lib/python3.6/site-packages/tensorboard/compat/tensorflow_stub/dtypes.py:543: FutureWarning: Passing (type, 1) or '1type' as a synonym of type is deprecated; in a future version of numpy, it will be understood as (type, (1,)) / '(1,)type'.\n",
      "  _np_qint16 = np.dtype([(\"qint16\", np.int16, 1)])\n",
      "/home/a/.local/lib/python3.6/site-packages/tensorboard/compat/tensorflow_stub/dtypes.py:544: FutureWarning: Passing (type, 1) or '1type' as a synonym of type is deprecated; in a future version of numpy, it will be understood as (type, (1,)) / '(1,)type'.\n",
      "  _np_quint16 = np.dtype([(\"quint16\", np.uint16, 1)])\n",
      "/home/a/.local/lib/python3.6/site-packages/tensorboard/compat/tensorflow_stub/dtypes.py:545: FutureWarning: Passing (type, 1) or '1type' as a synonym of type is deprecated; in a future version of numpy, it will be understood as (type, (1,)) / '(1,)type'.\n",
      "  _np_qint32 = np.dtype([(\"qint32\", np.int32, 1)])\n",
      "/home/a/.local/lib/python3.6/site-packages/tensorboard/compat/tensorflow_stub/dtypes.py:550: FutureWarning: Passing (type, 1) or '1type' as a synonym of type is deprecated; in a future version of numpy, it will be understood as (type, (1,)) / '(1,)type'.\n",
      "  np_resource = np.dtype([(\"resource\", np.ubyte, 1)])\n"
     ]
    },
    {
     "name": "stdout",
     "output_type": "stream",
     "text": [
      "[name: \"/device:CPU:0\"\n",
      "device_type: \"CPU\"\n",
      "memory_limit: 268435456\n",
      "locality {\n",
      "}\n",
      "incarnation: 9628199341609124880\n",
      ", name: \"/device:XLA_GPU:0\"\n",
      "device_type: \"XLA_GPU\"\n",
      "memory_limit: 17179869184\n",
      "locality {\n",
      "}\n",
      "incarnation: 13259392167708635828\n",
      "physical_device_desc: \"device: XLA_GPU device\"\n",
      ", name: \"/device:XLA_CPU:0\"\n",
      "device_type: \"XLA_CPU\"\n",
      "memory_limit: 17179869184\n",
      "locality {\n",
      "}\n",
      "incarnation: 5181705501328764262\n",
      "physical_device_desc: \"device: XLA_CPU device\"\n",
      "]\n",
      "Train...\n",
      "WARNING:tensorflow:From /home/a/.local/lib/python3.6/site-packages/keras/backend/tensorflow_backend.py:422: The name tf.global_variables is deprecated. Please use tf.compat.v1.global_variables instead.\n",
      "\n",
      "1000/1000 [==============================] - 0s 110us/step\n",
      "[1.7514176473617553, 1.1397342681884766, 0.7316433787345886]\n"
     ]
    }
   ],
   "source": [
    "import numpy as np\n",
    "import random\n",
    "from keras import regularizers\n",
    "from keras import optimizers\n",
    "from keras.models import Sequential\n",
    "from keras.layers import Dense, Activation, Dropout\n",
    "import crocoddyl\n",
    "from tensorflow.python.client import device_lib\n",
    "print(device_lib.list_local_devices())\n",
    "crocoddyl.switchToNumpyMatrix()\n",
    "\n",
    "class regression():\n",
    "    def __init__(self,\n",
    "                 n_trajectories: int = 10000,\n",
    "                 n_hidden: int = 5,\n",
    "                 state_weight: float = 1., \n",
    "                 control_weight: float = .3, \n",
    "                 nodes: int = 3,\n",
    "                 save_trajectories: bool = False,\n",
    "                 save_model: bool = False,\n",
    "                 plot: bool = False):\n",
    "        \n",
    "        self.__n_trajectories = n_trajectories\n",
    "        self.__state_weight = state_weight\n",
    "        self.__control_weight = control_weight\n",
    "        self.__nodes = nodes\n",
    "        self.__n_hidden = n_hidden\n",
    "        self.save_trajectories = save_trajectories\n",
    "        self.save_model = save_model\n",
    "        self.plot = plot\n",
    "        \n",
    "        \n",
    "    def _generate_trajectories(self):\n",
    "        \"\"\"\n",
    "        This could be done better with pool. But since we are generating a maximum of 10K trajectories,\n",
    "        there' no need for pool\n",
    "        \"\"\"\n",
    "\n",
    "        starting_configurations = []\n",
    "        optimal_trajectories = []\n",
    "        feasible_trajectories = 0\n",
    "        for _ in range(self.__n_trajectories):\n",
    "            initial_config = np.matrix([random.uniform(-2.1, 2.),\n",
    "                                        random.uniform(-2.1, 2.),\n",
    "                                        random.uniform(0, 1)]).T\n",
    "            model = crocoddyl.ActionModelUnicycle()\n",
    "            model.costWeights = np.matrix([self.__state_weight, self.__control_weight]).T\n",
    "            problem = crocoddyl.ShootingProblem(initial_config, [ model ] * self.__nodes, model)\n",
    "            ddp = crocoddyl.SolverDDP(problem)\n",
    "            ddp.solve()\n",
    "            if ddp.isFeasible:\n",
    "                state = np.squeeze(np.asarray(ddp.xs[1:]))\n",
    "                control = np.squeeze(np.asarray(ddp.us))\n",
    "                feasible_trajectories += 1\n",
    "                complete_trajectory = np.hstack((state, control))      \n",
    "                starting_configurations.append(np.squeeze(np.asarray(initial_config)))\n",
    "                optimal_trajectories.append(complete_trajectory.flatten())\n",
    "\n",
    "        starting_configurations = np.asarray(starting_configurations)\n",
    "        optimal_trajectories = np.asarray(optimal_trajectories)\n",
    "        if self.save_trajectories:\n",
    "            f = open('../../data/x_data.pkl', 'wb')\n",
    "            cPickle.dump(starting_configurations, f, protocol=cPickle.HIGHEST_PROTOCOL)\n",
    "            g = open(\"../../data/y_data.pkl\", \"wb\")\n",
    "            cPickle.dump(optimal_trajectories, g, protocol=cPickle.HIGHEST_PROTOCOL)\n",
    "            f.close(), g.close()\n",
    "\n",
    "\n",
    "\n",
    "        return starting_configurations, optimal_trajectories, feasible_trajectories\n",
    "    \n",
    "    def keras_net(self, save: bool = False):\n",
    "        starting_configurations, optimal_trajectories, feasible_trajectories = self._generate_trajectories()\n",
    "        x_train = starting_configurations[0 : 9000, :]\n",
    "        y_train = optimal_trajectories[0 : 9000, :]\n",
    "        x_test = starting_configurations[9000 :, :]\n",
    "        y_test = optimal_trajectories[9000 :, :]\n",
    "        model = Sequential()\n",
    "        model.add(Dense(256,\n",
    "                        activation = 'relu',\n",
    "                        input_shape = (starting_configurations.shape[1],)))\n",
    "        for _ in range(self.__n_hidden):\n",
    "            model.add(Dense(256,\n",
    "                            activation = \"tanh\",\n",
    "                            kernel_initializer='random_uniform',\n",
    "                            kernel_regularizer=regularizers.l2(0.01),\n",
    "                            activity_regularizer=regularizers.l1(0.01)))            \n",
    "            model.add(Dropout(0.25))\n",
    "            \n",
    "        model.add(Dense(optimal_trajectories.shape[1], \n",
    "                        activation = 'linear'))\n",
    "        \n",
    "        sgd = optimizers.SGD(lr=0.01, decay=1e-6, momentum=0.9, nesterov=True)\n",
    "        model.compile(loss='mean_squared_error',\n",
    "              optimizer=sgd,\n",
    "              metrics=['mean_squared_error', \"mean_absolute_error\"])\n",
    "        \n",
    "        print('Train...')\n",
    "        \n",
    "        model.fit(x_train, \n",
    "                  y_train,\n",
    "                  batch_size = 32,\n",
    "                  epochs = 200,\n",
    "                  verbose = 0\n",
    "                  )\n",
    "        \n",
    "        score = model.evaluate(x_test, y_test, batch_size = 16, use_multiprocessing=True)\n",
    "        \n",
    "        print(score)\n",
    "        return model\n",
    "        \n",
    "\n",
    "regression = regression()\n",
    "neural_net = regression.keras_net()"
   ]
  },
  {
   "cell_type": "code",
   "execution_count": 38,
   "metadata": {},
   "outputs": [
    {
     "name": "stdout",
     "output_type": "stream",
     "text": [
      "Model: \"sequential_1\"\n",
      "_________________________________________________________________\n",
      "Layer (type)                 Output Shape              Param #   \n",
      "=================================================================\n",
      "dense_1 (Dense)              (None, 256)               1024      \n",
      "_________________________________________________________________\n",
      "dense_2 (Dense)              (None, 256)               65792     \n",
      "_________________________________________________________________\n",
      "dropout_1 (Dropout)          (None, 256)               0         \n",
      "_________________________________________________________________\n",
      "dense_3 (Dense)              (None, 256)               65792     \n",
      "_________________________________________________________________\n",
      "dropout_2 (Dropout)          (None, 256)               0         \n",
      "_________________________________________________________________\n",
      "dense_4 (Dense)              (None, 256)               65792     \n",
      "_________________________________________________________________\n",
      "dropout_3 (Dropout)          (None, 256)               0         \n",
      "_________________________________________________________________\n",
      "dense_5 (Dense)              (None, 256)               65792     \n",
      "_________________________________________________________________\n",
      "dropout_4 (Dropout)          (None, 256)               0         \n",
      "_________________________________________________________________\n",
      "dense_6 (Dense)              (None, 256)               65792     \n",
      "_________________________________________________________________\n",
      "dropout_5 (Dropout)          (None, 256)               0         \n",
      "_________________________________________________________________\n",
      "dense_7 (Dense)              (None, 15)                3855      \n",
      "=================================================================\n",
      "Total params: 333,839\n",
      "Trainable params: 333,839\n",
      "Non-trainable params: 0\n",
      "_________________________________________________________________\n"
     ]
    }
   ],
   "source": [
    "neural_net.summary()"
   ]
  },
  {
   "cell_type": "code",
   "execution_count": 41,
   "metadata": {},
   "outputs": [
    {
     "data": {
      "text/plain": [
       "15"
      ]
     },
     "execution_count": 41,
     "metadata": {},
     "output_type": "execute_result"
    }
   ],
   "source": [
    "neural_net.output_shape[1]"
   ]
  },
  {
   "cell_type": "code",
   "execution_count": null,
   "metadata": {},
   "outputs": [],
   "source": [
    "optimal_trajectories =  []\n",
    "starting_configurations = []\n",
    "\n",
    "initial_config = np.matrix([random.uniform(-2.1, 2.),\n",
    "                            random.uniform(-2.1, 2.),\n",
    "                            random.uniform(0, 1)]).T\n",
    "model = crocoddyl.ActionModelUnicycle()\n",
    "problem = crocoddyl.ShootingProblem(initial_config, [ model ] * 3 , model)\n",
    "ddp = crocoddyl.SolverDDP(problem)\n",
    "ddp.solve()\n",
    "if ddp.isFeasible:\n",
    "    ddp_xs = np.squeeze(np.asarray(ddp.xs))\n",
    "    ddp_us = np.squeeze(np.asarray(ddp.us))\n",
    "    #feasible_trajectories += 1\n",
    "    x = ddp_xs[1:,0]\n",
    "    y = ddp_xs[1:,1]\n",
    "    theta = ddp_xs[1:,2]\n",
    "    velocity = ddp_us[:,0]\n",
    "    torque = ddp_us[:,1]\n",
    "    optimal_trajectory = np.hstack((x, y, theta, velocity, torque))\n",
    "    starting_configurations.append(np.squeeze(np.asarray(initial_config)))\n",
    "    optimal_trajectories.append(optimal_trajectory)"
   ]
  },
  {
   "cell_type": "code",
   "execution_count": null,
   "metadata": {},
   "outputs": [],
   "source": [
    "?ddp.solve"
   ]
  },
  {
   "cell_type": "code",
   "execution_count": 100,
   "metadata": {},
   "outputs": [
    {
     "name": "stdout",
     "output_type": "stream",
     "text": [
      "[[-0.02329496 -0.05480011  0.38448283]\n",
      " [ 0.09460708 -1.1553668  -0.01770783]\n",
      " [-0.04531938  0.3147722   0.05512296]\n",
      " [-0.6836708  -0.01413833 -0.04145358]\n",
      " [ 0.2857213   0.02421111 -0.31900278]]\n",
      "[-0.02329496  0.09460708 -0.04531938]\n",
      "[-0.05480011 -1.1553668   0.3147722 ]\n",
      "[ 0.38448283 -0.01770783  0.05512296]\n"
     ]
    },
    {
     "data": {
      "text/plain": [
       "'\\nmodel = crocoddyl.ActionModelUnicycle()\\n#model.costWeights = np.matrix([self.__state_weight, self.__control_weight]).T\\nproblem = crocoddyl.ShootingProblem(initial_config, [ model ] * 3, model)\\nddp = crocoddyl.SolverDDP(problem)\\nddp.solve(states, controls)\\nprint(ddp.iter)\\n'"
      ]
     },
     "execution_count": 100,
     "metadata": {},
     "output_type": "execute_result"
    }
   ],
   "source": [
    "result = neural_net.predict(np.asarray(initial_config).T)\n",
    "result = result.reshape(5, 3)\n",
    "print(result)\n",
    "states, controls = [], []\n",
    "\n",
    "\n",
    "states.append(np.asarray(initial_config).T)\n",
    "for i in range(result.shape[1] ):\n",
    "    xs = result[0:3, i]\n",
    "    us = result[3:5, i]\n",
    "    print(xs)\n",
    "    states.extend(xs)\n",
    "    controls.extend(us)\n",
    "\n",
    "\n",
    "states\n",
    "\"\"\"\n",
    "model = crocoddyl.ActionModelUnicycle()\n",
    "#model.costWeights = np.matrix([self.__state_weight, self.__control_weight]).T\n",
    "problem = crocoddyl.ShootingProblem(initial_config, [ model ] * 3, model)\n",
    "ddp = crocoddyl.SolverDDP(problem)\n",
    "ddp.solve(states, controls)\n",
    "print(ddp.iter)\n",
    "\"\"\""
   ]
  },
  {
   "cell_type": "code",
   "execution_count": 99,
   "metadata": {},
   "outputs": [],
   "source": [
    "result = neural_net.predict(np.asarray(initial_config).T)"
   ]
  },
  {
   "cell_type": "code",
   "execution_count": 44,
   "metadata": {},
   "outputs": [
    {
     "data": {
      "text/plain": [
       "array([[-0.02329496, -0.05480011,  0.38448283,  0.09460708, -1.1553668 ,\n",
       "        -0.01770783, -0.04531938,  0.3147722 ,  0.05512296, -0.6836708 ,\n",
       "        -0.01413833, -0.04145358,  0.2857213 ,  0.02421111, -0.31900278]],\n",
       "      dtype=float32)"
      ]
     },
     "execution_count": 44,
     "metadata": {},
     "output_type": "execute_result"
    }
   ],
   "source": [
    "result"
   ]
  },
  {
   "cell_type": "code",
   "execution_count": 45,
   "metadata": {},
   "outputs": [],
   "source": [
    "result = result.reshape(5, 3)"
   ]
  },
  {
   "cell_type": "code",
   "execution_count": 52,
   "metadata": {},
   "outputs": [
    {
     "data": {
      "text/plain": [
       "array([[-0.02329496, -0.05480011,  0.38448283],\n",
       "       [ 0.09460708, -1.1553668 , -0.01770783],\n",
       "       [-0.04531938,  0.3147722 ,  0.05512296],\n",
       "       [-0.6836708 , -0.01413833, -0.04145358],\n",
       "       [ 0.2857213 ,  0.02421111, -0.31900278]], dtype=float32)"
      ]
     },
     "execution_count": 52,
     "metadata": {},
     "output_type": "execute_result"
    }
   ],
   "source": [
    "result"
   ]
  },
  {
   "cell_type": "code",
   "execution_count": 62,
   "metadata": {},
   "outputs": [],
   "source": [
    "ddpx = result[0:3,0]"
   ]
  },
  {
   "cell_type": "code",
   "execution_count": 60,
   "metadata": {},
   "outputs": [],
   "source": [
    "ddpu = result[3:5,0]"
   ]
  },
  {
   "cell_type": "code",
   "execution_count": 63,
   "metadata": {},
   "outputs": [
    {
     "data": {
      "text/plain": [
       "array([-0.02329496,  0.09460708, -0.04531938], dtype=float32)"
      ]
     },
     "execution_count": 63,
     "metadata": {},
     "output_type": "execute_result"
    }
   ],
   "source": [
    "ddpx"
   ]
  },
  {
   "cell_type": "code",
   "execution_count": 61,
   "metadata": {},
   "outputs": [
    {
     "data": {
      "text/plain": [
       "array([-0.6836708,  0.2857213], dtype=float32)"
      ]
     },
     "execution_count": 61,
     "metadata": {},
     "output_type": "execute_result"
    }
   ],
   "source": [
    "ddpu"
   ]
  },
  {
   "cell_type": "code",
   "execution_count": 69,
   "metadata": {},
   "outputs": [],
   "source": [
    "ddp_xsss = []\n",
    "ddp_xsss.append(np.asarray(initial_config).T)\n",
    "for i in range(result.shape[1] ):\n",
    "    ddp_xsss.append(result[0:3,i])\n",
    "    "
   ]
  },
  {
   "cell_type": "code",
   "execution_count": 71,
   "metadata": {},
   "outputs": [
    {
     "data": {
      "text/plain": [
       "[array([[-1.99219852, -0.21884292,  0.43390863]]),\n",
       " array([-0.02329496,  0.09460708, -0.04531938], dtype=float32),\n",
       " array([-0.05480011, -1.1553668 ,  0.3147722 ], dtype=float32),\n",
       " array([ 0.38448283, -0.01770783,  0.05512296], dtype=float32)]"
      ]
     },
     "execution_count": 71,
     "metadata": {},
     "output_type": "execute_result"
    }
   ],
   "source": [
    "ddp_xsss"
   ]
  },
  {
   "cell_type": "code",
   "execution_count": 72,
   "metadata": {},
   "outputs": [],
   "source": [
    "ddp_usss = []\n",
    "for i in range(result.shape[1] ):\n",
    "    ddp_usss.append(result[3:5,i])\n",
    "    "
   ]
  },
  {
   "cell_type": "code",
   "execution_count": 73,
   "metadata": {},
   "outputs": [
    {
     "data": {
      "text/plain": [
       "[array([-0.6836708,  0.2857213], dtype=float32),\n",
       " array([-0.01413833,  0.02421111], dtype=float32),\n",
       " array([-0.04145358, -0.31900278], dtype=float32)]"
      ]
     },
     "execution_count": 73,
     "metadata": {},
     "output_type": "execute_result"
    }
   ],
   "source": [
    "ddp_usss"
   ]
  },
  {
   "cell_type": "code",
   "execution_count": null,
   "metadata": {},
   "outputs": [],
   "source": [
    "result_v"
   ]
  },
  {
   "cell_type": "code",
   "execution_count": null,
   "metadata": {},
   "outputs": [],
   "source": [
    "result_w"
   ]
  },
  {
   "cell_type": "code",
   "execution_count": null,
   "metadata": {},
   "outputs": [],
   "source": [
    "?ddp.solve()"
   ]
  },
  {
   "cell_type": "code",
   "execution_count": 6,
   "metadata": {},
   "outputs": [],
   "source": [
    "import crocoddyl, numpy as np, random\n",
    "\n",
    "starting_configurations = []\n",
    "optimal_trajectories = []\n",
    "feasible_trajectories = 0\n",
    "\n",
    "\n",
    "for _ in range(1):\n",
    "    initial_config = np.matrix([random.uniform(-2.1, 2.),\n",
    "                                random.uniform(-2.1, 2.),\n",
    "                                random.uniform(0, 1)]).T\n",
    "    model = crocoddyl.ActionModelUnicycle()\n",
    "    #model.costWeights = np.matrix([self.__state_weight, self.__control_weight]).T\n",
    "    problem = crocoddyl.ShootingProblem(initial_config, [ model ] * 10, model)\n",
    "    ddp = crocoddyl.SolverDDP(problem)\n",
    "    ddp.solve()\n",
    "    if ddp.isFeasible:\n",
    "        state = np.squeeze(np.asarray(ddp.xs[1:]))\n",
    "        control = np.squeeze(np.asarray(ddp.us))\n",
    "        feasible_trajectories += 1\n",
    "        complete_trajectory = np.hstack((state, control))      \n",
    "        starting_configurations.append(np.squeeze(np.asarray(initial_config)))\n",
    "        optimal_trajectories.append(complete_trajectory)\n",
    "        \n",
    "        return "
   ]
  },
  {
   "cell_type": "code",
   "execution_count": 23,
   "metadata": {},
   "outputs": [],
   "source": [
    "state = np.squeeze(np.asarray(ddp.xs[1:]))"
   ]
  },
  {
   "cell_type": "code",
   "execution_count": 24,
   "metadata": {},
   "outputs": [],
   "source": [
    "control = np.squeeze(np.asarray(ddp.us))"
   ]
  },
  {
   "cell_type": "code",
   "execution_count": 25,
   "metadata": {},
   "outputs": [],
   "source": [
    "complete_tra = np.hstack((state, control))"
   ]
  },
  {
   "cell_type": "code",
   "execution_count": 35,
   "metadata": {},
   "outputs": [
    {
     "data": {
      "text/plain": [
       "array([[-1.07194027e+00,  2.07568212e-01, -9.60869705e-02],\n",
       "       [-4.06170166e-01,  1.43398773e-01, -1.29187910e-01],\n",
       "       [-1.31904203e-01,  1.07768488e-01, -7.73940068e-02],\n",
       "       [-3.59080042e-02,  1.00324088e-01, -3.65488553e-02],\n",
       "       [-7.45210159e-03,  9.92835941e-02, -1.53240771e-02],\n",
       "       [-5.74350558e-04,  9.91781907e-02, -6.01285285e-03],\n",
       "       [ 5.16586748e-04,  9.91716310e-02, -2.28170604e-03],\n",
       "       [ 4.17741518e-04,  9.91718565e-02, -8.61671348e-04],\n",
       "       [ 2.28699947e-04,  9.91720194e-02, -3.40802806e-04],\n",
       "       [ 1.31249013e-04,  9.91720526e-02, -1.70401403e-04]])"
      ]
     },
     "execution_count": 35,
     "metadata": {},
     "output_type": "execute_result"
    }
   ],
   "source": [
    "state"
   ]
  },
  {
   "cell_type": "code",
   "execution_count": 32,
   "metadata": {},
   "outputs": [],
   "source": [
    "rl = complete_tra.flatten()"
   ]
  },
  {
   "cell_type": "code",
   "execution_count": 34,
   "metadata": {},
   "outputs": [
    {
     "data": {
      "text/plain": [
       "array([[-1.07194027e+00,  2.07568212e-01, -9.60869705e-02,\n",
       "         1.01424933e+01, -5.29995602e+00],\n",
       "       [-4.06170166e-01,  1.43398773e-01, -1.29187910e-01,\n",
       "         6.68855397e+00, -3.31009391e-01],\n",
       "       [-1.31904203e-01,  1.07768488e-01, -7.73940068e-02,\n",
       "         2.76570670e+00,  5.17939028e-01],\n",
       "       [-3.59080042e-02,  1.00324088e-01, -3.65488553e-02,\n",
       "         9.62844190e-01,  4.08451515e-01],\n",
       "       [-7.45210159e-03,  9.92835941e-02, -1.53240771e-02,\n",
       "         2.84749192e-01,  2.12247782e-01],\n",
       "       [-5.74350558e-04,  9.91781907e-02, -6.01285285e-03,\n",
       "         6.87855865e-02,  9.31122423e-02],\n",
       "       [ 5.16586748e-04,  9.91716310e-02, -2.28170604e-03,\n",
       "         1.09095703e-02,  3.73114681e-02],\n",
       "       [ 4.17741518e-04,  9.91718565e-02, -8.61671348e-04,\n",
       "        -9.88454876e-04,  1.42003469e-02],\n",
       "       [ 2.28699947e-04,  9.91720194e-02, -3.40802806e-04,\n",
       "        -1.89041641e-03,  5.20868542e-03],\n",
       "       [ 1.31249013e-04,  9.91720526e-02, -1.70401403e-04,\n",
       "        -9.74509396e-04,  1.70401403e-03]])"
      ]
     },
     "execution_count": 34,
     "metadata": {},
     "output_type": "execute_result"
    }
   ],
   "source": [
    "rl.reshape(10, 5)"
   ]
  },
  {
   "cell_type": "code",
   "execution_count": null,
   "metadata": {},
   "outputs": [],
   "source": []
  }
 ],
 "metadata": {
  "kernelspec": {
   "display_name": "Python 3",
   "language": "python",
   "name": "python3"
  },
  "language_info": {
   "codemirror_mode": {
    "name": "ipython",
    "version": 3
   },
   "file_extension": ".py",
   "mimetype": "text/x-python",
   "name": "python",
   "nbconvert_exporter": "python",
   "pygments_lexer": "ipython3",
   "version": "3.6.8"
  }
 },
 "nbformat": 4,
 "nbformat_minor": 2
}
