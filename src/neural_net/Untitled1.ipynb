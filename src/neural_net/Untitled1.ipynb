{
 "cells": [
  {
   "cell_type": "code",
   "execution_count": 13,
   "metadata": {},
   "outputs": [],
   "source": [
    "import numpy as np\n",
    "import random\n",
    "import crocoddyl\n",
    "crocoddyl.switchToNumpyArray()\n",
    "\n",
    "starting_configurations = []\n",
    "optimal_trajectories = []\n",
    "feasible_trajectories = 0\n",
    "\n",
    "initial_config = np.matrix([random.uniform(-2.1, 2.),\n",
    "                            random.uniform(-2.1, 2.), \n",
    "                            random.uniform(0, 1)]).T\n",
    "\n",
    "model = crocoddyl.ActionModelUnicycle()\n",
    "problem = crocoddyl.ShootingProblem(initial_config, [ model ] * 5, model)\n",
    "ddp = crocoddyl.SolverDDP(problem)\n",
    "ddp.solve()\n",
    "if ddp.isFeasible:\n",
    "    ddp_xs = np.squeeze(np.asarray(ddp.xs))\n",
    "    ddp_us = np.squeeze(np.asarray(ddp.us))\n",
    "    feasible_trajectories += 1\n",
    "    x = ddp_xs[1:,0]\n",
    "    y = ddp_xs[1:,1]\n",
    "    theta = ddp_xs[1:,2]\n",
    "    velocity = ddp_us[:,0]\n",
    "    torque = ddp_us[:,1]\n",
    "        "
   ]
  },
  {
   "cell_type": "code",
   "execution_count": 14,
   "metadata": {},
   "outputs": [
    {
     "data": {
      "text/plain": [
       "53"
      ]
     },
     "execution_count": 14,
     "metadata": {},
     "output_type": "execute_result"
    }
   ],
   "source": [
    "ddp.iter"
   ]
  },
  {
   "cell_type": "code",
   "execution_count": null,
   "metadata": {},
   "outputs": [],
   "source": []
  }
 ],
 "metadata": {
  "kernelspec": {
   "display_name": "Python 3",
   "language": "python",
   "name": "python3"
  },
  "language_info": {
   "codemirror_mode": {
    "name": "ipython",
    "version": 3
   },
   "file_extension": ".py",
   "mimetype": "text/x-python",
   "name": "python",
   "nbconvert_exporter": "python",
   "pygments_lexer": "ipython3",
   "version": "3.6.8"
  }
 },
 "nbformat": 4,
 "nbformat_minor": 2
}
