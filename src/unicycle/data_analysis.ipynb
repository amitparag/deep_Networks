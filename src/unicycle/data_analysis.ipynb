{
 "cells": [
  {
   "cell_type": "markdown",
   "metadata": {},
   "source": [
    "iteration analysis for unicycle. Note that in all tests, theta = 0 and cost_weights = [1., 0.3]\n",
    "\n",
    "First: \n",
    "        \n",
    "        10 k points were generated. The maxiter in ddp.solve([], [], maxiter) was alternately set to 100, 500, 1000. So for the same starting points, the number of \n",
    "\n",
    "        iterations taken by crocoddyl to generate an optimal trajectory, remained largely the same when maxiter was changed.\n",
    "\n",
    "        e.g intial_configuration = [1, 1, 0] -> ddp.solve([], [], 100) , ddp2.solve[[], [], 500] and ddp3.solve([], [], 1000).\n",
    "\n",
    "        In a few cases, ddp.iter != ddp2.iter != ddp3.iter.\n",
    "\n",
    "Second: \n",
    "\n",
    "        10 K points were generated. maxiter in ddp.solve was set to 100. Then 10k points were again randomly generated and maxiter was increased to 500.\n",
    "        \n",
    "        This was done one more time, but with maxiter now set to 1000.\n",
    "            "
   ]
  },
  {
   "cell_type": "code",
   "execution_count": 2,
   "metadata": {},
   "outputs": [
    {
     "name": "stdout",
     "output_type": "stream",
     "text": [
      "First: \n",
      "\n",
      "Variance of ddp.iter. For same initial points, ddp.iter remains largely the same, i.e. for a particular x, y, theta , ddp.solve([], [], 100/500/1000) gives the same ddp.iter. \n",
      "This is expected, however, does not give the same result in a few cases. In this example it crocoddyl failed in 2 instances over 10 k points.\n",
      "\n",
      ".......................................................................\n",
      "\n",
      "Second: \n",
      "\n",
      "Allowed iterations : 100  |  Minimum: 1  |  Maximum: 100  | Average: 28.8087 \n",
      "Allowed iterations : 500  |  Minimum: 1  |  Maximum: 151  | Average: 28.8139 \n",
      "Allowed iterations : 1000 |  Minimum: 1  |  Maximum: 151  | Average: 28.8139 \n"
     ]
    }
   ],
   "source": [
    "from iteration import *\n",
    "iter_analysis()"
   ]
  },
  {
   "cell_type": "markdown",
   "metadata": {},
   "source": [
    "![Value Function](value_function.png)\n",
    "![Linear Velocity](linear_velocity.png)\n",
    "![Angular Velocity](angular_velocity.png)"
   ]
  },
  {
   "cell_type": "code",
   "execution_count": null,
   "metadata": {},
   "outputs": [],
   "source": []
  }
 ],
 "metadata": {
  "kernelspec": {
   "display_name": "Python 3",
   "language": "python",
   "name": "python3"
  },
  "language_info": {
   "codemirror_mode": {
    "name": "ipython",
    "version": 3
   },
   "file_extension": ".py",
   "mimetype": "text/x-python",
   "name": "python",
   "nbconvert_exporter": "python",
   "pygments_lexer": "ipython3",
   "version": "3.7.4"
  }
 },
 "nbformat": 4,
 "nbformat_minor": 2
}
