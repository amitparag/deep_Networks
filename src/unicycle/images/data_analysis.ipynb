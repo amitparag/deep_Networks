{
 "cells": [
  {
   "cell_type": "markdown",
   "metadata": {},
   "source": [
    "Cost Weigths fixed to [1., 0.3]. MAXITER set to 1000.\n",
    "\n",
    "Generated 50 starting points from the circumference of a circle, just for better rendition. \n",
    "\n",
    "Otherwise trajectories are all over the place (see the last plot)\n",
    "\n",
    "\n",
    "![trajectories](traj.png)\n",
    "![Value Function](vf.png)\n",
    "![Linear Velocity](lv.png)\n",
    "![Angular Velocity](av.png)\n",
    "![trajc](tr2.png)\n"
   ]
  },
  {
   "cell_type": "code",
   "execution_count": null,
   "metadata": {},
   "outputs": [],
   "source": []
  }
 ],
 "metadata": {
  "kernelspec": {
   "display_name": "Python 3",
   "language": "python",
   "name": "python3"
  },
  "language_info": {
   "codemirror_mode": {
    "name": "ipython",
    "version": 3
   },
   "file_extension": ".py",
   "mimetype": "text/x-python",
   "name": "python",
   "nbconvert_exporter": "python",
   "pygments_lexer": "ipython3",
   "version": "3.7.4"
  }
 },
 "nbformat": 4,
 "nbformat_minor": 2
}
