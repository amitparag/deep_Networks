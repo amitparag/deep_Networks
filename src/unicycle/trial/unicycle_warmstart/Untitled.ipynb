{
 "cells": [
  {
   "cell_type": "code",
   "execution_count": null,
   "metadata": {},
   "outputs": [],
   "source": [
    "from data_net import *\n",
    "import random\n",
    "import numpy as np\n",
    "import crocoddyl\n",
    "from keras.models import load_model\n",
    "\n",
    "neuralNet = train_net()"
   ]
  },
  {
   "cell_type": "code",
   "execution_count": null,
   "metadata": {},
   "outputs": [],
   "source": []
  },
  {
   "cell_type": "code",
   "execution_count": null,
   "metadata": {},
   "outputs": [],
   "source": []
  },
  {
   "cell_type": "code",
   "execution_count": null,
   "metadata": {},
   "outputs": [],
   "source": []
  },
  {
   "cell_type": "code",
   "execution_count": null,
   "metadata": {},
   "outputs": [],
   "source": []
  },
  {
   "cell_type": "code",
   "execution_count": null,
   "metadata": {},
   "outputs": [],
   "source": []
  },
  {
   "cell_type": "code",
   "execution_count": null,
   "metadata": {},
   "outputs": [],
   "source": [
    "\n",
    "\n",
    "print(f\" With warmstart, without warmstart \")\n",
    "    \n",
    "            \n",
    "initial_config = [random.uniform(-2.1, 2.),\n",
    "                            random.uniform(-2.1, 2.), \n",
    "                            random.uniform(0, 1)]\n",
    "\n",
    "model = crocoddyl.ActionModelUnicycle()\n",
    "model2 = crocoddyl.ActionModelUnicycle()\n",
    "\n",
    "model.costWeights = np.matrix([1., .3]).T\n",
    "model2.costWeights = np.matrix([1., .3]).T\n",
    "\n",
    "\n",
    "problem = crocoddyl.ShootingProblem(np.matrix(initial_config).T, [ model ] * 20, model)\n",
    "problem2 = crocoddyl.ShootingProblem(np.matrix(initial_config).T, [ model2 ] * 20, model2)\n",
    "\n",
    "\n",
    "ddp = crocoddyl.SolverDDP(problem)\n",
    "ddp2 = crocoddyl.SolverDDP(problem2)\n",
    "\n",
    "\n",
    "x_data = np.matrix(initial_config).reshape(1, 3)\n",
    "\n",
    "prediction = neuralNet.predict(x_data).reshape(20, 5)\n",
    "\n",
    "xs = np.matrix(prediction[:, 0:3])\n",
    "\n",
    "us = np.matrix(prediction[:, 3:5])\n",
    "\n",
    "\n",
    "ddp_xs = []\n",
    "ddp_xs.append(np.matrix(initial_config).reshape(1, 3).T)\n",
    "for _ in  range(xs.shape[0]):\n",
    "    ddp_xs.append((np.matrix(xs[_]).T))\n",
    "\n",
    "ddp_us = []\n",
    "for _ in  range(us.shape[0]):\n",
    "    ddp_us.append(np.matrix(us[_]).T)\n",
    "\n",
    "ddp.solve(ddp_xs,ddp_us)\n",
    "ddp2.solve()\n",
    "print(\"  \", ddp.iter, \"  \", ddp2.iter)\n",
    "                \n"
   ]
  },
  {
   "cell_type": "code",
   "execution_count": null,
   "metadata": {},
   "outputs": [],
   "source": [
    "ddp_xs[1]"
   ]
  },
  {
   "cell_type": "code",
   "execution_count": null,
   "metadata": {},
   "outputs": [],
   "source": [
    "ddp2.xs[1]"
   ]
  },
  {
   "cell_type": "code",
   "execution_count": null,
   "metadata": {},
   "outputs": [],
   "source": []
  }
 ],
 "metadata": {
  "kernelspec": {
   "display_name": "Python 3",
   "language": "python",
   "name": "python3"
  },
  "language_info": {
   "codemirror_mode": {
    "name": "ipython",
    "version": 3
   },
   "file_extension": ".py",
   "mimetype": "text/x-python",
   "name": "python",
   "nbconvert_exporter": "python",
   "pygments_lexer": "ipython3",
   "version": "3.6.8"
  }
 },
 "nbformat": 4,
 "nbformat_minor": 2
}
