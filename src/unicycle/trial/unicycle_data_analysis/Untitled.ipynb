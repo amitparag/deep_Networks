{
 "cells": [
  {
   "cell_type": "code",
   "execution_count": 3,
   "metadata": {},
   "outputs": [],
   "source": [
    "import random\n",
    "import numpy as np\n",
    "import crocoddyl\n",
    "crocoddyl.switchToNumpyArray()\n",
    "try:\n",
    "   from six.moves import cPickle\n",
    "except:\n",
    "   import pickle as cPickle\n",
    "\n",
    "\n",
    "def generate_trajectories_random_xy(ntraj:int = 10, maxiter:int = 1000, theta_value:int = 0):\n",
    "\n",
    "\n",
    "    starting_configurations = []\n",
    "    optimal_trajectories = []\n",
    "    complete_trajectory = []\n",
    "    controls = []\n",
    "    iterations = []\n",
    "    for _ in range(ntraj):\n",
    "        initial_config = [random.uniform(-2.1, 2.1), random.uniform(-2.1, 2.1), theta_value]            \n",
    "        model = crocoddyl.ActionModelUnicycle()\n",
    "\n",
    "        model.costWeights = np.matrix([1., 0.3]).T\n",
    "\n",
    "        problem = crocoddyl.ShootingProblem(np.matrix(initial_config).T, [ model ] * 100, model)\n",
    "        ddp = crocoddyl.SolverDDP(problem)\n",
    "        ddp.solve([], [], maxiter)\n",
    "\n",
    "\n",
    "        if ddp.isFeasible:initial_config = [random.uniform(-2.1, 2.1), random.uniform(-2.1, 2.1), theta_value]            \n",
    "        model = crocoddyl.ActionModelUnicycle()\n",
    "\n",
    "        model.costWeights = np.matrix([1., 0.3]).T\n",
    "\n",
    "        problem = crocoddyl.ShootingProblem(np.matrix(initial_config).T, [ model ] * 100, model)\n",
    "        ddp = crocoddyl.SolverDDP(problem)\n",
    "        ddp.solve([], [], maxiter)\n",
    "            state = np.array(ddp.xs)\n",
    "            control = np.array(ddp.us)                \n",
    "            starting_configurations.append(state[0,:])\n",
    "            optimal_trajectories.append(state[1:,:])\n",
    "            controls.append(control)\n",
    "            iterations.append(ddp.iter)\n",
    "    return starting_configurations, optimal_trajectories, controls, iterations"
   ]
  },
  {
   "cell_type": "code",
   "execution_count": 116,
   "metadata": {},
   "outputs": [
    {
     "name": "stdout",
     "output_type": "stream",
     "text": [
      "Generating 10k trajectories, theta fixed at 0\n",
      ".......\n",
      "Total allowed iterations: 1000, maximum iterations taken to generate 1 trajectory 67, minimum 10, average 41.8 \n"
     ]
    }
   ],
   "source": [
    "print(\"Generating 10k trajectories, theta fixed at 0\")\n",
    "start, states, controls, iterations = generate_trajectories_random_xy(ntraj=10)\n",
    "print('.......')\n",
    "iterations.sort()\n",
    "print(f\"Total allowed iterations: {1000}, maximum iterations taken to generate 1 trajectory {iterations[-1]}, minimum {iterations[0]}, average {mean(iterations)} \")"
   ]
  },
  {
   "cell_type": "code",
   "execution_count": 141,
   "metadata": {},
   "outputs": [],
   "source": [
    "import matplotlib.pyplot as plt\n",
    "import numpy as np\n",
    "\n",
    "x = state[0:,0]\n",
    "\n",
    "y = state[0:,1]\n",
    "\n",
    "z = np.asarray(control)\n",
    "\n",
    "#plt.contourf(x, y, z, 20, cmap='RdGy')\n",
    "#plt.colorbar()\n",
    "X, Y = np.meshgrid(x, y)"
   ]
  },
  {
   "cell_type": "code",
   "execution_count": 147,
   "metadata": {},
   "outputs": [
    {
     "data": {
      "text/plain": [
       "array([[0.59500045, 0.59500045, 0.59500045, ..., 0.59500045, 0.59500045,\n",
       "        0.59500045],\n",
       "       [0.55001576, 0.55001576, 0.55001576, ..., 0.55001576, 0.55001576,\n",
       "        0.55001576],\n",
       "       [0.44066349, 0.44066349, 0.44066349, ..., 0.44066349, 0.44066349,\n",
       "        0.44066349],\n",
       "       ...,\n",
       "       [0.05768047, 0.05768047, 0.05768047, ..., 0.05768047, 0.05768047,\n",
       "        0.05768047],\n",
       "       [0.05768047, 0.05768047, 0.05768047, ..., 0.05768047, 0.05768047,\n",
       "        0.05768047],\n",
       "       [0.05768047, 0.05768047, 0.05768047, ..., 0.05768047, 0.05768047,\n",
       "        0.05768047]])"
      ]
     },
     "execution_count": 147,
     "metadata": {},
     "output_type": "execute_result"
    }
   ],
   "source": [
    "Y"
   ]
  },
  {
   "cell_type": "code",
   "execution_count": 130,
   "metadata": {},
   "outputs": [
    {
     "data": {
      "text/plain": [
       "100"
      ]
     },
     "execution_count": 130,
     "metadata": {},
     "output_type": "execute_result"
    }
   ],
   "source": [
    "len(z)"
   ]
  },
  {
   "cell_type": "code",
   "execution_count": 148,
   "metadata": {},
   "outputs": [],
   "source": [
    "def f(x, y):\n",
    "    return np.sin(x) ** 10 + np.cos(10 + y * x) * np.cos(x)\n",
    "\n",
    "x = np.linspace(0, 5, 50)\n",
    "y = np.linspace(0, 5, 40)\n",
    "\n",
    "X, Y = np.meshgrid(x, y)\n",
    "Z = np.meshgrid(z)"
   ]
  },
  {
   "cell_type": "code",
   "execution_count": 150,
   "metadata": {},
   "outputs": [
    {
     "data": {
      "text/plain": [
       "[array([ 3.29779480e-02,  2.92061562e+00, -1.56236397e+00,  2.01127283e+00,\n",
       "        -2.30975275e+00,  9.05142529e-01, -2.38380703e+00, -4.55693033e-02,\n",
       "        -2.05522943e+00, -7.38770595e-01, -1.51603579e+00, -1.15027506e+00,\n",
       "        -9.08859062e-01, -1.29319837e+00, -3.48102832e-01, -1.22031707e+00,\n",
       "         9.10924911e-02, -1.01046769e+00,  3.81350260e-01, -7.41399062e-01,\n",
       "         5.32600588e-01, -4.71374626e-01,  5.73505453e-01, -2.35738398e-01,\n",
       "         5.37307839e-01, -5.13982004e-02,  4.54661132e-01,  7.74677541e-02,\n",
       "         3.50829205e-01,  1.54848999e-01,  2.44808587e-01,  1.89484780e-01,\n",
       "         1.49328329e-01,  1.92199620e-01,  7.14585268e-02,  1.73861556e-01,\n",
       "         1.36837895e-02,  1.43997855e-01, -2.47875616e-02,  1.10065596e-01,\n",
       "        -4.67340433e-02,  7.72686691e-02, -5.58374034e-02,  4.87488359e-02,\n",
       "        -5.58884921e-02,  2.59780754e-02, -5.02838944e-02,  9.21666685e-03,\n",
       "        -4.17680498e-02, -2.05216087e-03, -3.23580972e-02, -8.75977314e-03,\n",
       "        -2.33888234e-02, -1.19806494e-02, -1.56241606e-02, -1.27507462e-02,\n",
       "        -9.39433465e-03, -1.19630133e-02, -4.73084338e-03, -1.03222437e-02,\n",
       "        -1.48301019e-03, -8.34083926e-03,  5.91057504e-04, -6.35924938e-03,\n",
       "         1.75995359e-03, -4.57834073e-03,  2.27794730e-03, -3.09473192e-03,\n",
       "         2.36268963e-03, -1.93351888e-03,  2.18650078e-03, -1.07551312e-03,\n",
       "         1.87654885e-03, -4.78037748e-04,  1.52011419e-03, -8.95449618e-05,\n",
       "         1.17213465e-03,  1.41025207e-04,  8.63157137e-04,  2.58974819e-04,\n",
       "         6.06586356e-04,  3.01505770e-04,  4.04692191e-04,  2.97297702e-04,\n",
       "         2.53224345e-04,  2.67210978e-04,  1.44717131e-04,  2.25537180e-04,\n",
       "         7.06868081e-05,  1.81411697e-04,  2.29647656e-05,  1.40156301e-04,\n",
       "        -5.59752368e-06,  1.04432191e-04, -2.08487073e-05,  7.51600328e-05,\n",
       "        -2.73223336e-05,  5.22102364e-05, -2.83680746e-05,  3.48916457e-05,\n",
       "        -2.63483654e-05,  2.22769729e-05, -2.28490975e-05,  1.34042435e-05,\n",
       "        -1.88750301e-05,  7.38940993e-06, -1.50158395e-05,  3.47898651e-06,\n",
       "        -1.15785311e-05,  1.06484592e-06, -8.68766056e-06, -3.22806944e-07,\n",
       "        -6.35769183e-06, -1.03335477e-06, -4.54285036e-06, -1.31758679e-06,\n",
       "        -3.16977222e-06, -1.34929117e-06, -2.15761797e-06, -1.24446847e-06,\n",
       "        -1.42946773e-06, -1.07729039e-06, -9.17940548e-07, -8.92693444e-07,\n",
       "        -5.67198580e-07, -7.15909050e-07, -3.32850858e-07, -5.59412783e-07,\n",
       "        -1.80768817e-07, -4.27816933e-07, -8.54550813e-08, -3.21194895e-07,\n",
       "        -2.83453161e-08, -2.37254661e-07,  3.75319455e-09, -1.72697013e-07,\n",
       "         1.99951495e-08, -1.24016014e-07,  2.65796057e-08, -8.79319497e-08,\n",
       "         2.75949116e-08, -6.15920893e-08,  2.56575837e-08, -4.26323972e-08,\n",
       "         2.23822105e-08, -2.91619584e-08,  1.87184908e-08, -1.97094742e-08,\n",
       "         1.51872592e-08, -1.31556934e-08,  1.20418855e-08, -8.66532169e-09,\n",
       "         9.37594160e-09, -5.62532426e-09,  7.19310099e-09, -3.59248384e-09,\n",
       "         5.45111218e-09, -2.25073584e-09,  4.08840135e-09, -1.37757323e-09,\n",
       "         3.03933656e-09, -8.18267214e-10,  2.24230786e-09, -4.66502999e-10,\n",
       "         1.64341695e-09, -2.50097074e-10,  1.19760820e-09, -1.20630441e-10,\n",
       "         8.68408341e-10, -4.60323657e-11,  6.26994286e-10, -5.34534874e-12,\n",
       "         4.51013460e-10,  1.49239058e-11,  3.23392367e-10,  2.33173687e-11,\n",
       "         2.31251873e-10,  2.51356505e-11,  1.64977882e-10,  2.35877445e-11,\n",
       "         1.17456660e-10,  2.05546175e-11,  8.34636342e-11,  1.70897727e-11,\n",
       "         5.91854546e-11,  1.37427628e-11,  4.18525726e-11,  1.07649539e-11,\n",
       "         2.94605447e-11,  8.23795521e-12,  2.05607847e-11,  6.15194018e-12,\n",
       "         1.41045541e-11,  4.45197789e-12,  9.32698102e-12,  3.06429800e-12,\n",
       "         5.66055213e-12,  1.91024898e-12,  2.66972225e-12,  9.12965157e-13])]"
      ]
     },
     "execution_count": 150,
     "metadata": {},
     "output_type": "execute_result"
    }
   ],
   "source": [
    "Z"
   ]
  },
  {
   "cell_type": "code",
   "execution_count": 284,
   "metadata": {},
   "outputs": [
    {
     "ename": "NameError",
     "evalue": "name 'CallbackDDPLogger' is not defined",
     "output_type": "error",
     "traceback": [
      "\u001b[0;31m---------------------------------------------------------------------------\u001b[0m",
      "\u001b[0;31mNameError\u001b[0m                                 Traceback (most recent call last)",
      "\u001b[0;32m<ipython-input-284-65b2d1ee04c6>\u001b[0m in \u001b[0;36m<module>\u001b[0;34m\u001b[0m\n\u001b[1;32m      7\u001b[0m \u001b[0mproblem\u001b[0m \u001b[0;34m=\u001b[0m \u001b[0mcrocoddyl\u001b[0m\u001b[0;34m.\u001b[0m\u001b[0mShootingProblem\u001b[0m\u001b[0;34m(\u001b[0m\u001b[0mnp\u001b[0m\u001b[0;34m.\u001b[0m\u001b[0mmatrix\u001b[0m\u001b[0;34m(\u001b[0m\u001b[0minitial_config\u001b[0m\u001b[0;34m)\u001b[0m\u001b[0;34m.\u001b[0m\u001b[0mT\u001b[0m\u001b[0;34m,\u001b[0m \u001b[0;34m[\u001b[0m \u001b[0mmodel\u001b[0m \u001b[0;34m]\u001b[0m \u001b[0;34m*\u001b[0m \u001b[0;36m100\u001b[0m\u001b[0;34m,\u001b[0m \u001b[0mmodel\u001b[0m\u001b[0;34m)\u001b[0m\u001b[0;34m\u001b[0m\u001b[0;34m\u001b[0m\u001b[0m\n\u001b[1;32m      8\u001b[0m \u001b[0mddp\u001b[0m \u001b[0;34m=\u001b[0m \u001b[0mcrocoddyl\u001b[0m\u001b[0;34m.\u001b[0m\u001b[0mSolverDDP\u001b[0m\u001b[0;34m(\u001b[0m\u001b[0mproblem\u001b[0m\u001b[0;34m)\u001b[0m\u001b[0;34m\u001b[0m\u001b[0;34m\u001b[0m\u001b[0m\n\u001b[0;32m----> 9\u001b[0;31m \u001b[0mddp\u001b[0m\u001b[0;34m.\u001b[0m\u001b[0msetCallbacks\u001b[0m\u001b[0;34m(\u001b[0m\u001b[0;34m[\u001b[0m\u001b[0mCallbackDDPLogger\u001b[0m\u001b[0;34m(\u001b[0m\u001b[0;34m)\u001b[0m\u001b[0;34m]\u001b[0m\u001b[0;34m)\u001b[0m\u001b[0;34m\u001b[0m\u001b[0;34m\u001b[0m\u001b[0m\n\u001b[0m\u001b[1;32m     10\u001b[0m \u001b[0mprint\u001b[0m\u001b[0;34m(\u001b[0m\u001b[0;34m\"...............\"\u001b[0m\u001b[0;34m)\u001b[0m\u001b[0;34m\u001b[0m\u001b[0;34m\u001b[0m\u001b[0m\n\u001b[1;32m     11\u001b[0m \u001b[0mddp\u001b[0m\u001b[0;34m.\u001b[0m\u001b[0msolve\u001b[0m\u001b[0;34m(\u001b[0m\u001b[0;34m[\u001b[0m\u001b[0;34m]\u001b[0m\u001b[0;34m,\u001b[0m \u001b[0;34m[\u001b[0m\u001b[0;34m]\u001b[0m\u001b[0;34m)\u001b[0m\u001b[0;34m\u001b[0m\u001b[0;34m\u001b[0m\u001b[0m\n",
      "\u001b[0;31mNameError\u001b[0m: name 'CallbackDDPLogger' is not defined"
     ]
    }
   ],
   "source": [
    "from crocoddyl import *\n",
    "initial_config = [random.uniform(-2.1, 2.1), random.uniform(-2.1, 2.1), 0]            \n",
    "model = crocoddyl.ActionModelUnicycle()\n",
    "data  = model.createData() \n",
    "model.costWeights = np.matrix([1., 0.3]).T\n",
    "log = []\n",
    "problem = crocoddyl.ShootingProblem(np.matrix(initial_config).T, [ model ] * 100, model)\n",
    "ddp = crocoddyl.SolverDDP(problem)\n",
    "ddp.setCallbacks([CallbackDDPLogger()])\n",
    "print(\"...............\")\n",
    "ddp.solve([], [])\n",
    "print(\".......\")\n"
   ]
  },
  {
   "cell_type": "code",
   "execution_count": 270,
   "metadata": {},
   "outputs": [
    {
     "data": {
      "text/plain": [
       "array([[0., 0.],\n",
       "       [0., 0.],\n",
       "       [0., 0.]])"
      ]
     },
     "execution_count": 270,
     "metadata": {},
     "output_type": "execute_result"
    }
   ],
   "source": [
    "data"
   ]
  },
  {
   "cell_type": "code",
   "execution_count": 264,
   "metadata": {},
   "outputs": [
    {
     "data": {
      "text/plain": [
       "<crocoddyl.libcrocoddyl_pywrap.CallbackAbstract at 0x7f40764ccc70>"
      ]
     },
     "execution_count": 264,
     "metadata": {},
     "output_type": "execute_result"
    }
   ],
   "source": [
    "log"
   ]
  },
  {
   "cell_type": "code",
   "execution_count": null,
   "metadata": {},
   "outputs": [],
   "source": []
  },
  {
   "cell_type": "code",
   "execution_count": null,
   "metadata": {},
   "outputs": [],
   "source": []
  },
  {
   "cell_type": "code",
   "execution_count": 287,
   "metadata": {},
   "outputs": [],
   "source": [
    "import numpy as np\n",
    "\n",
    "import crocoddyl\n",
    "\n",
    "# Creating an action model for the unicycle system\n",
    "model = crocoddyl.ActionModelUnicycle()\n",
    "\n",
    "# Setting up the cost weights\n",
    "model.r = [\n",
    "    10.,  # state weight\n",
    "    1.  # control weight\n",
    "]\n",
    "\n",
    "# Formulating the optimal control problem\n",
    "T = 20  # number of knots\n",
    "x0 = np.matrix([-1.2, -1.1, 1.]).T  #x,y,theta\n",
    "problem = crocoddyl.ShootingProblem(x0, [model] * T, model)\n",
    "\n",
    "# Creating the DDP solver for this OC problem, defining a logger\n",
    "ddp = crocoddyl.SolverDDP(problem)\n",
    "cost = []\n",
    "ddp.setCallbacks([crocoddyl.CallbackVerbose()])\n",
    "# Solving it with the DDP algorithm\n",
    "ddp.solve([], [])\n",
    "for d in ddp.datas():\n",
    "    cost.append(d.cost)\n",
    "    # Plotting the solution, solver convergence and unicycle motion\n",
    "\n"
   ]
  },
  {
   "cell_type": "code",
   "execution_count": 289,
   "metadata": {},
   "outputs": [
    {
     "data": {
      "text/plain": [
       "[252.027174176234,\n",
       " 45.615980653575264,\n",
       " 6.248861796322507,\n",
       " 0.8228473079171914,\n",
       " 0.11807848045861255,\n",
       " 0.02748693718407192,\n",
       " 0.0157512550234342,\n",
       " 0.01419908993700489,\n",
       " 0.013987395683030531,\n",
       " 0.013957474743217355,\n",
       " 0.013953097794284348,\n",
       " 0.013952439379237945,\n",
       " 0.013952338427390482,\n",
       " 0.01395232278657858,\n",
       " 0.013952320354875695,\n",
       " 0.013952319977361755,\n",
       " 0.013952319919021563,\n",
       " 0.013952319910063116,\n",
       " 0.013952319908697502,\n",
       " 0.013952319908491134,\n",
       " 0.013952319908461847]"
      ]
     },
     "execution_count": 289,
     "metadata": {},
     "output_type": "execute_result"
    }
   ],
   "source": [
    "cost    "
   ]
  },
  {
   "cell_type": "code",
   "execution_count": 204,
   "metadata": {},
   "outputs": [
    {
     "ename": "ArgumentError",
     "evalue": "Python argument types in\n    None.__init__(ShootingProblem, list, list, ActionModelUnicycle)\ndid not match C++ signature:\n    __init__(_object*  self, Eigen::Matrix<double, -1, 1, 0, -1, 1>  initialState, std::vector<crocoddyl::ActionModelAbstract*, std::allocator<crocoddyl::ActionModelAbstract*> >  runningModels, crocoddyl::ActionModelAbstract*  terminalModel)",
     "output_type": "error",
     "traceback": [
      "\u001b[0;31m---------------------------------------------------------------------------\u001b[0m",
      "\u001b[0;31mArgumentError\u001b[0m                             Traceback (most recent call last)",
      "\u001b[0;32m<ipython-input-204-51b02e0f0cfe>\u001b[0m in \u001b[0;36m<module>\u001b[0;34m\u001b[0m\n\u001b[1;32m     68\u001b[0m \u001b[0mmodel\u001b[0m\u001b[0;34m.\u001b[0m\u001b[0mcostWeights\u001b[0m \u001b[0;34m=\u001b[0m \u001b[0mnp\u001b[0m\u001b[0;34m.\u001b[0m\u001b[0mmatrix\u001b[0m\u001b[0;34m(\u001b[0m\u001b[0;34m[\u001b[0m\u001b[0;36m1.\u001b[0m\u001b[0;34m,\u001b[0m \u001b[0;36m0.3\u001b[0m\u001b[0;34m]\u001b[0m\u001b[0;34m)\u001b[0m\u001b[0;34m.\u001b[0m\u001b[0mT\u001b[0m\u001b[0;34m\u001b[0m\u001b[0;34m\u001b[0m\u001b[0m\n\u001b[1;32m     69\u001b[0m \u001b[0;34m\u001b[0m\u001b[0m\n\u001b[0;32m---> 70\u001b[0;31m \u001b[0mproblem\u001b[0m \u001b[0;34m=\u001b[0m \u001b[0mcrocoddyl\u001b[0m\u001b[0;34m.\u001b[0m\u001b[0mShootingProblem\u001b[0m\u001b[0;34m(\u001b[0m\u001b[0;34m[\u001b[0m\u001b[0;36m1\u001b[0m\u001b[0;34m,\u001b[0m \u001b[0;36m1\u001b[0m\u001b[0;34m,\u001b[0m \u001b[0;36m1\u001b[0m\u001b[0;34m]\u001b[0m\u001b[0;34m,\u001b[0m \u001b[0;34m[\u001b[0m \u001b[0mmodel\u001b[0m \u001b[0;34m]\u001b[0m \u001b[0;34m*\u001b[0m \u001b[0;36m100\u001b[0m\u001b[0;34m,\u001b[0m \u001b[0mmodel\u001b[0m\u001b[0;34m)\u001b[0m\u001b[0;34m\u001b[0m\u001b[0;34m\u001b[0m\u001b[0m\n\u001b[0m\u001b[1;32m     71\u001b[0m \u001b[0mddp\u001b[0m \u001b[0;34m=\u001b[0m \u001b[0mcrocoddyl\u001b[0m\u001b[0;34m.\u001b[0m\u001b[0mSolverDDP\u001b[0m\u001b[0;34m(\u001b[0m\u001b[0mproblem\u001b[0m\u001b[0;34m)\u001b[0m\u001b[0;34m\u001b[0m\u001b[0;34m\u001b[0m\u001b[0m\n\u001b[1;32m     72\u001b[0m \u001b[0mddp\u001b[0m\u001b[0;34m.\u001b[0m\u001b[0msolve\u001b[0m\u001b[0;34m(\u001b[0m\u001b[0;34m[\u001b[0m\u001b[0;34m]\u001b[0m\u001b[0;34m,\u001b[0m \u001b[0;34m[\u001b[0m\u001b[0;34m]\u001b[0m\u001b[0;34m,\u001b[0m \u001b[0mmaxiter\u001b[0m\u001b[0;34m)\u001b[0m\u001b[0;34m\u001b[0m\u001b[0;34m\u001b[0m\u001b[0m\n",
      "\u001b[0;31mArgumentError\u001b[0m: Python argument types in\n    None.__init__(ShootingProblem, list, list, ActionModelUnicycle)\ndid not match C++ signature:\n    __init__(_object*  self, Eigen::Matrix<double, -1, 1, 0, -1, 1>  initialState, std::vector<crocoddyl::ActionModelAbstract*, std::allocator<crocoddyl::ActionModelAbstract*> >  runningModels, crocoddyl::ActionModelAbstract*  terminalModel)"
     ]
    }
   ],
   "source": []
  },
  {
   "cell_type": "code",
   "execution_count": null,
   "metadata": {},
   "outputs": [],
   "source": [
    "class _unicycle_analysis:\n",
    "    "
   ]
  }
 ],
 "metadata": {
  "kernelspec": {
   "display_name": "Python 3",
   "language": "python",
   "name": "python3"
  },
  "language_info": {
   "codemirror_mode": {
    "name": "ipython",
    "version": 3
   },
   "file_extension": ".py",
   "mimetype": "text/x-python",
   "name": "python",
   "nbconvert_exporter": "python",
   "pygments_lexer": "ipython3",
   "version": "3.7.4"
  }
 },
 "nbformat": 4,
 "nbformat_minor": 2
}
