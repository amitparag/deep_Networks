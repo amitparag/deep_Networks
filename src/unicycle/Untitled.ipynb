{
 "cells": [
  {
   "cell_type": "code",
   "execution_count": 2,
   "metadata": {},
   "outputs": [],
   "source": [
    "import numpy as np, crocoddyl, random; crocoddyl.switchToNumpyArray()\n"
   ]
  },
  {
   "cell_type": "code",
   "execution_count": 24,
   "metadata": {},
   "outputs": [],
   "source": [
    "starting_configurations, linear_velocity, angular_velocity, value_func = [], [], [], []    \n",
    "iters = []\n",
    "\n",
    "for _ in range(50000):\n",
    "    initial_config = [random.uniform(-1.99, 1.99), random.uniform(-1.99, 1.99), 0]            \n",
    "    model = crocoddyl.ActionModelUnicycle()\n",
    "\n",
    "    model.costWeights = np.matrix([1, 0.3]).T\n",
    "\n",
    "    problem = crocoddyl.ShootingProblem(np.matrix(initial_config).T, [ model ] * 20, model)\n",
    "    ddp = crocoddyl.SolverDDP(problem)\n",
    "    ddp.solve([], [], 1000)\n",
    "    ddp.xs[0]\n",
    "    starting_configurations.append(ddp.xs[0])\n",
    "    linear_velocity.append(ddp.us[0][0])\n",
    "    angular_velocity.append(ddp.us[0][0])\n",
    "    value_func.append(sum(d.cost for d in ddp.datas()))\n",
    "    iters.append(ddp.iter)\n",
    "    \n",
    "starting_configurations = np.squeeze(np.array(starting_configurations))\n",
    "x = starting_configurations[0:,0]\n",
    "y = starting_configurations[0:,1]"
   ]
  },
  {
   "cell_type": "code",
   "execution_count": 25,
   "metadata": {},
   "outputs": [
    {
     "data": {
      "text/plain": [
       "(50000,)"
      ]
     },
     "execution_count": 25,
     "metadata": {},
     "output_type": "execute_result"
    }
   ],
   "source": [
    "np.array(value_func).shape"
   ]
  },
  {
   "cell_type": "code",
   "execution_count": 42,
   "metadata": {},
   "outputs": [
    {
     "name": "stderr",
     "output_type": "stream",
     "text": [
      "/home/a/miniconda/envs/deep_net/lib/python3.7/site-packages/ipykernel_launcher.py:52: UserWarning: linewidths is ignored by contourf\n"
     ]
    },
    {
     "data": {
      "image/png": "[encoded data removed]",
      "text/plain": [
       "<Figure size 432x288 with 2 Axes>"
      ]
     },
     "metadata": {
      "needs_background": "light"
     },
     "output_type": "display_data"
    }
   ],
   "source": [
    "import numpy as np\n",
    "import matplotlib.pyplot as plt\n",
    "from scipy.interpolate import griddata\n",
    "import matplotlib\n",
    "# Load data from CSV\n",
    "#dat = np.genfromtxt('dat.xyz', delimiter=' ',skip_header=0)\n",
    "X_dat = starting_configurations[0:,0]\n",
    "Y_dat = starting_configurations[0:,1]\n",
    "Z_dat = value_func\n",
    "# Color fader\n",
    "\n",
    "fact = 1.0/255.0\n",
    "cdict2 = {'red':  [(0.0,   22*fact,  22*fact),\n",
    "                   (0.25, 133*fact, 133*fact),\n",
    "                   (0.5,  191*fact, 191*fact),\n",
    "                   (0.75, 151*fact, 151*fact),\n",
    "                   (1.0,   25*fact,  25*fact)],\n",
    "         'green': [(0.0,   65*fact,  65*fact),\n",
    "                   (0.25, 182*fact, 182*fact),\n",
    "                   (0.5,  217*fact, 217*fact),\n",
    "                   (0.75, 203*fact, 203*fact),\n",
    "                   (1.0,   88*fact,  88*fact)],\n",
    "         'blue':  [(0.0,  153*fact, 153*fact),\n",
    "                   (0.25, 222*fact, 222*fact),\n",
    "                   (0.5,  214*fact, 214*fact),\n",
    "                   (0.75, 143*fact, 143*fact),\n",
    "                   (1.0,   40*fact,  40*fact)]} \n",
    "my_cmap2 = matplotlib.colors.LinearSegmentedColormap('my_colormap2',cdict2,256)\n",
    "# Convert from pandas dataframes to numpy arrays\n",
    "X, Y, Z, = np.array([]), np.array([]), np.array([])\n",
    "for i in range(len(X_dat)):\n",
    "        X = np.append(X, X_dat[i])\n",
    "        Y = np.append(Y, Y_dat[i])\n",
    "        Z = np.append(Z, Z_dat[i])\n",
    "\n",
    "# create x-y points to be used in heatmap\n",
    "xi = np.linspace(X.min(), X.max(), 1000)\n",
    "yi = np.linspace(Y.min(), Y.max(), 1000)\n",
    "\n",
    "# Z is a matrix of x-y values\n",
    "zi = griddata((X, Y), Z, (xi[None,:], yi[:,None]), method='cubic')\n",
    "\n",
    "# I control the range of my colorbar by removing data \n",
    "# outside of my range of interest\n",
    "#zmin = 3\n",
    "#zmax = 12\n",
    "#zi[(zi<zmin) | (zi>zmax)] = None\n",
    "levels = np.linspace(0, 1, 100)\n",
    "\n",
    "# Create the contour plot\n",
    "CS = plt.contourf(xi, yi, zi, alpha = 0.8, linewidths = 0,  cmap=\"twilight_shifted\",\n",
    "                  vmax=zmax, vmin=zmin)\n",
    "for c in CS.collections:\n",
    "    c.set_edgecolor(\"face\")\n",
    "    c.set_linewidth(0.0000001)\n",
    "plt.colorbar()  \n",
    "plt.show()"
   ]
  },
  {
   "cell_type": "code",
   "execution_count": null,
   "metadata": {},
   "outputs": [],
   "source": []
  }
 ],
 "metadata": {
  "kernelspec": {
   "display_name": "Python 3",
   "language": "python",
   "name": "python3"
  },
  "language_info": {
   "codemirror_mode": {
    "name": "ipython",
    "version": 3
   },
   "file_extension": ".py",
   "mimetype": "text/x-python",
   "name": "python",
   "nbconvert_exporter": "python",
   "pygments_lexer": "ipython3",
   "version": "3.7.4"
  }
 },
 "nbformat": 4,
 "nbformat_minor": 2
}
