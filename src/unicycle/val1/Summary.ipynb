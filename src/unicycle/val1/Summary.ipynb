{
 "cells": [
  {
   "cell_type": "markdown",
   "metadata": {},
   "source": [
    "Dataset: Learning with just state\n",
    "    \n",
    "    1. Training on 1000 trajectories\n",
    "    \n",
    "    2. Mapping from initial x, y, theta(==0) ---> x_i, y_i, theta_i , value function_i\n",
    "            where _i is the ith timestep\n",
    "    \n",
    "Plotting iterations taken for different values of ddp.th_stop.\n",
    "\n",
    "The colorbar denotes iterations.\n",
    "<table><tr>\n",
    "<td> <img src=\"./justState/warmstarted0.1.png\" alt=\"Drawing\" style=\"width: 500px;\"/> </td>\n",
    "<td> <img src=\"./justState/coldStarted0.1.png\" alt=\"Drawing\" style=\"width: 500px;\"/> </td>\n",
    "</tr></table>\n",
    "\n",
    "And the corresponding trajectory is \n",
    "<img src=\"./justState/t0.01.png\" alt=\"Drawing\" style=\"width: 800px;\"/> </td>\n",
    "\n",
    "\n",
    "<table><tr>\n",
    "<td> <img src=\"./justState/warmstarted0.01.png\" alt=\"Drawing\" style=\"width: 500px;\"/> </td>\n",
    "<td> <img src=\"./justState/coldStarted0.01.png\" alt=\"Drawing\" style=\"width: 500px;\"/> </td>\n",
    "</tr></table>\n",
    "\n",
    "<table><tr>\n",
    "<td> <img src=\"./justState/warmstarted0.001.png\" alt=\"Drawing\" style=\"width: 500px;\"/> </td>\n",
    "<td> <img src=\"./justState/coldStarted0.001.png\" alt=\"Drawing\" style=\"width: 500px;\"/> </td>\n",
    "</tr></table>\n",
    "\n"
   ]
  },
  {
   "cell_type": "markdown",
   "metadata": {},
   "source": [
    "Dataset: Learning with just controls\n",
    "    \n",
    "    1. Training on 1000 trajectories\n",
    "    \n",
    "    2. Mapping from initial x, y, theta(==0) ---> us_i, us2_i, value function_i\n",
    "            where _i is the ith timestep\n",
    "    \n",
    "Plotting iterations taken for different values of ddp.th_stop.\n",
    "\n",
    "The colorbar denotes iterations.\n",
    "<table><tr>\n",
    "<td> <img src=\"./justControl/warmstarted0.1.png\" alt=\"Drawing\" style=\"width: 500px;\"/> </td>\n",
    "<td> <img src=\"./justControl/coldStarted0.1.png\" alt=\"Drawing\" style=\"width: 500px;\"/> </td>\n",
    "</tr></table>\n",
    "\n",
    "\n",
    "\n",
    "<table><tr>\n",
    "<td> <img src=\"./justControl/warmstarted0.01.png\" alt=\"Drawing\" style=\"width: 500px;\"/> </td>\n",
    "<td> <img src=\"./justControl/coldStarted0.01.png\" alt=\"Drawing\" style=\"width: 500px;\"/> </td>\n",
    "</tr></table>\n",
    "\n",
    "<table><tr>\n",
    "<td> <img src=\"./justControl/warmstarted0.001.png\" alt=\"Drawing\" style=\"width: 500px;\"/> </td>\n",
    "<td> <img src=\"./justControl/coldStarted0.001.png\" alt=\"Drawing\" style=\"width: 500px;\"/> </td>\n",
    "</tr></table>\n"
   ]
  },
  {
   "cell_type": "code",
   "execution_count": null,
   "metadata": {},
   "outputs": [],
   "source": []
  }
 ],
 "metadata": {
  "kernelspec": {
   "display_name": "Python 3",
   "language": "python",
   "name": "python3"
  },
  "language_info": {
   "codemirror_mode": {
    "name": "ipython",
    "version": 3
   },
   "file_extension": ".py",
   "mimetype": "text/x-python",
   "name": "python",
   "nbconvert_exporter": "python",
   "pygments_lexer": "ipython3",
   "version": "3.6.9"
  }
 },
 "nbformat": 4,
 "nbformat_minor": 2
}
