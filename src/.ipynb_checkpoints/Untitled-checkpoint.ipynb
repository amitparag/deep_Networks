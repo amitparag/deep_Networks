{
 "cells": [
  {
   "cell_type": "code",
   "execution_count": 141,
   "metadata": {},
   "outputs": [
    {
     "ename": "TypeError",
     "evalue": "'NoneType' object is not iterable",
     "output_type": "error",
     "traceback": [
      "\u001b[0;31m---------------------------------------------------------------------------\u001b[0m",
      "\u001b[0;31mTypeError\u001b[0m                                 Traceback (most recent call last)",
      "\u001b[0;32m<ipython-input-141-c33d28678401>\u001b[0m in \u001b[0;36m<module>\u001b[0;34m\u001b[0m\n\u001b[1;32m     87\u001b[0m \u001b[0;34m\u001b[0m\u001b[0m\n\u001b[1;32m     88\u001b[0m \u001b[0mdata\u001b[0m \u001b[0;34m=\u001b[0m \u001b[0mdata\u001b[0m\u001b[0;34m(\u001b[0m\u001b[0;36m10000\u001b[0m\u001b[0;34m)\u001b[0m\u001b[0;34m\u001b[0m\u001b[0;34m\u001b[0m\u001b[0m\n\u001b[0;32m---> 89\u001b[0;31m \u001b[0mstarting_configurations\u001b[0m\u001b[0;34m,\u001b[0m \u001b[0moptimal_trajectories\u001b[0m\u001b[0;34m,\u001b[0m \u001b[0mcorrect\u001b[0m \u001b[0;34m=\u001b[0m \u001b[0mdata\u001b[0m\u001b[0;34m.\u001b[0m\u001b[0mgenerate_trajectories\u001b[0m\u001b[0;34m(\u001b[0m\u001b[0msave\u001b[0m\u001b[0;34m=\u001b[0m \u001b[0;32mTrue\u001b[0m\u001b[0;34m)\u001b[0m\u001b[0;34m\u001b[0m\u001b[0;34m\u001b[0m\u001b[0m\n\u001b[0m",
      "\u001b[0;31mTypeError\u001b[0m: 'NoneType' object is not iterable"
     ]
    }
   ],
   "source": [
    "#%%file data.py\n",
    "import multiprocessing\n",
    "import random \n",
    "try:\n",
    "   from six.moves import cPickle\n",
    "except:\n",
    "   import pickle as cPickle\n",
    "import crocoddyl\n",
    "import numpy as np\n",
    "\n",
    "random.seed(20119)\n",
    "\n",
    "\n",
    "class _Generator:\n",
    "    \"\"\"\n",
    "    Abstract Class to generate trajectories from Crocoddyl for Unicycle\n",
    "    \n",
    "    \"\"\"\n",
    "     \n",
    "        \n",
    "    def generate_trajectories(self, trajectories: int, save: bool):\n",
    "        raise NotImplementedError\n",
    "\n",
    "        \n",
    "class data(_Generator):\n",
    "    \"\"\"\n",
    "    Child class of the abstract generator class\n",
    "    \"\"\"\n",
    "    \n",
    "    def __init__(self, n_trajectories: int = 10, state_weight: float = 1., control_weight: float = 0.3, nodes: int = 20):\n",
    "        \"\"\"\n",
    "        @ Description:\n",
    "           n_trajectories = number of trajectories\n",
    "           state, control weights = Cost weight\n",
    "           nodes = number of knot points\n",
    "        \"\"\"\n",
    "        self.n_trajectories = n_trajectories\n",
    "        self.state_weight = state_weight\n",
    "        self.control_weight = control_weight\n",
    "        self.knots = nodes\n",
    "        \n",
    "        \n",
    "    def generate_trajectories(self, save: bool = False):\n",
    "        \"\"\"\n",
    "        This could be done better with pool. But since we are generating a maximum of 10K trajectories, there' no need for pool\n",
    "        \"\"\"\n",
    "        \n",
    "        starting_configurations = []\n",
    "        optimal_trajectories = []\n",
    "        feasible_trajectories = 0\n",
    "        for _ in range(self.n_trajectories):            \n",
    "            initial_config = np.matrix([random.uniform(-2.1, 2.), random.uniform(-2.1, 2.), random.uniform(0, 1)]).T\n",
    "            model = crocoddyl.ActionModelUnicycle()\n",
    "            model.costWeights = np.matrix([self.state_weight, self.control_weight]).T\n",
    "            problem = crocoddyl.ShootingProblem(initial_config, [ model ] * self.knots, model)\n",
    "            ddp = crocoddyl.SolverDDP(problem)\n",
    "            ddp.solve()\n",
    "            if ddp.isFeasible:\n",
    "                ddp_xs = np.squeeze(np.asarray(ddp.xs))\n",
    "                ddp_us = np.squeeze(np.asarray(ddp.us))\n",
    "                feasible_trajectories += 1\n",
    "                x = ddp_xs[1:,0]\n",
    "                y = ddp_xs[1:,1]\n",
    "                theta = ddp_xs[1:,2]\n",
    "                velocity = ddp_us[:,0]\n",
    "                torque = ddp_us[:,1]\n",
    "                optimal_trajectory = np.hstack((x, y, theta, velocity, torque))\n",
    "                starting_configurations.append(np.squeeze(np.asarray(initial_config)))\n",
    "                optimal_trajectories.append(optimal_trajectory)\n",
    "             \n",
    "        starting_configurations = np.asarray(starting_configurations)\n",
    "        optimal_trajectories = np.asarray(optimal_trajectories)\n",
    "        if save:\n",
    "            f = open('../data/x_data.pkl', 'wb')\n",
    "            cPickle.dump(starting_configurations, f, protocol=cPickle.HIGHEST_PROTOCOL)\n",
    "            g = open(\"../data/y_data.pkl\", \"wb\")\n",
    "            cPickle.dump(optimal_trajectories, g, protocol=cPickle.HIGHEST_PROTOCOL)\n",
    "            f.close(), g.close()\n",
    "            del starting_configurations, optimal_trajectories\n",
    "            \n",
    "        else:\n",
    "            return starting_configurations, optimal_trajectories, feasible_trajectories     \n",
    "                \n",
    "            \n",
    "        \n",
    "\n",
    "        \n",
    "data = data(10000)\n",
    "starting_configurations, optimal_trajectories, correct = data.generate_trajectories(save = False)\n"
   ]
  },
  {
   "cell_type": "code",
   "execution_count": 137,
   "metadata": {},
   "outputs": [
    {
     "name": "stdout",
     "output_type": "stream",
     "text": [
      "(10000, 3)\n",
      "(10000, 100)\n",
      "10000\n"
     ]
    }
   ],
   "source": [
    "print(starting_configurations.shape)\n",
    "print(optimal_trajectories.shape)\n",
    "print(correct)"
   ]
  },
  {
   "cell_type": "code",
   "execution_count": null,
   "metadata": {},
   "outputs": [],
   "source": []
  }
 ],
 "metadata": {
  "kernelspec": {
   "display_name": "Python 3",
   "language": "python",
   "name": "python3"
  },
  "language_info": {
   "codemirror_mode": {
    "name": "ipython",
    "version": 3
   },
   "file_extension": ".py",
   "mimetype": "text/x-python",
   "name": "python",
   "nbconvert_exporter": "python",
   "pygments_lexer": "ipython3",
   "version": "3.6.8"
  }
 },
 "nbformat": 4,
 "nbformat_minor": 2
}
