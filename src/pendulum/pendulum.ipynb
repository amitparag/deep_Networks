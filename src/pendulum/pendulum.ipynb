{
 "cells": [
  {
   "cell_type": "code",
   "execution_count": 1,
   "metadata": {},
   "outputs": [],
   "source": [
    "import crocoddyl\n",
    "import numpy \n",
    "import random\n",
    "from pendulum import *\n",
    "from cartpole_utils import *"
   ]
  },
  {
   "cell_type": "code",
   "execution_count": 2,
   "metadata": {},
   "outputs": [],
   "source": [
    "model = cartpole_model()\n",
    "# x , angle(0-> up, -360 -> down)\n",
    "x0 = np.matrix([ 0, 0, 0, -0.99 ]).T\n",
    "T  = 50\n",
    "problem = crocoddyl.ShootingProblem(x0, [ model ]*T, model)"
   ]
  },
  {
   "cell_type": "code",
   "execution_count": 3,
   "metadata": {},
   "outputs": [
    {
     "data": {
      "text/plain": [
       "True"
      ]
     },
     "execution_count": 3,
     "metadata": {},
     "output_type": "execute_result"
    }
   ],
   "source": [
    "ddp = crocoddyl.SolverDDP(problem)\n",
    "ddp.solve()"
   ]
  },
  {
   "cell_type": "code",
   "execution_count": 4,
   "metadata": {},
   "outputs": [
    {
     "data": {
      "text/plain": [
       "matrix([[ 2.67285790e-12],\n",
       "        [-4.94999995e-04],\n",
       "        [ 5.34571580e-09],\n",
       "        [-9.89999989e-01]])"
      ]
     },
     "execution_count": 4,
     "metadata": {},
     "output_type": "execute_result"
    }
   ],
   "source": [
    "ddp.xs[1]\n"
   ]
  },
  {
   "cell_type": "code",
   "execution_count": 5,
   "metadata": {},
   "outputs": [],
   "source": [
    "%%capture\n",
    "%matplotlib inline\n",
    "from IPython.display import HTML\n",
    "\n",
    "# Create animation\n",
    "anim = animateCartpole(ddp.xs)\n"
   ]
  },
  {
   "cell_type": "code",
   "execution_count": 6,
   "metadata": {},
   "outputs": [
    {
     "data": {
      "text/html": [
       "<video width=\"432\" height=\"288\" controls autoplay loop>\n",
       "  <source type=\"video/mp4\" src=\"data:video/mp4;base64,AAAAHGZ0eXBNNFYgAAACAGlzb21pc28yYXZjMQAAAAhmcmVlAAAdP21kYXQAAAKuBgX//6rcRem9\n",
       "5tlIt5Ys2CDZI+7veDI2NCAtIGNvcmUgMTUyIHIyODU0IGU5YTU5MDMgLSBILjI2NC9NUEVHLTQg\n",
       "QVZDIGNvZGVjIC0gQ29weWxlZnQgMjAwMy0yMDE3IC0gaHR0cDovL3d3dy52aWRlb2xhbi5vcmcv\n",
       "eDI2NC5odG1sIC0gb3B0aW9uczogY2FiYWM9MSByZWY9MyBkZWJsb2NrPTE6MDowIGFuYWx5c2U9\n",
       "MHgzOjB4MTEzIG1lPWhleCBzdWJtZT03IHBzeT0xIHBzeV9yZD0xLjAwOjAuMDAgbWl4ZWRfcmVm\n",
       "PTEgbWVfcmFuZ2U9MTYgY2hyb21hX21lPTEgdHJlbGxpcz0xIDh4OGRjdD0xIGNxbT0wIGRlYWR6\n",
       "b25lPTIxLDExIGZhc3RfcHNraXA9MSBjaHJvbWFfcXBfb2Zmc2V0PS0yIHRocmVhZHM9OSBsb29r\n",
       "YWhlYWRfdGhyZWFkcz0xIHNsaWNlZF90aHJlYWRzPTAgbnI9MCBkZWNpbWF0ZT0xIGludGVybGFj\n",
       "ZWQ9MCBibHVyYXlfY29tcGF0PTAgY29uc3RyYWluZWRfaW50cmE9MCBiZnJhbWVzPTMgYl9weXJh\n",
       "bWlkPTIgYl9hZGFwdD0xIGJfYmlhcz0wIGRpcmVjdD0xIHdlaWdodGI9MSBvcGVuX2dvcD0wIHdl\n",
       "aWdodHA9MiBrZXlpbnQ9MjUwIGtleWludF9taW49MjAgc2NlbmVjdXQ9NDAgaW50cmFfcmVmcmVz\n",
       "aD0wIHJjX2xvb2thaGVhZD00MCByYz1jcmYgbWJ0cmVlPTEgY3JmPTIzLjAgcWNvbXA9MC42MCBx\n",
       "cG1pbj0wIHFwbWF4PTY5IHFwc3RlcD00IGlwX3JhdGlvPTEuNDAgYXE9MToxLjAwAIAAAAivZYiE\n",
       "AD///vdonwKbWkN6gOSVxSXbT4H/q2dwfI/pAwAAAwAArq0zP4RxVZgPML+Mozn97AnzTv36g8uy\n",
       "+ufrv+R8wcVM9fL5CTcj5AACaYox4Duu+GLQnAMxoiaHLOWAQEY6Ek0+pdAE+lxitFohkgePLJKk\n",
       "jxljL1yrwQj9rdOW70Wv6jBtDnsgpmZuJFOQLfSbHfuYwesjjTn1cEMR7/kGMVJJq8PQEkXNVRqO\n",
       "aurfHtR5CHvSoMOMUiB23+IPZIjTZ26RTVrNlzJBprlCQrFo4bcZVWnYUtCAxbhBUQqZ+zwFDfWE\n",
       "kWVIN59vVBaP26JPwK/4CcXdVLF4LBDAldCK22C1URRt29UMswXG3zVV5b43wHWmbfa1uFGZKoPT\n",
       "abxeRMzvVxQOG6i5mzN0V2adr4GxBwDe7Ahhaxb67cqW9eHQtVk787Z2rjSpIk0m+x/q6M6WU646\n",
       "ejR1zj5f9aHP/D3n+BzpTs7f4lOFwmVYobFr0HQ+mFfQPYjL+KfLul/FDPseLGLwCI51IEa8hHHy\n",
       "7/53hL0wEF+FaQ6QPmRGu+VKWkUEomCDfj2PuYTXjw7vmdVgJxY9NDRgXMRmIdW9F3HbWYF3feRE\n",
       "cefqHRBCmyIJpdgzWzFe4+jJGBxCLXEpPGqze2rJLrvj74DNkOxty3bT1TzA1j9ow6wDh14WdxZv\n",
       "2L4BJiz+618GgrKi07rb6jisKSJCJ5zo+q9B5LuuOTO+VxuNPSHJiE3fBQDo3RTmZol4TxJL+YYG\n",
       "sFeyFcTUvu5I+mBLzBXcCWApGwNAdhRUqkWgt4HXQBzX9VejIOQloH3JzXau8GCI/nmitHAt2AJX\n",
       "PNBVzMox3QObcuPdclcbUQHI5Ne6/2GHIllF2AwpNgFNckUChlB9Nnxi6XJNlIY+cqFd0UqLXRZQ\n",
       "wVCFuDp+yxexCKpoqDONYLlKeullWLxbSzZp7CowTR4SIjabwpLo/Ztiik+H9zC8VBEyKT88xzL6\n",
       "a7vIqZ7Q5Zp3a/LRAcYC1YNa9aPiQEm+s5GHsbUcGc8htqzhoswjLAuHnp9zsxY15yWiUMI1NZgx\n",
       "AOMhXnhwePUxBQyJKuMkqWpFsxc44hMkPTTYkOBACtJdgvKHm+9oDKoImYbT0fLuaaPpOy40GhCc\n",
       "KM1Odh1DjbQZwWaNYkFDRM4X6Ay/zILjqqDPajNqyvj1J3ZRtVXDvxZPIPjLcXt9BkE+DVYkrrE8\n",
       "8JbFtQltV+rDtuZCv8SBdAF699w6ICvu4YF/9cQByrvaklQ1Y2lEhCZ5BfxAFGQGGTmvWnqHzdma\n",
       "ZCDZn4Sg5C/39B8BRu0fkxB/9gbvAOy1Ze8qKzSFeprcBIadrta7uoVPqyh13qHO/Uw9FFKzkGGb\n",
       "1cg+zNyOWGJmvLaKfFx+pSEe6025vyPNnWDEVNjyggMcQavch7Pz+AmluxpBKwKP47KcZTiB/L2P\n",
       "uF0GOYREPdk/YZS2pfA+ADvU8VRSsN4bpXYG5vrZF+eKyoKEXIuoiVBckiLczvEl4hZehhhVs1g3\n",
       "QgglUp0EZYy+2gfkJSMCPVyNnsVjXqt1pBUtueYO2daQm2L+7lrpSKCKk8q5U21KZvTSZrYxv7eu\n",
       "w3huiUrAK1OzeZuyOl+eLGtp6QTC5cMYgCv7ENtJeucE73vXSLuzJXHWMhuaihNZ5lwXJK5aUvws\n",
       "9hm941xB4gmoDA4kGffiI+0996dS2zi4wvUHeML3h/gcAA0w2BGui82/lYJtpP4X1pq8Ogp5Ajf1\n",
       "21vmjh40Km0mdnw9rpTpvtNVZU9v6IEgeku3tB6syTQIeX08xeCVQiN7w6rv2m72mmv2r/nq/qId\n",
       "mEWzIoHzZ1iPYG/TWsPonEXB8B2KReeFa5NCay7h5UN/rg68IKgicFDVwMsq40CCl75Ef688KzNl\n",
       "H7YoKdZN0kJreKx7f7wZ/RxgVoyvLMJpI7MjRmiXyneMW/ocUCwbsNH9SSx1z0HgOOPxfDaLdiLw\n",
       "AEhf5794EeBr/n95o1MtKp//9YIrV+YP2n1l7uyuzquhEXWTR6DDoAp9FAcoI9KWJoV6W7sQfe7Z\n",
       "JeUsMKcR73ShncGCcCdraDyiZ4T3fWv+oDyZtWzbRN5YBHyL7OxFJRMehXZ4Sb8lWqEyE18fGpWq\n",
       "bTtZmrEXoXwFEHJo8qDh+jfxGUL5RG3OKyZ/SWQmFSj/iA1qDqQnCjAOwPzvOb8/pB/1ChziskZW\n",
       "7hEAxHSpLN1lmC1wRl50os/je42NKXTPzzgIdltr2LrjcAw22E6KJxGyKoNCfxYfeF52FeEV1ddm\n",
       "DWJX//jVhGAF5Jv5Gmy9oE6ZQxnwsZReqnZjyaas0fYgY3h5KGMQEmLGBqzojMlLOgG+JaELrxPh\n",
       "pUaTXd3pX2dGQvQaeJaU79ZEu9K7hZSMg/p/PeuPxyV7/ucYQv1+7EtwcjE6GcWBdJiZGvMX96p4\n",
       "4vMT+8Gecmhf74RZcnMXbDIym2MgQTFmjT97MELxsTBFqjgY5/xL9T/Mg6vJf+6SkXCBC3DOncM6\n",
       "ErUTjwkDeuexllAaN9Vx/bDpCi/+f/QF3J+gE3G+rXVz1ig59JkQNXQvOGDjuGc5R6PSGQBa83H/\n",
       "j6pCaC3xqo1NU2tIDMNJHFV23tso4HM12WJMrLAzt4TmJ9AtuO6od/UAvSMW/cOD0lZqKNJn4Ied\n",
       "N08DyvzjeN/F8ssukG20zMXiP6wtFRlmHYkjflYA5FkR/+0cK3Io/StiyW4uZv/Jt4UFRXVG5DhO\n",
       "6eZmGIQc9AqVTHVW0NkzMC4fiLaQOekQTKIrBNd9wgmfM4TWuwAj5MZDZYBe+ugd1OtvTZ6Y2sXh\n",
       "VAQMHesuetJlAoQ+VVE5nKj9XPBK4EX6KWkPl9m+ZRSoR5cQZlXPxjXkfMtxk5n9fiMN4uuUstCL\n",
       "hNRXkMDLyYMgYUOF1VAB0xJxbOG/fi2r93TwZp0tAQLnGyIwK1CsgDD3dns0eADDVyRwmxjRAAAB\n",
       "nkGaJGxD//6plhPsxLiOZ37rs2HEUulZWPoAAAaiIrQiAOZPNgeNojs93eFy5hlD3rMSNed1nF5/\n",
       "lm5OBbXA4tx5TB22ywsBfTKGw/JhvkzqPYBTwPDjmzMmZovgxgXnBJCq9mztO9CJTN4Ds69KIF0P\n",
       "kUALVjpJhPYgmOLqUpQMc+H18JSAV8NhBHMbutSqmboBCU/Lai8daVAuEPdtRq2oxtxIMC15nqaT\n",
       "whyXbzLa2nTrPBN3NkM51Bm0+ReRM3oOSbQV+wdT9dVinA4WzXzwVcGOhmpJDNSejPH20xszYn0a\n",
       "3DpK14FbfMZaiaOwW7hY3NlHfhI3VVRUGUSv/z646ZhIqvpPzr4hmZDJqurWrziQB6vEM5CiwizD\n",
       "6W95Ktsw0l9IXbr51+F+N1O8j1LEXpDTW96WV8IFJ6QxjUqlR5EW3kCK3Ftg704KQIfBTZSlkxgR\n",
       "9hRuEdg+YIIed0erZBKIejs7DrFga4FsUftd5rf53lM4QDO2geXYpx1TwHAuisEz5TzAZDn7lnxw\n",
       "9UtYcLeJ00QZFWU7SnrdQAAAAIdBnkJ4hn8CFdmlQCrn7n8avnr8zoSZRXJIOY5V5BTA1b6gBLVj\n",
       "BdWdl36QudfbHIWJruB3Vfs51KEsvQ29NPZ7OLnFBcTONQab0qo3Kd6eKmOMFR5K9+8fADfihvDJ\n",
       "ua1JGGtPByuDDN0c0d+62dtNVxDwt1HHG5nn72Zz8ixB7tWbPV8Y94EAAABJAZ5hdEK/A5mbFALn\n",
       "JPRnkjgWNSBB/HUd/HNk0XbcbYaZOjL9sFnXeINyw0G94i4p/A4a29NTcrrxGlEuhN32hwlXfYbG\n",
       "IlQR6wAAAEoBnmNqQr8DanJT+eKvaK+CJyBgxD9LW8TZFNljYJCZZD2Twvwi51Stdp0z2vt8mXGf\n",
       "mIr5YlFG0rBwXJwpk2tZ86REuvpzQtsg8QAAALJBmmhJqEFomUwIf//+qZYQnMS4jmd+67NhxFLp\n",
       "WVj6AAAzAtvw/IACdvkTmvH1a4VhwQGo2cZB+jySRyW+PvmIFgVjXfEj9GBJ8NqGaQyU/RHDj79P\n",
       "oVJZm7rlBrsLrp5cSjhF3rkUaBy1UNWOtLDckxkw+1TQrAoY8SyJ4YVsPWHfloE2TAklmboEgbJT\n",
       "ZjSNO0UfObb1btlbEkGHjl8GCIDF9ctagbd/6237e06OBIEbAAAAYkGehkURLDP/AfYBeMky7F7B\n",
       "7N4wgttJud+hN6GUp3l+4pUWgA/jb91fseRewWrUgDiMWiwscXEXl9M89fvVK1eD+NPQ3Nl7Nm+E\n",
       "MwACjxD1qcQgOrvO44wY3VmIz7qo0H+BAAAAPgGepXRCvwNn7fVZsSoNNHS4BZW09nM6wujZspVB\n",
       "amt16pWG0pxEshU2S4ACj5WAC55VDeyFae34Om/5Mp5VAAAAOgGep2pCvwMBRmR/EapwWJssqnAU\n",
       "EvPb0ORXjes1zrUrLvzDIksaFAIMQAHsef505iT5Piz1sH++0XAAAAC7QZqsSahBbJlMCH///qmW\n",
       "C25iXEczv3XZsOIpdKysfQAI+Tat0ABO3yG8+3+ZlniIvc9oQvjJ5svNVK5Z3q+89Edfnv+H8YMs\n",
       "nr6rbeh30zZEcA5G4Ou+br7j75r0RwHyfqK6O6WO/H2OQMIgVkjmImdKxHSC3i921TRYbxv3br8s\n",
       "Ypj8x0yli4SFh0zAU5jnPkmGSzE3Rhm1g77jGJnBfiL9xVThL1Udom4luG5VPNOdkZ8Dar4Z9hcE\n",
       "5AAAAFhBnspFFSwz/wG1vbszhVx+PXaJMpyrJEVGh9SJoL4yyZYATt1xjOLQBFY1gvtDsWzA6vxt\n",
       "NpOWknapoYnL4XTmnrEEX0QAdBvQ/VVkJwXdsrviG5pNcCKhAAAAOQGe6XRCvwMBRmR/EapwWJss\n",
       "qnAUEvPb0ORXjegkLZPbUsfwvamokWaABCuLxqzO9YymF1LbTgz3gAAAADgBnutqQr8DAUZkfxGq\n",
       "cFibLKpwFBLz29DkV43pPvrUrWHfggvcXfAHooAGEIkCTzfghz7/UcsloAAAAIVBmvBJqEFsmUwI\n",
       "f//+qZYLbmJcRzO/ddmw4il0rKx9AAj42uyAAiDriX+20S88X985FXTFVfeuNWC2CF6Z3kYeHonR\n",
       "7qsZX4ihwii+fRgwIBgVK3NO5Xu21LZdgSTX+Hd8tjCw75ZCsZLMTV/iItPuTW1zBxbnCXPpGdIp\n",
       "RredKMVHUIOBAAAAdkGfDkUVLDP/AbW9uzOFXH49dokynKskRUaH1ImgnSclgBO3kwj7f+oiI7Hs\n",
       "qRlu2pt9nXqyJHl+K3yi/HkvkgyeiqwO5iSm2dYcc68910mm4SQKdqmrMLjq4A4tUzc6wZJCJiuH\n",
       "ARM/5V742Hj9fX1pMoNU3dcAAAA4AZ8tdEK/AwFGZH8RqnBYmyyqcBQS89vQ5FeN6CSbVM5qkgwn\n",
       "dwsHMAAqwVRNevKTY7T+9bIMsxEAAAA2AZ8vakK/AwFGZH8RqnBYmyyqcBQS89vQ5FeN6T761KzP\n",
       "bme7LGowABmMh6EHhZBuFPOZe4oeAAAAuEGbNEmoQWyZTAh///6plgtuYlxHM7912bDiKXSsrH0A\n",
       "CPnBU2IPAB/A5u4sVa0IOI2BGnN9qx04wZxWFw3UQag/s7HFqOxMIMRbYWWOaDDMF9uyC6a0Dyq9\n",
       "njzI1+8Wpo5zkjD+DTIAwQMOVHmY3PwIjkl6vB7yp3fWsqKfdtU0VC8b9+BBxELwrMto3puvSian\n",
       "L5kR3jIXqOtsnSt0yuM9BtQ9FurDCT5bQG5qa5BBHNt51Omh42AAAABjQZ9SRRUsM/8Btb27M4Vc\n",
       "fj12iTKcqyRFRofUiaDN1X6AD98mp3HI0bYRIbNjoH2I5anHxtJGklSKamyZmh963fA2ETe1TQw1\n",
       "BDdlrNw53RtP0NQqcKwJsU4Iw6d6WqKqniUJAAAAMgGfcXRCvwMBRmR/EapwWJssqnAUEvPb0ORX\n",
       "jeuhnWpWFcIe1Z5aAAtZ8jntlpgyz4lQAAAAMAGfc2pCvwMBRmR/EapwWJssqnAUEvPb0ORXjes1\n",
       "mjO2pY3IAB/JE8YCULb2Pzw4oAAAALtBm3hJqEFsmUwIf//+qZYLbmJcRzO/ddmw4il0rKx9AAj4\n",
       "2uyAAnb5Ervx41sXD9FMvwbrVdidt+PHtRN8wAeYAzPotKyKkwneRuccwRr2Bsalx1vWkOSDBg30\n",
       "lYpo8WQrMMAMiIfWx5fTiXmbkDTFzQSWxj5WdB4Lg3TmrjesGIYpcE3+f/VN9Paw97WpbHrkuc7X\n",
       "VB7NViT32yB1sxodxVRAA4qEYIzyFNOWwnztnIP3kjSXg/zSYlgnAAAAakGflkUVLDP/AbW9uzOF\n",
       "XH49dokynKskRUaH1ImgzdV+gBLVQ3lQ8fl/eUWpAcveeTxIyDX1dPM4n82mEbVb7A0m9ndRXA/S\n",
       "+eWBy+ckx/vapoYlaPLVxqEKuk/AAAEN9en8SnxOYZnWbCAAAAAzAZ+1dEK/AwFGZH8RqnBYmyyq\n",
       "cBQS89vQ5FeN6CSbVM3PgfDOZYOYABWTyNvjrnvXIrjxAAAAMAGft2pCvwMBRmR/EapwWJssqnAU\n",
       "EvPb0ORXjes1zrUrAmR+tAkAH8pVBu4cHpd51wAAAJdBm7xJqEFsmUwIf//+qZYLbmJcRzO/ddmw\n",
       "4il0rKx9AAj46eBAATt8eY8Lm8Gmwfodu8igwT2FyCxggbFALQlCZLzDgA+FPtLMXUOQ5AdZ0jVY\n",
       "ybRFjlZxHsUFtqih60nv6MRyvcbm/FUQCIqtqR/Hh/h5RJt9oWXe8RsOt7bF/yXDK2tAs3vM5YCL\n",
       "aVIAjbY7p75PqJmAAAAASEGf2kUVLDP/AbW9uzOFXH49dookvUkojWGhssbqChOAA60Z3p2v8T32\n",
       "x+61GGhYlyXRxP4Z9qmrDDdu0PaQGRAA0jWGbJ4pQQAAACwBn/l0Qr8DAUZkfxGqcFibLkCJmRZJ\n",
       "PimZm7fqCFlmxwMU8wDiW16nVACWvwAAACEBn/tqQr8DAUZkfxGqcFibLwf01zXbVbxkZ4KG8FNk\n",
       "UeEAAACIQZvgSahBbJlMCH///qmWC25iXEczv3XZsOclB7ttgATt8iaq2ZGytQn13TguViG4ECNw\n",
       "C4FHfawDBYw+IGeKDai55gbhM3o9vYmwPjdhWivbap2/Ed5Gi6H4CRP4HP65Uv0U1j4+q0P3q/Ws\n",
       "Y3IXfRsLgP8wSFd9HKlPAKreUtRc56NOa6vTuwAAADtBnh5FFSwz/wG1vbszhVx+PXaKW1uHZMIA\n",
       "Kk6G3jPv5tg7i5kOllNwpG1EtUf/j3QJr0o3D1whFfJSYAAAAB8Bnj10Qr8DAUZkfxGqcFibLs/4\n",
       "3LOUDzKXRJcEtc+yAAAAIgGeP2pCvwMBRmR/EapwWJsuziyT+cQyuMPWoHNSeC/O+vEAAAB8QZok\n",
       "SahBbJlMCH///qmWC25iXEczv3XZsOcj2dcACIOwqCWt5llKQ+fOXk6XV6LRjkuzRndOIVQO80gZ\n",
       "TRgYVO9em8CtZEj1wLz/Bhusgdih5XIZmvwSXPH2Wu8hKqvOGZ7kzolwMfxaJuYQtisJVWmb1DSL\n",
       "8CeNrrnekAAAAFJBnkJFFSwz/wG1vbszhVx+PXaKaxMIAL69eCHzl/Vd1E/G+5NpacT54l/10Poi\n",
       "ieiDqUBpZPuD6HqagVB6swsuFFmAyLoVLllW2hw2KA1MINiBAAAAIAGeYXRCvwMBRmR/EapwWJsu\n",
       "z/hbewoY+KdedsBCPv7gAAAAHAGeY2pCvwMBRmR/EapwWJsuzi25QYyU+AbqVdsAAACJQZpoSahB\n",
       "bJlMCHf//qmWC25HWgsd0KNeYanHQUUbOOYAJ1rtK9E5arK0gdFazyI65TIsK5RfkY9vGxveocHq\n",
       "FeHoQWMfyUTxMAsdLrFV58QZz3THbcLYImBzIIhdjXqnUO0MlhJ0P/vcZ2v7ndzJ1Aa2GWzYG+XK\n",
       "ILXIIL9QNHugoj/bV3gvolcAAABUQZ6GRRUsM/8Btb27M4Vcfj12ima/4tYALqNpqzUiv/jMvPzy\n",
       "m0pLJSZY/qF8hyS3Pv9F3dB6zc1axouJwQqr5jqbe2MhSVqSvkmJcxVhykEI9aBhAAAAHgGepXRC\n",
       "vwMBRmR/EapwWJsuzWGcc5SdqBJA0q79IQAAAB4BnqdqQr8DAUZkfxGqcFibLs+eblwPmnR2SBpY\n",
       "HuwAAAB6QZqsSahBbJlMCHf//qmWC25HWgsd0KNeYanHpDEAE7fDSs4TsldzCK3GuppxK/6ASdP9\n",
       "zupH2IsDYnifN225cLbvn56vGDrcdPTX0LWBlu25vhwHqf35BELZxf2MlH0RCAjvl2fJ/QGEtZxB\n",
       "eikJ/ZraBmgcrNcK82YAAABQQZ7KRRUsM/8Btb27M4Vcfj12ilwWRcCAD+euiTDE+puGaCJnN6qK\n",
       "TzT6vOJZAJmbd4LBV+4LBTTlQvsz62yr03LuASa3k6d81zwF3zZcF4EAAAAdAZ7pdEK/AwFGZH8R\n",
       "qnBYmy7P+NyZUV2rgmXlVYAAAAAeAZ7rakK/AwFGZH8RqnBYmy7Pnm5ru+nZK6wfgnpMAAAAb0Ga\n",
       "8EmoQWyZTAhn//6eEEi0amDQ5EUrXVUZBIPgAIg9JF846bczHyH8gIK5PPo2sbW1IR4sGqHSFoy/\n",
       "XJcVkQJ3ybp+6n0/RJaGhfYOU14jd1ujB5Fi+vwQn5I0G7v3u0lU8Cr0bSXt44kodkRKwQAAAD1B\n",
       "nw5FFSwz/wG1vbszhVx+PXaKahXeAAdngspRajC1m4YmaSIFx8KPYGbyVCL2tDedhmMhNjlrgbCM\n",
       "2wFBAAAAHgGfLXRCvwMBRmR/EapwWJsuz/jc13yMPsmhO5O4QQAAAB0Bny9qQr8DAUZkfxGqcFib\n",
       "Ls4tubJcpxBAnbZYIAAAAFtBmzJJqEFsmUwUTCv//jhA+NSJazn2CoOr1DW330AH87qpeD77VFVn\n",
       "m7Ni/eOSR9XSVdKW6Zm3cBjXwoKf2dM7AB5F+cjRg9JM0FfrF6lbX4KjAxXz3iFKHxGwAAAAOgGf\n",
       "UWpCvwMBRmR/EapwWJsuyei9QATFyiktmN/S90YMOtzgq18JCdwjBqdlusU9JnjeWr5ihDiRf38A\n",
       "AAWSbW9vdgAAAGxtdmhkAAAAAAAAAAAAAAAAAAAD6AAACfYAAQAAAQAAAAAAAAAAAAAAAAEAAAAA\n",
       "AAAAAAAAAAAAAAABAAAAAAAAAAAAAAAAAABAAAAAAAAAAAAAAAAAAAAAAAAAAAAAAAAAAAAAAAAA\n",
       "AgAABLx0cmFrAAAAXHRraGQAAAADAAAAAAAAAAAAAAABAAAAAAAACfYAAAAAAAAAAAAAAAAAAAAA\n",
       "AAEAAAAAAAAAAAAAAAAAAAABAAAAAAAAAAAAAAAAAABAAAAAAbAAAAEgAAAAAAAkZWR0cwAAABxl\n",
       "bHN0AAAAAAAAAAEAAAn2AAAEAAABAAAAAAQ0bWRpYQAAACBtZGhkAAAAAAAAAAAAAAAAAAAoAAAA\n",
       "ZgBVxAAAAAAALWhkbHIAAAAAAAAAAHZpZGUAAAAAAAAAAAAAAABWaWRlb0hhbmRsZXIAAAAD321p\n",
       "bmYAAAAUdm1oZAAAAAEAAAAAAAAAAAAAACRkaW5mAAAAHGRyZWYAAAAAAAAAAQAAAAx1cmwgAAAA\n",
       "AQAAA59zdGJsAAAAs3N0c2QAAAAAAAAAAQAAAKNhdmMxAAAAAAAAAAEAAAAAAAAAAAAAAAAAAAAA\n",
       "AbABIABIAAAASAAAAAAAAAABAAAAAAAAAAAAAAAAAAAAAAAAAAAAAAAAAAAAAAAAAAAAGP//AAAA\n",
       "MWF2Y0MBZAAV/+EAGGdkABWs2UGwloQAAAMABAAAAwCgPFi2WAEABmjr48siwAAAABx1dWlka2hA\n",
       "8l8kT8W6OaUbzwMj8wAAAAAAAAAYc3R0cwAAAAAAAAABAAAAMwAAAgAAAAAUc3RzcwAAAAAAAAAB\n",
       "AAAAAQAAAahjdHRzAAAAAAAAADMAAAABAAAEAAAAAAEAAAoAAAAAAQAABAAAAAABAAAAAAAAAAEA\n",
       "AAIAAAAAAQAACgAAAAABAAAEAAAAAAEAAAAAAAAAAQAAAgAAAAABAAAKAAAAAAEAAAQAAAAAAQAA\n",
       "AAAAAAABAAACAAAAAAEAAAoAAAAAAQAABAAAAAABAAAAAAAAAAEAAAIAAAAAAQAACgAAAAABAAAE\n",
       "AAAAAAEAAAAAAAAAAQAAAgAAAAABAAAKAAAAAAEAAAQAAAAAAQAAAAAAAAABAAACAAAAAAEAAAoA\n",
       "AAAAAQAABAAAAAABAAAAAAAAAAEAAAIAAAAAAQAACgAAAAABAAAEAAAAAAEAAAAAAAAAAQAAAgAA\n",
       "AAABAAAKAAAAAAEAAAQAAAAAAQAAAAAAAAABAAACAAAAAAEAAAoAAAAAAQAABAAAAAABAAAAAAAA\n",
       "AAEAAAIAAAAAAQAACgAAAAABAAAEAAAAAAEAAAAAAAAAAQAAAgAAAAABAAAKAAAAAAEAAAQAAAAA\n",
       "AQAAAAAAAAABAAACAAAAAAEAAAYAAAAAAQAAAgAAAAAcc3RzYwAAAAAAAAABAAAAAQAAADMAAAAB\n",
       "AAAA4HN0c3oAAAAAAAAAAAAAADMAAAtlAAABogAAAIsAAABNAAAATgAAALYAAABmAAAAQgAAAD4A\n",
       "AAC/AAAAXAAAAD0AAAA8AAAAiQAAAHoAAAA8AAAAOgAAALwAAABnAAAANgAAADQAAAC/AAAAbgAA\n",
       "ADcAAAA0AAAAmwAAAEwAAAAwAAAAJQAAAIwAAAA/AAAAIwAAACYAAACAAAAAVgAAACQAAAAgAAAA\n",
       "jQAAAFgAAAAiAAAAIgAAAH4AAABUAAAAIQAAACIAAABzAAAAQQAAACIAAAAhAAAAXwAAAD4AAAAU\n",
       "c3RjbwAAAAAAAAABAAAALAAAAGJ1ZHRhAAAAWm1ldGEAAAAAAAAAIWhkbHIAAAAAAAAAAG1kaXJh\n",
       "cHBsAAAAAAAAAAAAAAAALWlsc3QAAAAlqXRvbwAAAB1kYXRhAAAAAQAAAABMYXZmNTcuODMuMTAw\n",
       "\">\n",
       "  Your browser does not support the video tag.\n",
       "</video>"
      ],
      "text/plain": [
       "<IPython.core.display.HTML object>"
      ]
     },
     "execution_count": 6,
     "metadata": {},
     "output_type": "execute_result"
    }
   ],
   "source": [
    "HTML(anim.to_html5_video())"
   ]
  },
  {
   "cell_type": "code",
   "execution_count": 7,
   "metadata": {},
   "outputs": [
    {
     "ename": "NameError",
     "evalue": "name 'ActuationModelDoublePendulum' is not defined",
     "output_type": "error",
     "traceback": [
      "\u001b[0;31m---------------------------------------------------------------------------\u001b[0m",
      "\u001b[0;31mNameError\u001b[0m                                 Traceback (most recent call last)",
      "\u001b[0;32m<ipython-input-7-0f78eb36cd0b>\u001b[0m in \u001b[0;36m<module>\u001b[0;34m\u001b[0m\n\u001b[1;32m      6\u001b[0m \u001b[0;34m\u001b[0m\u001b[0m\n\u001b[1;32m      7\u001b[0m \u001b[0mstate\u001b[0m \u001b[0;34m=\u001b[0m \u001b[0mcrocoddyl\u001b[0m\u001b[0;34m.\u001b[0m\u001b[0mStateMultibody\u001b[0m\u001b[0;34m(\u001b[0m\u001b[0mrobot_model\u001b[0m\u001b[0;34m)\u001b[0m\u001b[0;34m\u001b[0m\u001b[0;34m\u001b[0m\u001b[0m\n\u001b[0;32m----> 8\u001b[0;31m \u001b[0mactModel\u001b[0m \u001b[0;34m=\u001b[0m \u001b[0mActuationModelDoublePendulum\u001b[0m\u001b[0;34m(\u001b[0m\u001b[0mstate\u001b[0m\u001b[0;34m,\u001b[0m \u001b[0mactLink\u001b[0m\u001b[0;34m=\u001b[0m\u001b[0;36m1\u001b[0m\u001b[0;34m)\u001b[0m\u001b[0;34m\u001b[0m\u001b[0;34m\u001b[0m\u001b[0m\n\u001b[0m\u001b[1;32m      9\u001b[0m \u001b[0;34m\u001b[0m\u001b[0m\n\u001b[1;32m     10\u001b[0m \u001b[0mweights\u001b[0m \u001b[0;34m=\u001b[0m \u001b[0mnp\u001b[0m\u001b[0;34m.\u001b[0m\u001b[0marray\u001b[0m\u001b[0;34m(\u001b[0m\u001b[0;34m[\u001b[0m\u001b[0;36m1\u001b[0m\u001b[0;34m,\u001b[0m \u001b[0;36m1\u001b[0m\u001b[0;34m,\u001b[0m \u001b[0;36m1\u001b[0m\u001b[0;34m,\u001b[0m \u001b[0;36m1\u001b[0m\u001b[0;34m]\u001b[0m \u001b[0;34m+\u001b[0m \u001b[0;34m[\u001b[0m\u001b[0;36m0.1\u001b[0m\u001b[0;34m]\u001b[0m \u001b[0;34m*\u001b[0m \u001b[0;36m2\u001b[0m\u001b[0;34m)\u001b[0m\u001b[0;34m\u001b[0m\u001b[0;34m\u001b[0m\u001b[0m\n",
      "\u001b[0;31mNameError\u001b[0m: name 'ActuationModelDoublePendulum' is not defined"
     ]
    }
   ],
   "source": [
    "import example_robot_data\n",
    "\n",
    "\n",
    "robot = example_robot_data.loadDoublePendulum()\n",
    "robot_model = robot.model\n",
    "\n",
    "state = crocoddyl.StateMultibody(robot_model)\n",
    "actModel = ActuationModelDoublePendulum(state, actLink=1)\n",
    "\n",
    "weights = np.array([1, 1, 1, 1] + [0.1] * 2)\n",
    "runningCostModel = crocoddyl.CostModelSum(state, actModel.nu)\n",
    "terminalCostModel = crocoddyl.CostModelSum(state, actModel.nu)\n",
    "xRegCost = crocoddyl.CostModelState(state, crocoddyl.ActivationModelQuad(state.ndx), state.zero(), actModel.nu)\n",
    "uRegCost = crocoddyl.CostModelControl(state, crocoddyl.ActivationModelQuad(1), actModel.nu)\n",
    "xPendCost = CostModelDoublePendulum(state, crocoddyl.ActivationModelWeightedQuad(np.matrix(weights).T), actModel.nu)\n",
    "\n",
    "dt = 1e-2\n",
    "\n",
    "runningCostModel.addCost(\"uReg\", uRegCost, 1e-4 / dt)\n",
    "runningCostModel.addCost(\"xGoal\", xPendCost, 1e-5 / dt)\n",
    "terminalCostModel.addCost(\"xGoal\", xPendCost, 1e4)\n",
    "\n",
    "runningModel = crocoddyl.IntegratedActionModelEuler(\n",
    "    crocoddyl.DifferentialActionModelFreeFwdDynamics(state, actModel, runningCostModel), dt)\n",
    "terminalModel = crocoddyl.IntegratedActionModelEuler(\n",
    "    crocoddyl.DifferentialActionModelFreeFwdDynamics(state, actModel, terminalCostModel), dt)\n",
    "\n",
    "# Creating the shooting problem and the FDDP solver\n",
    "T = 100\n",
    "x0 = [3.14, 0, 0., 0.]\n",
    "problem = crocoddyl.ShootingProblem(np.matrix(x0).T, [runningModel] * T, terminalModel)\n",
    "fddp = crocoddyl.SolverDDP(problem)\n"
   ]
  },
  {
   "cell_type": "code",
   "execution_count": null,
   "metadata": {},
   "outputs": [],
   "source": []
  }
 ],
 "metadata": {
  "kernelspec": {
   "display_name": "Python 3",
   "language": "python",
   "name": "python3"
  },
  "language_info": {
   "codemirror_mode": {
    "name": "ipython",
    "version": 3
   },
   "file_extension": ".py",
   "mimetype": "text/x-python",
   "name": "python",
   "nbconvert_exporter": "python",
   "pygments_lexer": "ipython3",
   "version": "3.6.9"
  }
 },
 "nbformat": 4,
 "nbformat_minor": 2
}
