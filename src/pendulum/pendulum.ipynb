{
 "cells": [
  {
   "cell_type": "code",
   "execution_count": 2,
   "metadata": {},
   "outputs": [
    {
     "name": "stdout",
     "output_type": "stream",
     "text": [
      "Overwriting pendulum.py\n"
     ]
    }
   ],
   "source": [
    "%%file pendulum.py\n",
    "import crocoddyl\n",
    "import pinocchio\n",
    "import numpy as np\n",
    "\n",
    "class DifferentialActionModelCartpole(crocoddyl.DifferentialActionModelAbstract):\n",
    "    def __init__(self):\n",
    "        crocoddyl.DifferentialActionModelAbstract.__init__(self, crocoddyl.StateVector(4), 1, 6) # nu = 1; nr = 6\n",
    "        self.unone = np.zeros(self.nu)\n",
    "\n",
    "        self.m1 = 1.\n",
    "        self.m2 = .1\n",
    "        self.l  = .5\n",
    "        self.g  = 9.81\n",
    "        self.costWeights = [ 1., 1., 0.1, 0.001, 0.001, 1. ]  # sin, 1-cos, x, xdot, thdot, f\n",
    "        \n",
    "    def calc(self, data, x, u=None):\n",
    "        if u is None: u=model.unone\n",
    "        # Getting the state and control variables\n",
    "        y, th, ydot, thdot = np.asscalar(x[0]), np.asscalar(x[1]), np.asscalar(x[2]), np.asscalar(x[3])\n",
    "        f = np.asscalar(u[0])\n",
    "\n",
    "        # Shortname for system parameters\n",
    "        m1, m2, l, g = self.m1, self.m2, self.l, self.g\n",
    "        s, c = np.sin(th), np.cos(th)\n",
    "\n",
    "        # Defining the equation of motions\n",
    "        m = m1 + m2\n",
    "        mu = m1 + m2 * s**2\n",
    "        xddot  = (f     + m2 * c * s * g - m2 * l * s * thdot**2 ) / mu\n",
    "        thddot = (c * f / l + m * g * s / l  - m2 * c * s * thdot**2 ) / mu\n",
    "        data.xout = np.matrix([ xddot,thddot ]).T\n",
    "\n",
    "        # Computing the cost residual and value\n",
    "        data.r = np.matrix(self.costWeights * np.array([ s, 1-c, y, ydot, thdot, f ])).T\n",
    "        data.cost = .5* np.asscalar(sum(np.asarray(data.r)**2))\n",
    "\n",
    "    def calcDiff(self,data,x,u=None,recalc=True):\n",
    "        # Advance user might implement the derivatives\n",
    "        pass\n",
    "\n",
    "def cartpole_model():    \n",
    "\n",
    "    cartpoleDAM = DifferentialActionModelCartpole()\n",
    "    cartpoleData = cartpoleDAM.createData()\n",
    "    x = cartpoleDAM.state.rand()\n",
    "    u = np.zeros(1)\n",
    "    cartpoleDAM.calc(cartpoleData,x,u)\n",
    "\n",
    "    cartpoleND = crocoddyl.DifferentialActionModelNumDiff(cartpoleDAM, True) \n",
    "\n",
    "    timeStep = 5e-4\n",
    "    cartpoleIAM = crocoddyl.IntegratedActionModelEuler(cartpoleND, timeStep)\n",
    "\n",
    "\n",
    "    terminalCartpole = DifferentialActionModelCartpole()\n",
    "    terminalCartpoleDAM = crocoddyl.DifferentialActionModelNumDiff(terminalCartpole, True)\n",
    "    terminalCartpoleIAM = crocoddyl.IntegratedActionModelEuler(terminalCartpoleDAM)\n",
    "\n",
    "    terminalCartpole.costWeights[0] = 1\n",
    "    terminalCartpole.costWeights[1] = 100\n",
    "    terminalCartpole.costWeights[2] = 1.\n",
    "    terminalCartpole.costWeights[3] = 0.1\n",
    "    terminalCartpole.costWeights[4] = 0.01\n",
    "    terminalCartpole.costWeights[5] = 0.0001\n",
    "    return cartpoleIAM\n",
    "\n"
   ]
  },
  {
   "cell_type": "raw",
   "metadata": {},
   "source": []
  },
  {
   "cell_type": "code",
   "execution_count": null,
   "metadata": {},
   "outputs": [],
   "source": []
  }
 ],
 "metadata": {
  "kernelspec": {
   "display_name": "Python 3",
   "language": "python",
   "name": "python3"
  },
  "language_info": {
   "codemirror_mode": {
    "name": "ipython",
    "version": 3
   },
   "file_extension": ".py",
   "mimetype": "text/x-python",
   "name": "python",
   "nbconvert_exporter": "python",
   "pygments_lexer": "ipython3",
   "version": "3.7.4"
  }
 },
 "nbformat": 4,
 "nbformat_minor": 2
}
