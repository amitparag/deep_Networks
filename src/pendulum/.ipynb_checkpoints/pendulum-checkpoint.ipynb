{
 "cells": [
  {
   "cell_type": "code",
   "execution_count": 21,
   "metadata": {},
   "outputs": [
    {
     "name": "stdout",
     "output_type": "stream",
     "text": [
      "Overwriting pedumlum.py\n"
     ]
    }
   ],
   "source": [
    "%%file pedumlum.py\n",
    "import crocoddyl\n",
    "import pinocchio\n",
    "import numpy as np\n",
    "\n",
    "class DifferentialActionModelCartpole(crocoddyl.DifferentialActionModelAbstract):\n",
    "    def __init__(self):\n",
    "        crocoddyl.DifferentialActionModelAbstract.__init__(self, crocoddyl.StateVector(4), 1, 6) # nu = 1; nr = 6\n",
    "        self.unone = np.zeros(self.nu)\n",
    "\n",
    "        self.m1 = 1.\n",
    "        self.m2 = .1\n",
    "        self.l  = .5\n",
    "        self.g  = 9.81\n",
    "        self.costWeights = [ 1., 1., 0.1, 0.001, 0.001, 1. ]  # sin, 1-cos, x, xdot, thdot, f\n",
    "        \n",
    "    def calc(self, data, x, u=None):\n",
    "        if u is None: u=model.unone\n",
    "        # Getting the state and control variables\n",
    "        y, th, ydot, thdot = np.asscalar(x[0]), np.asscalar(x[1]), np.asscalar(x[2]), np.asscalar(x[3])\n",
    "        f = np.asscalar(u[0])\n",
    "\n",
    "        # Shortname for system parameters\n",
    "        m1, m2, l, g = self.m1, self.m2, self.l, self.g\n",
    "        s, c = np.sin(th), np.cos(th)\n",
    "\n",
    "        # Defining the equation of motions\n",
    "        m = m1 + m2\n",
    "        mu = m1 + m2 * s**2\n",
    "        xddot  = (f     + m2 * c * s * g - m2 * l * s * thdot**2 ) / mu\n",
    "        thddot = (c * f / l + m * g * s / l  - m2 * c * s * thdot**2 ) / mu\n",
    "        data.xout = np.matrix([ xddot,thddot ]).T\n",
    "\n",
    "        # Computing the cost residual and value\n",
    "        data.r = np.matrix(self.costWeights * np.array([ s, 1-c, y, ydot, thdot, f ])).T\n",
    "        data.cost = .5* np.asscalar(sum(np.asarray(data.r)**2))\n",
    "\n",
    "    def calcDiff(self,data,x,u=None,recalc=True):\n",
    "        # Advance user might implement the derivatives\n",
    "        pass\n",
    "\n",
    "cartpoleDAM = DifferentialActionModelCartpole()\n",
    "cartpoleData = cartpoleDAM.createData()\n",
    "x = cartpoleDAM.state.rand()\n",
    "u = np.zeros(1)\n",
    "cartpoleDAM.calc(cartpoleData, x, u)\n",
    "\n",
    "cartpoleND = crocoddyl.DifferentialActionModelNumDiff(cartpoleDAM, True) \n",
    "\n",
    "timeStep = 5e-2\n",
    "cartpoleIAM = crocoddyl.IntegratedActionModelEuler(cartpoleND, timeStep)\n",
    "\n",
    " # Fill the number of knots (T) and the time step (dt)\n",
    "x0 = np.matrix([ 0.5, 1.14, 0.4, -0.1 ]).T\n",
    "T  = 50\n",
    "problem = crocoddyl.ShootingProblem(x0, [ cartpoleIAM ]*T, cartpoleIAM)\n",
    "\n",
    "us = [ pinocchio.utils.zero(cartpoleIAM.differential.nu) ]*T\n",
    "xs = problem.rollout(us)\n",
    "\n",
    "#%%capture\n",
    "#%matplotlib inline\n",
    "from cartpole_utils import animateCartpole\n",
    "anim = animateCartpole(xs)\n",
    "\n",
    "# from IPython.display import HTML\n",
    "# HTML(anim.to_jshtml())\n",
    "HTML(anim.to_html5_video())\n",
    "\n",
    " # Creating the DDP solver\n",
    "ddp = crocoddyl.SolverDDP(problem)\n",
    "ddp.setCallbacks([crocoddyl.CallbackVerbose()])\n",
    "\n",
    "# Solving this problem\n",
    "ddp.solve([],[],1000)\n",
    "HTML(animateCartpole(ddp.xs).to_html5_video())\n",
    "\n",
    "\n"
   ]
  },
  {
   "cell_type": "code",
   "execution_count": null,
   "metadata": {},
   "outputs": [],
   "source": []
  }
 ],
 "metadata": {
  "kernelspec": {
   "display_name": "Python 3",
   "language": "python",
   "name": "python3"
  },
  "language_info": {
   "codemirror_mode": {
    "name": "ipython",
    "version": 3
   },
   "file_extension": ".py",
   "mimetype": "text/x-python",
   "name": "python",
   "nbconvert_exporter": "python",
   "pygments_lexer": "ipython3",
   "version": "3.6.9"
  }
 },
 "nbformat": 4,
 "nbformat_minor": 2
}
