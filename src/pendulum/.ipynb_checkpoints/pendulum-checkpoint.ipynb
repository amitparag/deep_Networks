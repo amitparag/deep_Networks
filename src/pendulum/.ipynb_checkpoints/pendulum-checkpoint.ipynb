{
 "cells": [
  {
   "cell_type": "code",
   "execution_count": 1,
   "metadata": {},
   "outputs": [],
   "source": [
    "import crocoddyl\n",
    "import numpy \n",
    "import random\n",
    "from pendulum import *\n",
    "from cartpole_utils import *"
   ]
  },
  {
   "cell_type": "code",
   "execution_count": 137,
   "metadata": {},
   "outputs": [],
   "source": [
    "model = cartpole_model()\n",
    "# x , angle(0-> up, -360 -> down)\n",
    "x0 = np.matrix([ 0, 0, 0, -0.99 ]).T\n",
    "T  = 50\n",
    "problem = crocoddyl.ShootingProblem(x0, [ model ]*T, model)"
   ]
  },
  {
   "cell_type": "code",
   "execution_count": 138,
   "metadata": {},
   "outputs": [
    {
     "data": {
      "text/plain": [
       "True"
      ]
     },
     "execution_count": 138,
     "metadata": {},
     "output_type": "execute_result"
    }
   ],
   "source": [
    "ddp = crocoddyl.SolverDDP(problem)\n",
    "ddp.solve()"
   ]
  },
  {
   "cell_type": "code",
   "execution_count": 139,
   "metadata": {},
   "outputs": [
    {
     "data": {
      "text/plain": [
       "matrix([[ 2.67285790e-12],\n",
       "        [-4.94999995e-04],\n",
       "        [ 5.34571580e-09],\n",
       "        [-9.89999989e-01]])"
      ]
     },
     "execution_count": 139,
     "metadata": {},
     "output_type": "execute_result"
    }
   ],
   "source": [
    "ddp.xs[1]\n"
   ]
  },
  {
   "cell_type": "code",
   "execution_count": 140,
   "metadata": {},
   "outputs": [],
   "source": [
    "%%capture\n",
    "%matplotlib inline\n",
    "from IPython.display import HTML\n",
    "\n",
    "# Create animation\n",
    "anim = animateCartpole(ddp.xs)\n"
   ]
  },
  {
   "cell_type": "code",
   "execution_count": 141,
   "metadata": {},
   "outputs": [
    {
     "data": {
      "text/html": [
       "<video width=\"432\" height=\"288\" controls autoplay loop>\n",
       "  <source type=\"video/mp4\" src=\"data:video/mp4;base64,AAAAHGZ0eXBNNFYgAAACAGlzb21pc28yYXZjMQAAAAhmcmVlAAAaI21kYXQAAAKuBgX//6rcRem9\n",
       "5tlIt5Ys2CDZI+7veDI2NCAtIGNvcmUgMTUyIHIyODU0IGU5YTU5MDMgLSBILjI2NC9NUEVHLTQg\n",
       "QVZDIGNvZGVjIC0gQ29weWxlZnQgMjAwMy0yMDE3IC0gaHR0cDovL3d3dy52aWRlb2xhbi5vcmcv\n",
       "eDI2NC5odG1sIC0gb3B0aW9uczogY2FiYWM9MSByZWY9MyBkZWJsb2NrPTE6MDowIGFuYWx5c2U9\n",
       "MHgzOjB4MTEzIG1lPWhleCBzdWJtZT03IHBzeT0xIHBzeV9yZD0xLjAwOjAuMDAgbWl4ZWRfcmVm\n",
       "PTEgbWVfcmFuZ2U9MTYgY2hyb21hX21lPTEgdHJlbGxpcz0xIDh4OGRjdD0xIGNxbT0wIGRlYWR6\n",
       "b25lPTIxLDExIGZhc3RfcHNraXA9MSBjaHJvbWFfcXBfb2Zmc2V0PS0yIHRocmVhZHM9OSBsb29r\n",
       "YWhlYWRfdGhyZWFkcz0xIHNsaWNlZF90aHJlYWRzPTAgbnI9MCBkZWNpbWF0ZT0xIGludGVybGFj\n",
       "ZWQ9MCBibHVyYXlfY29tcGF0PTAgY29uc3RyYWluZWRfaW50cmE9MCBiZnJhbWVzPTMgYl9weXJh\n",
       "bWlkPTIgYl9hZGFwdD0xIGJfYmlhcz0wIGRpcmVjdD0xIHdlaWdodGI9MSBvcGVuX2dvcD0wIHdl\n",
       "aWdodHA9MiBrZXlpbnQ9MjUwIGtleWludF9taW49MjAgc2NlbmVjdXQ9NDAgaW50cmFfcmVmcmVz\n",
       "aD0wIHJjX2xvb2thaGVhZD00MCByYz1jcmYgbWJ0cmVlPTEgY3JmPTIzLjAgcWNvbXA9MC42MCBx\n",
       "cG1pbj0wIHFwbWF4PTY5IHFwc3RlcD00IGlwX3JhdGlvPTEuNDAgYXE9MToxLjAwAIAAAAilZYiE\n",
       "AD///vdonwKbWkN6gOSVxSXbT4H/q2dwfI/pAwAAAwAArq0zP4RxVZgPML+Mozn97AnzTv36g8uy\n",
       "+ufrv+R8wcVM9fL5CTcj5AACaYox4Duu+GI+ygkAadg1UJVbAyOtH0L9vOdjb+vtdL/N96nRDT+q\n",
       "SPK34vXKvBCP2t05Zt+lsZowePyBw8NOqvguYLPuuDLeb011oDl7I8KmabOVGl7dHKTPK1eiETaf\n",
       "uf3vJuKZqbIwRg/6PKUzjdyB1yWjTZX2toKkNptDBmxROINjRGaSxINfJU8Un/vQzatZ0LM/IxmY\n",
       "ObRhOWLGhls82x1wKeJUsXzTjyXOlcF9WoQaBBc2mI0gfnaqLbFilFlVw2ENp6VEdnx7gUqPWdE2\n",
       "GLSDE8vCnpu2UdQdtl0unZCEKFdw89Z78lrIs11zs3wFZZXpS2VBY6nlnW8owViXxeVBJrJ4NUhf\n",
       "Fyv/lw5/jHBmSgCTJsXffnLwqBMFM5FLla6/L8O5sdKKeq8Bxb+5pYD6l5mpPuuzFOoDqbG7iDW1\n",
       "eD41mlLv8G4Tr/yVbOLvB3iqfJeEmNmulhNdhLjZsAqxZ3p6xxqPAMhH6GVC6jtuGr789Y9hwrEc\n",
       "zmNyqrELRry0GhptDBPffNeCTwYctqs3tqyF7D/fAcjoPUnxPLDA2HeGQW1VYBJYXc11R1roi3AX\n",
       "w3U7gSjeUUPKWS6Bn8V3eGWRSwwusV2rq3JBOt3CiyxWGBBbLZ7jedQbJSStfUWu+k3zfDIgjNE5\n",
       "bimlqpPa7JHFKpq33N4/75/+TYVcL8hvmRClUSSMinssP2Be08UaiYKFk/wVUBUyLhlB7WnBOxMq\n",
       "4iamj+HPRj4Hz8+8SeeVagNuhhAAOyR8N/Br+ucpguaHq2ig3xdP2d2fR/cj4Mg+DKGYoOtwdP2W\n",
       "L2IUjy4eXiOBvj0iwHtTHccmbNPYVGCfscIHg2m8KS6P2Z5qXCeRKm4DCvQOZ6AeOZfTXd5FTPaH\n",
       "LNO7X5aLWsAK4ApOqkwzuw0K/iO70T44M55DbQGDgcZGWBcNdV2HZixrziRtUYRqazBiAcZCvR3p\n",
       "T6BeF6ObSKjmVidrvY4vki9DwH/edhuwLZtK2XHt7vaAyqCJmG09Hy7mmj6TsuNBoQnCjNTnYaVQ\n",
       "piDRSlWM70v6JnC/QGX+ZBca57ckMZtWV8EIawBGbq4d+LJ4bCnGHZvoMgnwaS+TdgVjbYogz9Hy\n",
       "6ma9e+EA+H5qs/I+KUI8zU7o/Jb4IPtOFQ/d6gVtL8y+BxY56fu1eCJOTmvWnqHzdmaZCDZn4Sg5\n",
       "C/39B8BRu0fkxB/9gbvAOy1Ze7/ZpdLKw5JENNO12td3UKn1ZQ6l4P8aIQG7njSJ1UiBvMNy4iyo\n",
       "FsyK1qpsVtSzbqvonZRaOAiT1wxFW45Hxv3DV/RSOjy+28QvQg6UhL1h66KcZTiB/L2PuFcv9hK7\n",
       "htD+wgawcWv4YN5pnm97Xd8mw0jbC4uBZE5F1ESjrkkRbmd4ku+t70MMKtmsG6EEEqkweLI6X20D\n",
       "8hP5gR6uRs9isa9Vus1sDFkiB2gtQwKcthXLXSkUEVJ1e6ptqUzemkzWp7nj8SmMgH6L1gj5ABC1\n",
       "2UYt3eDS52SQP3lt5oPeoQWYmR30TRUwF6XPXGegPt8qQPdyqOCY1sTQtKB12vSS5maNggpzmqA3\n",
       "KqpkJ0fGXZoNSYod9SCZFDcWCwb/0CzQPW/iAchufg3jmQxhG3RaWFtSIVNF160FnCkXURgtFhi3\n",
       "M7xJeGzjOsxosgsTX2om9iGNoH+uhIHpLt7WTsxS87TfQ7UGDrqTXIxng10dwfT2ezR1QQB6xcaF\n",
       "f8rVqZobrqQhrbZunTllF+5ngaAhO5odH7s/yYUnrztzqunn3wMJBFgZp5Cb6xX7XePT4WLR7Mc5\n",
       "wIYgoIG1TxWPb/eDPtRRb/g8Ywgb+fnJM0H7kw54CDWHf4J2ALf1JCDP/+boNrFamDJ0XYJ5oGJ7\n",
       "5M6MeBr/n95o1MtPr//+QFjpnSwx6X6F1VbhAb8mW+BNVjyi5TNYZjgswSpBBG5OK56ZNTuu19EU\n",
       "tNdJRvlNuZoJSYSpZBBf5fxidKqQI5MLxBfLWzSEuGKko0/t6VaXCu4fj1MZUsOWQUOIq9Jfbcdl\n",
       "Zk4wlPimv7C8EXdoNHv8hs7oaVsK7tq4f9o2tfBqj55BLFy+x0ZhDbxpvhA36N5f9hRYEd6SvQ7O\n",
       "JWv0Xv0BIKQUp+yCQyVdY+uh5zZv8ZbgNqdHzlu5kSzquLTSteV94jJKiXJQSuYdzZmUCkTwEf/+\n",
       "vj+2UXxafdmmRsgIZzMk3aPHVwzeGG2pq5VBzBIO5e4t0ZR5NiFanPNn0U/vp8S0IXXifs1atUeG\n",
       "JsgcVhkowUt5DSO/kS70ruFlIyD+n8+IXtMsNvtYPscnRbSmaohtk7i2F9wP1AEJ50rNi41D8fDi\n",
       "GDCjWcDEE4rEcEMbYUQEKw6vbM+nL/djdQKxrilV+OrpAkWrVHldtWFRlKW0H+jE7I8IjDwYJh25\n",
       "7vW+E31qMEBcxz//T/ynhygehgrMnNK0gyt0rXgkp4qyphPhtCUNmi4sUkEnZ815xJu8o7cEfj6y\n",
       "7tyPNzIIpXOXsoFOzOqDVhdrh2a6Owd2w+bqYEojv6v4TVBMUr2K9a+vHngCnNebkWb7mmeF/LR8\n",
       "KxHH4q/VsxYinryb0ygJVb8trmCY8LpHrrkBJ4Eya+1bijlM5hXOQW1rXwR9YsbCMRplpJaLu80K\n",
       "wnw34C9MoF9i4iy6k2tf5cmu+4M0ktxBrXYAR8mMhssAvfXQO6nW31082CJr4mxKOUCjuXPbjNwV\n",
       "4EbH7iQR+rnglcCL9FLQvy+zfMopUI8whi6Ln4xrv11n2Ycz+wXhyYP3UISwsBPhJgNmWJiX6lio\n",
       "QK03bxIsSlOvHWiMpz+QeeKL7dbJJqcuCC863zh6/DpmPuQJubCEIADpwXkAAAFsQZokbEP//qmW\n",
       "AOPodgAmr5B1lRljXrMSNed1e0M6RQjHAvCFt8NsecWI0hEui7kNaj0evyHOHLE6ZUKyZWRrl6MI\n",
       "3JQwRm91/RS87208H9YYunA333mn+wl/BuRKvBUBabNt+KqZC2nd1uQ+XQIKB/G46lUrSUCXHqfR\n",
       "+g/YCgJhLFXZlHmw5CO/j60/1ABAYY5fbqhkVSQa6+xz3sEoWXuMWJt8+6JyYx+wW3uogo0OGfji\n",
       "ndXFiBpfiZx54Zq4CVwKNS8Q8ar6fj9evBuB6KNx1T0jRolrCj3qHO3TZrZeVdkYV6Xp9jE89vJD\n",
       "zwUhQG42mPFnt+JTL6eqKUO7SqvQrrt8Oz8zJLfS6id7p4mqLj5GhupcCMJ3aRem0jBlM+Aektx+\n",
       "zs/SWwaUqMi8K4RtA6pLKo/F+UNniHCSrXzCIBOs5MTWzMuvShtZJcTKK8M26aD4R9AUBlWi+ebK\n",
       "OmGsA0VUor8jf00bowAAAGdBnkJ4hn8AtjjwALqN+rqzsu/SFzr7Y5CxNdwO6r9875KgLkvUf5Gn\n",
       "zlBXlAzf9abEineK6BeQGJR795ixBsrEXnTlPMqnqXOskL0wf97aqgdVbafaJBsHVNxI62TzUDOS\n",
       "CjuV26/9AAAAPQGeYXRCvwFRS2fvAA/jG2Delzspqz2gFuzx4xKYuOULFnUKP++O5cDetpCP++UQ\n",
       "Nj1NRJANcERTfvnXxmQAAAA1AZ5jakK/AVGu55lnACamNsFC6G+088r4achXnvhhjb8jFuUDeiWt\n",
       "mDgwPlf09kmBjb5pNzUAAACWQZpoSahBaJlMCH///qmWAOPfHsAH9IhOa8fVrhWHBAajZxhoJUoc\n",
       "80nFyrkrcWTcbuKZiJLPaTG0W/T9TGIAdar+oCW+N6FCWwPbjgWqJcHGM7WkNl9p+i7DGwM+aSoQ\n",
       "heZ9DJlWZqLA75p6tD7HNKkst0ZqIH6Sn0Vp+OB6uEmJ4mbO04E2BPv3GPVPiUQWe8A+EwARAAAA\n",
       "QkGehkURLDP/ALXCfqAE1Nv3V+x5F7BatSAOIxZ+YzR+IvL6ahuhHzMpf4pY0UqG28hQf49qg16s\n",
       "xTh2V+D2trYJ4QAAACQBnqV0Qr8BUchjP39H/1BaAMb4Q83lBj0b03E2Sq8jLM9H0j8AAAAjAZ6n\n",
       "akK/AVGvcuXaTCs5AlaE0c3sGGih1FAyLwFJZprpxKAAAACiQZqsSahBbJlMCH///qmWAOPfHsAH\n",
       "9IhK4B3KhBu0EZn9wNIC4Y65qJ6hEizlYZThAGhaPPVQ1fHAcUGA+cARmxdjekRvxGrdOI82Lu/8\n",
       "rnHcc1j5rXll4NhAvZ0bl/hDWqo+xn3UjB2MHnRQAfJlujRktZeDmRYV/mxcoYDm5mJiw/h1l9Kc\n",
       "fjWUTMMdgEV16yUw1FXTwsALX5vUf3OtboZMAAAAQUGeykUVLDP/ALXULEACavJZisf5z8aHgbjc\n",
       "vQy8jhgr4mK/BSMeCuCbLTOa+TfhqKqzwFDTepfUgk1HqNAoh+IvAAAAHwGe6XRCvwFRS2KEPelp\n",
       "txwd3Ba+PIqTTkSyAzlMdhEAAAAfAZ7rakK/AVCRRMGvJ2iKcAWC2GgZ/zgzYHobrv/JkAAAAHBB\n",
       "mvBJqEFsmUwIf//+qZYA498ewAbUgLAjI0LC2wwMr5F2C2gkbRjqfk/RoLt6O9+oVvufkSRpO5U4\n",
       "HYAv/bPJPjZd4nN5nKVeiTd7xBUEzJZyJb/4y6n9v3qdh3KJEPxTXjNgjaHzFg9oiKWiKhVhAAAA\n",
       "XUGfDkUVLDP/ALXULEACavJhXt7Z9WMnXIlMHH9qh8FJ4u2nx8P5Uk003HYuFwQJweRgh/EuFd6z\n",
       "a+93K8EFJWsX2z2gr9WRoSQ62MSrMiwGS29tcU/cK4kjdw8sgQAAAB0Bny10Qr8BUUtjPpy5zOIF\n",
       "jCbv9b96boA3Xn264QAAACIBny9qQr8BUWiclfelpoJqSXHgcPI6wy36dO+oTgtCgAkIAAAAq0Gb\n",
       "NEmoQWyZTAh///6plgDjdUcalE7sYAJ1mEIDirQupFODRTm+1Y6cYPXzHZ9nKGB1JgetMmhaQmEI\n",
       "Z1oaxQ7igFh7YzluPl4sxvR8aKv8xSMAoT+Y0K/0Fl+dJh2OQkIs7Qrwa0cVb2EP4/0rANmR9kbl\n",
       "v/IcXNXfuqjdIoKQZSwKLgdfZe3vK5Y8a1gi0iUUQDVsn2kCdUFJVWEFqXMAXV3pvojQ/bndWAAA\n",
       "AE9Bn1JFFSwz/wC1wn6gBNU9T0caQN0TbPTaefSbBFGTq0S1nVbhnLmZMy59dT9HewK5+jEg3oFU\n",
       "R7zblGjxSKK9pl1qA43itRT828GXegEbAAAAIQGfcXRCvwFRyGM/f0f/bvSUAQOHkSS2raTJtih7\n",
       "b15owAAAACABn3NqQr8BUa9yo3+IPjKWO3sQgQvsT5IpJffwoApYRAAAAKRBm3hJqEFsmUwIf//+\n",
       "qZYA47w7ABNXyJXAPXAHJUZkdtMZT6+Xd8/Sy3QqN0G6XOBqhFzpLz05ti3NpSQEF9mWA99VH2xr\n",
       "9UPJ7iAOnxad5wV3I7d15uZcBGryu8f0hSaCFVzed4N6F7g/tSfG+BOLR11yohET373wxIlT/4bb\n",
       "D5KlTxQjVss3/Ty2L/hlvDrbHiPrmSkpDMe2N647VO7MtfPDtwAAAFJBn5ZFFSwz/wC2OPAAuo3F\n",
       "OzjwAx358pVOpbVyNsihcbnWV0Tx1yvmJ/ZtpE1nPs6drwQIiNHSTDv9e4Lq+AxYV2pHcPAqFHGp\n",
       "rxk98JXjjnJhAAAAIwGftXRCvwJJEDQfBaqbxqV04YTYF/ENUDAOdTUVSEEBVjKBAAAAIgGft2pC\n",
       "vwJIBz+hRGERHbfbpKADESQJbTijjE8cmbvaHrEAAACQQZu8SahBbJlMCH///qmWAOPfHsAH9IJJ\n",
       "TLm8GomdwVZdUXGi2wY6l2lYrtE2Tpxz+k2WlLfd49NF+n6CJo05P2yA/PIXKdyZNzSA85uccsEN\n",
       "5B9hVwobVqopSwoJ9LPVEsw/+ZjDhMuP/D2p78Kr+YwzDlbLVACz0HnTWA3oLDbOF7X//fvi6cbR\n",
       "4U9N3ysgAAAAPkGf2kUVLDP/ALOH4pABydYLSQlETE4/twekfrUQeE3h9BuIWo3hVnM/Q5O+CkEy\n",
       "skjl3gyLxoF481Yb+5+BAAAAHwGf+XRCvwFNG/VxwCEjbGqLBa2gIp6UKS1FHuJ1H9AAAAAeAZ/7\n",
       "akK/AVFnG9+AYmOnSrCBaN4AOBNN/6hN6kRRAAAAhEGb4EmoQWyZTAh///6plgDj3x7AB/SISu/F\n",
       "tNilTzNzcYpDcRmX7UjvddsU4i8n9FPfeuW1OrA0LfckhnERzdWnr0s1bR9gq+ooBPZf1YlnBnW3\n",
       "9aH8THVvYNIux+7zPQeqj6wRhFdlWF5d8vbOUNnKs09vbOf+kW98wHvbOuaUD8Q7kQAAADdBnh5F\n",
       "FSwz/wC0x7R3AAaN0UK7SB+bYOfulIlcd5inuJPJliN+DnBh4nR118PO4qwGn+0NK7WKAAAAHgGe\n",
       "PXRCvwFRxyDPzT8R0cXsYHE5Z7on16IFJTBRgAAAABwBnj9qQr8BUJEhFUvGBlP34yh04RjSU9q4\n",
       "v3aBAAAAbEGaJEmoQWyZTAh///6plgDj3x7ABtUqpMeKgHaOI5nzGdHbLlkhNhYZVGDVXcC9qRC5\n",
       "RtzZZZKjFb5NHZA9ggnZF3BBtX/56L8kbEKqjVyunFIMQ3JG7GyKfcs6oL4zQYS+31RvQMn2UZHJ\n",
       "FwAAAExBnkJFFSwz/wCzaMJEwraQAHOG28TgSRC+HL4spOediBTjzhFsEJRfqKCWNU6nbi1Tlouo\n",
       "9agXlCvfZlBQS2kf0aJiLybBgZ/AuAFXAAAAFwGeYXRCvwFNeW/lYpKWC+X3A0AIDrBQAAAAGAGe\n",
       "Y2pCvwFRZxvSoLATdUDgCwNBCQ3qSQAAAJNBmmhJqEFsmUwId//+qZYA42bMi6kfACaa7SvROWLf\n",
       "XTD3JtuzRdwz97z5x+5LqAj0GO3KWNFNzFxB/i32EPoTPTprV7cgLlQB+8FLFv3Awb2ORdEvYXu4\n",
       "xYyly/uu/DPnbMPLXFeP+bvlvrcYQJISfRa9pGbcZR2fNCurQiLJE2GXyk3FQNFZRTUCrEgAABCX\n",
       "SFkAAAA/QZ6GRRUsM/8AtcJ+oAW6o4QnHQAMzS7M+mXAQ2FT3CzoJzRWhYTY7C5AF0A2psAMrKjO\n",
       "kg+cC+HqlHVdCtqtAAAAFgGepXRCvwFRS2KEPerjnEbgZ8ej2SUAAAAWAZ6nakK/AVGvcqN/iLeA\n",
       "0YJbUY9kkAAAAGhBmqxJqEFsmUwId//+qZYA410sWuAB/SEms4PRT9YOwtUh7QAVVpWjASGSMFBa\n",
       "+46DvCq90cg7ttq319ZfCsPFiTeYqf7KPKkPRz8rLYjm4tubW8tKW+Z0s+JHac03s8CQsVQPe4bm\n",
       "LAAAAERBnspFFSwz/wC1wn6gBNXVVFuNgMgVMAJ1JhmCHc9Rd3vAVVvYLjxr86UnAxcpQNkzxLjI\n",
       "r+2Baqbfsdbi5wiu4Z/B2QAAABUBnul0Qr8BUcdd/1jXDe8ElHM3qSAAAAAVAZ7rakK/AVGvcuXa\n",
       "79mQGWPw3qSAAAAAdUGa8EmoQWyZTAhn//6eEAa5x2oAQp64uOnT8Hl6+13QdSkll8Y4GJ4DagUQ\n",
       "cfMb0A6Q8JnKfRGJ2kQYURsf4eWRbv4P02gM9eTPTUY2z2uKn+MNtXxWhx6DCmK4VjrgeWFWBFRF\n",
       "CUEAzGfPeiweyG6E6IRxwQAAADlBnw5FFSwz/wC1g8MOAA7PB0gYeGKj2kp1g3gDtP7IXTli2mJQ\n",
       "27Aw+wVM4TQyQEzk85IKPViut/EAAAAWAZ8tdEK/AU0b9XHAISNuS1B2ownrOwAAABQBny9qQr8B\n",
       "UJEhFUvNhIF0zSnd6wAAAEhBmzJJqEFsmUwUTCv//jhAGd5HwAE7d1UsiQl2qqfLLZp7WoIf+Y0r\n",
       "o3DUdLZlduueSD/4f4ZUZJFakEphiTrtQd0OpJCo+YAAAAAWAZ9RakK/AVCg7SyRuoOoYMRcKcAd\n",
       "gQAABZJtb292AAAAbG12aGQAAAAAAAAAAAAAAAAAAAPoAAAJ9gABAAABAAAAAAAAAAAAAAAAAQAA\n",
       "AAAAAAAAAAAAAAAAAAEAAAAAAAAAAAAAAAAAAEAAAAAAAAAAAAAAAAAAAAAAAAAAAAAAAAAAAAAA\n",
       "AAACAAAEvHRyYWsAAABcdGtoZAAAAAMAAAAAAAAAAAAAAAEAAAAAAAAJ9gAAAAAAAAAAAAAAAAAA\n",
       "AAAAAQAAAAAAAAAAAAAAAAAAAAEAAAAAAAAAAAAAAAAAAEAAAAABsAAAASAAAAAAACRlZHRzAAAA\n",
       "HGVsc3QAAAAAAAAAAQAACfYAAAQAAAEAAAAABDRtZGlhAAAAIG1kaGQAAAAAAAAAAAAAAAAAACgA\n",
       "AABmAFXEAAAAAAAtaGRscgAAAAAAAAAAdmlkZQAAAAAAAAAAAAAAAFZpZGVvSGFuZGxlcgAAAAPf\n",
       "bWluZgAAABR2bWhkAAAAAQAAAAAAAAAAAAAAJGRpbmYAAAAcZHJlZgAAAAAAAAABAAAADHVybCAA\n",
       "AAABAAADn3N0YmwAAACzc3RzZAAAAAAAAAABAAAAo2F2YzEAAAAAAAAAAQAAAAAAAAAAAAAAAAAA\n",
       "AAABsAEgAEgAAABIAAAAAAAAAAEAAAAAAAAAAAAAAAAAAAAAAAAAAAAAAAAAAAAAAAAAAAAY//8A\n",
       "AAAxYXZjQwFkABX/4QAYZ2QAFazZQbCWhAAAAwAEAAADAKA8WLZYAQAGaOvjyyLAAAAAHHV1aWRr\n",
       "aEDyXyRPxbo5pRvPAyPzAAAAAAAAABhzdHRzAAAAAAAAAAEAAAAzAAACAAAAABRzdHNzAAAAAAAA\n",
       "AAEAAAABAAABqGN0dHMAAAAAAAAAMwAAAAEAAAQAAAAAAQAACgAAAAABAAAEAAAAAAEAAAAAAAAA\n",
       "AQAAAgAAAAABAAAKAAAAAAEAAAQAAAAAAQAAAAAAAAABAAACAAAAAAEAAAoAAAAAAQAABAAAAAAB\n",
       "AAAAAAAAAAEAAAIAAAAAAQAACgAAAAABAAAEAAAAAAEAAAAAAAAAAQAAAgAAAAABAAAKAAAAAAEA\n",
       "AAQAAAAAAQAAAAAAAAABAAACAAAAAAEAAAoAAAAAAQAABAAAAAABAAAAAAAAAAEAAAIAAAAAAQAA\n",
       "CgAAAAABAAAEAAAAAAEAAAAAAAAAAQAAAgAAAAABAAAKAAAAAAEAAAQAAAAAAQAAAAAAAAABAAAC\n",
       "AAAAAAEAAAoAAAAAAQAABAAAAAABAAAAAAAAAAEAAAIAAAAAAQAACgAAAAABAAAEAAAAAAEAAAAA\n",
       "AAAAAQAAAgAAAAABAAAKAAAAAAEAAAQAAAAAAQAAAAAAAAABAAACAAAAAAEAAAoAAAAAAQAABAAA\n",
       "AAABAAAAAAAAAAEAAAIAAAAAAQAABgAAAAABAAACAAAAABxzdHNjAAAAAAAAAAEAAAABAAAAMwAA\n",
       "AAEAAADgc3RzegAAAAAAAAAAAAAAMwAAC1sAAAFwAAAAawAAAEEAAAA5AAAAmgAAAEYAAAAoAAAA\n",
       "JwAAAKYAAABFAAAAIwAAACMAAAB0AAAAYQAAACEAAAAmAAAArwAAAFMAAAAlAAAAJAAAAKgAAABW\n",
       "AAAAJwAAACYAAACUAAAAQgAAACMAAAAiAAAAiAAAADsAAAAiAAAAIAAAAHAAAABQAAAAGwAAABwA\n",
       "AACXAAAAQwAAABoAAAAaAAAAbAAAAEgAAAAZAAAAGQAAAHkAAAA9AAAAGgAAABgAAABMAAAAGgAA\n",
       "ABRzdGNvAAAAAAAAAAEAAAAsAAAAYnVkdGEAAABabWV0YQAAAAAAAAAhaGRscgAAAAAAAAAAbWRp\n",
       "cmFwcGwAAAAAAAAAAAAAAAAtaWxzdAAAACWpdG9vAAAAHWRhdGEAAAABAAAAAExhdmY1Ny44My4x\n",
       "MDA=\n",
       "\">\n",
       "  Your browser does not support the video tag.\n",
       "</video>"
      ],
      "text/plain": [
       "<IPython.core.display.HTML object>"
      ]
     },
     "execution_count": 141,
     "metadata": {},
     "output_type": "execute_result"
    }
   ],
   "source": [
    "HTML(anim.to_html5_video())"
   ]
  },
  {
   "cell_type": "code",
   "execution_count": 143,
   "metadata": {},
   "outputs": [
    {
     "ename": "NameError",
     "evalue": "name 'ActuationModelDoublePendulum' is not defined",
     "output_type": "error",
     "traceback": [
      "\u001b[0;31m---------------------------------------------------------------------------\u001b[0m",
      "\u001b[0;31mNameError\u001b[0m                                 Traceback (most recent call last)",
      "\u001b[0;32m<ipython-input-143-0f78eb36cd0b>\u001b[0m in \u001b[0;36m<module>\u001b[0;34m\u001b[0m\n\u001b[1;32m      6\u001b[0m \u001b[0;34m\u001b[0m\u001b[0m\n\u001b[1;32m      7\u001b[0m \u001b[0mstate\u001b[0m \u001b[0;34m=\u001b[0m \u001b[0mcrocoddyl\u001b[0m\u001b[0;34m.\u001b[0m\u001b[0mStateMultibody\u001b[0m\u001b[0;34m(\u001b[0m\u001b[0mrobot_model\u001b[0m\u001b[0;34m)\u001b[0m\u001b[0;34m\u001b[0m\u001b[0;34m\u001b[0m\u001b[0m\n\u001b[0;32m----> 8\u001b[0;31m \u001b[0mactModel\u001b[0m \u001b[0;34m=\u001b[0m \u001b[0mActuationModelDoublePendulum\u001b[0m\u001b[0;34m(\u001b[0m\u001b[0mstate\u001b[0m\u001b[0;34m,\u001b[0m \u001b[0mactLink\u001b[0m\u001b[0;34m=\u001b[0m\u001b[0;36m1\u001b[0m\u001b[0;34m)\u001b[0m\u001b[0;34m\u001b[0m\u001b[0;34m\u001b[0m\u001b[0m\n\u001b[0m\u001b[1;32m      9\u001b[0m \u001b[0;34m\u001b[0m\u001b[0m\n\u001b[1;32m     10\u001b[0m \u001b[0mweights\u001b[0m \u001b[0;34m=\u001b[0m \u001b[0mnp\u001b[0m\u001b[0;34m.\u001b[0m\u001b[0marray\u001b[0m\u001b[0;34m(\u001b[0m\u001b[0;34m[\u001b[0m\u001b[0;36m1\u001b[0m\u001b[0;34m,\u001b[0m \u001b[0;36m1\u001b[0m\u001b[0;34m,\u001b[0m \u001b[0;36m1\u001b[0m\u001b[0;34m,\u001b[0m \u001b[0;36m1\u001b[0m\u001b[0;34m]\u001b[0m \u001b[0;34m+\u001b[0m \u001b[0;34m[\u001b[0m\u001b[0;36m0.1\u001b[0m\u001b[0;34m]\u001b[0m \u001b[0;34m*\u001b[0m \u001b[0;36m2\u001b[0m\u001b[0;34m)\u001b[0m\u001b[0;34m\u001b[0m\u001b[0;34m\u001b[0m\u001b[0m\n",
      "\u001b[0;31mNameError\u001b[0m: name 'ActuationModelDoublePendulum' is not defined"
     ]
    }
   ],
   "source": [
    "import example_robot_data\n",
    "\n",
    "\n",
    "robot = example_robot_data.loadDoublePendulum()\n",
    "robot_model = robot.model\n",
    "\n",
    "state = crocoddyl.StateMultibody(robot_model)\n",
    "actModel = ActuationModelDoublePendulum(state, actLink=1)\n",
    "\n",
    "weights = np.array([1, 1, 1, 1] + [0.1] * 2)\n",
    "runningCostModel = crocoddyl.CostModelSum(state, actModel.nu)\n",
    "terminalCostModel = crocoddyl.CostModelSum(state, actModel.nu)\n",
    "xRegCost = crocoddyl.CostModelState(state, crocoddyl.ActivationModelQuad(state.ndx), state.zero(), actModel.nu)\n",
    "uRegCost = crocoddyl.CostModelControl(state, crocoddyl.ActivationModelQuad(1), actModel.nu)\n",
    "xPendCost = CostModelDoublePendulum(state, crocoddyl.ActivationModelWeightedQuad(np.matrix(weights).T), actModel.nu)\n",
    "\n",
    "dt = 1e-2\n",
    "\n",
    "runningCostModel.addCost(\"uReg\", uRegCost, 1e-4 / dt)\n",
    "runningCostModel.addCost(\"xGoal\", xPendCost, 1e-5 / dt)\n",
    "terminalCostModel.addCost(\"xGoal\", xPendCost, 1e4)\n",
    "\n",
    "runningModel = crocoddyl.IntegratedActionModelEuler(\n",
    "    crocoddyl.DifferentialActionModelFreeFwdDynamics(state, actModel, runningCostModel), dt)\n",
    "terminalModel = crocoddyl.IntegratedActionModelEuler(\n",
    "    crocoddyl.DifferentialActionModelFreeFwdDynamics(state, actModel, terminalCostModel), dt)\n",
    "\n",
    "# Creating the shooting problem and the FDDP solver\n",
    "T = 100\n",
    "x0 = [3.14, 0, 0., 0.]\n",
    "problem = crocoddyl.ShootingProblem(np.matrix(x0).T, [runningModel] * T, terminalModel)\n",
    "fddp = crocoddyl.SolverDDP(problem)\n"
   ]
  },
  {
   "cell_type": "code",
   "execution_count": null,
   "metadata": {},
   "outputs": [],
   "source": []
  }
 ],
 "metadata": {
  "kernelspec": {
   "display_name": "Python 3",
   "language": "python",
   "name": "python3"
  },
  "language_info": {
   "codemirror_mode": {
    "name": "ipython",
    "version": 3
   },
   "file_extension": ".py",
   "mimetype": "text/x-python",
   "name": "python",
   "nbconvert_exporter": "python",
   "pygments_lexer": "ipython3",
   "version": "3.7.4"
  }
 },
 "nbformat": 4,
 "nbformat_minor": 2
}
