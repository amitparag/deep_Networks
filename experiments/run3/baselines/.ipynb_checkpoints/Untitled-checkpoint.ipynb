{
 "cells": [
  {
   "cell_type": "code",
   "execution_count": null,
   "metadata": {},
   "outputs": [],
   "source": [
    "%%file README.md\n",
    "1: Create a baseline model\n",
    "    \n",
    "2: Create optimized net\n",
    "    1: Use different hyperparams optimization libraries\n",
    "    "
   ]
  },
  {
   "cell_type": "code",
   "execution_count": null,
   "metadata": {},
   "outputs": [],
   "source": [
    "%%file baseline.py\n",
    "\n",
    "\n",
    "import pandas as pd\n",
    "import numpy as np\n",
    "from utils import *\n",
    "\n",
    "\n",
    "def createBaselines():\n",
    "    \n",
    "    # Generate and save data\n",
    "    df_control , df_trajectory = stateData(15000, saveData=True)\n",
    "    \n",
    "    # Control baseline\n",
    "    control_dataset = df_control.values\n",
    "    x_train , y_train = control_dataset[0:10000,0:2], control_dataset[0:10000, 2:]\n",
    "    print(\"CONTROL TRAIN \",x_train.shape,\",\", y_train.shape)\n",
    "    x_test , y_test = control_dataset[10000:,0:2], control_dataset[10000:, 2:]\n",
    "    print(\"CONTROL TEST \", x_test.shape,\",\", y_test.shape)\n",
    "    controlNet = kerasBaselineNet(x_train,\n",
    "                     y_train,\n",
    "                     x_test,\n",
    "                     y_test,\n",
    "                     saveModel=True,\n",
    "                     name=\"ControlNet\"      \n",
    "    )\n",
    "    del x_train, x_test, y_train, y_test, controlNet\n",
    "\n",
    "    trajectory_dataset = df_trajectory.values\n",
    "    x_train , y_train = trajectory_dataset[0:10000,0:2], trajectory_dataset[0:10000, 2:]\n",
    "    print(\"STATE TRAIN \",x_train.shape,\",\", y_train.shape)\n",
    "\n",
    "    x_test , y_test = trajectory_dataset[10000:,0:2], trajectory_dataset[10000:, 2:]\n",
    "    print(\"STATE TEST \", x_test.shape,\",\", y_test.shape)\n",
    "\n",
    "    stateNet = kerasBaselineNet(x_train,\n",
    "                     y_train,\n",
    "                     x_test,\n",
    "                     y_test,\n",
    "                     saveModel=True,\n",
    "                     name= \"StateNet\"      \n",
    "    )\n",
    "    \n",
    "    del x_train, x_test, y_train, y_test, stateNet"
   ]
  },
  {
   "cell_type": "code",
   "execution_count": null,
   "metadata": {},
   "outputs": [],
   "source": []
  },
  {
   "cell_type": "code",
   "execution_count": null,
   "metadata": {},
   "outputs": [],
   "source": [
    "s  = 'sasda'\n",
    "v  =\".json\""
   ]
  },
  {
   "cell_type": "code",
   "execution_count": 2,
   "metadata": {},
   "outputs": [
    {
     "ename": "NameError",
     "evalue": "name 's' is not defined",
     "output_type": "error",
     "traceback": [
      "\u001b[0;31m---------------------------------------------------------------------------\u001b[0m",
      "\u001b[0;31mNameError\u001b[0m                                 Traceback (most recent call last)",
      "\u001b[0;32m<ipython-input-2-f43c91bf5fac>\u001b[0m in \u001b[0;36m<module>\u001b[0;34m\u001b[0m\n\u001b[0;32m----> 1\u001b[0;31m \u001b[0ms\u001b[0m\u001b[0;34m+\u001b[0m\u001b[0mv\u001b[0m\u001b[0;34m\u001b[0m\u001b[0;34m\u001b[0m\u001b[0m\n\u001b[0m",
      "\u001b[0;31mNameError\u001b[0m: name 's' is not defined"
     ]
    }
   ],
   "source": [
    "s+v\n"
   ]
  },
  {
   "cell_type": "code",
   "execution_count": null,
   "metadata": {},
   "outputs": [],
   "source": []
  },
  {
   "cell_type": "code",
   "execution_count": null,
   "metadata": {},
   "outputs": [],
   "source": []
  },
  {
   "cell_type": "code",
   "execution_count": null,
   "metadata": {},
   "outputs": [],
   "source": []
  },
  {
   "cell_type": "code",
   "execution_count": null,
   "metadata": {},
   "outputs": [],
   "source": []
  },
  {
   "cell_type": "code",
   "execution_count": null,
   "metadata": {},
   "outputs": [],
   "source": []
  },
  {
   "cell_type": "code",
   "execution_count": null,
   "metadata": {},
   "outputs": [],
   "source": []
  },
  {
   "cell_type": "code",
   "execution_count": null,
   "metadata": {},
   "outputs": [],
   "source": []
  },
  {
   "cell_type": "code",
   "execution_count": null,
   "metadata": {},
   "outputs": [],
   "source": []
  },
  {
   "cell_type": "code",
   "execution_count": null,
   "metadata": {},
   "outputs": [],
   "source": []
  },
  {
   "cell_type": "code",
   "execution_count": null,
   "metadata": {},
   "outputs": [],
   "source": []
  },
  {
   "cell_type": "code",
   "execution_count": null,
   "metadata": {},
   "outputs": [],
   "source": []
  },
  {
   "cell_type": "code",
   "execution_count": null,
   "metadata": {},
   "outputs": [],
   "source": []
  },
  {
   "cell_type": "code",
   "execution_count": null,
   "metadata": {},
   "outputs": [],
   "source": []
  },
  {
   "cell_type": "code",
   "execution_count": null,
   "metadata": {},
   "outputs": [],
   "source": []
  },
  {
   "cell_type": "code",
   "execution_count": null,
   "metadata": {},
   "outputs": [],
   "source": []
  },
  {
   "cell_type": "code",
   "execution_count": null,
   "metadata": {},
   "outputs": [],
   "source": []
  },
  {
   "cell_type": "code",
   "execution_count": null,
   "metadata": {},
   "outputs": [],
   "source": []
  },
  {
   "cell_type": "code",
   "execution_count": null,
   "metadata": {},
   "outputs": [],
   "source": []
  },
  {
   "cell_type": "code",
   "execution_count": null,
   "metadata": {},
   "outputs": [],
   "source": []
  },
  {
   "cell_type": "code",
   "execution_count": null,
   "metadata": {},
   "outputs": [],
   "source": []
  },
  {
   "cell_type": "code",
   "execution_count": null,
   "metadata": {},
   "outputs": [],
   "source": []
  },
  {
   "cell_type": "code",
   "execution_count": null,
   "metadata": {},
   "outputs": [],
   "source": []
  },
  {
   "cell_type": "code",
   "execution_count": 3,
   "metadata": {},
   "outputs": [
    {
     "ename": "SyntaxError",
     "evalue": "invalid syntax (<ipython-input-3-85016005e86c>, line 4)",
     "output_type": "error",
     "traceback": [
      "\u001b[0;36m  File \u001b[0;32m\"<ipython-input-3-85016005e86c>\"\u001b[0;36m, line \u001b[0;32m4\u001b[0m\n\u001b[0;31m    improt numpy as np\u001b[0m\n\u001b[0m               ^\u001b[0m\n\u001b[0;31mSyntaxError\u001b[0m\u001b[0;31m:\u001b[0m invalid syntax\n"
     ]
    }
   ],
   "source": [
    "#%%file kerasNet.py\n",
    "\n",
    "\n",
    "improt numpy as np\n",
    "from keras import backend as K \n",
    "K.clear_session()\n",
    "from keras import regularizers\n",
    "from keras import optimizers\n",
    "from keras.models import Sequential\n",
    "from keras.layers import Dense, Activation, Dropout\n",
    "\n",
    "\n",
    "def kerasBaselineNet(x_train,\n",
    "                     y_train,\n",
    "                     x_test,\n",
    "                     y_test,\n",
    "                     lr = 1e-3,\n",
    "                     NHIDDEN = 2,\n",
    "                     EPOCHS = 100,\n",
    "                     BATCHSIZE = 64,\n",
    "                     VERBOSE = 2,\n",
    "                     saveModel: bool = False,\n",
    "                     name:str = \"control\"\n",
    "                    ):\n",
    "    \"\"\"\n",
    "    2 hidden layers, sigmoid tanh\n",
    "    \n",
    "    \"\"\"\n",
    "    model = Sequential()\n",
    "    model.add(Dense(256, input_dim=(x_train.shape[1]), activation = \"relu\", name=\"input\"))\n",
    "    for _ in range(NHIDDEN):\n",
    "        model.add(Dense(64,\n",
    "                        activation = \"tanh\",\n",
    "                        name = 'hidden2'\n",
    "                        )) \n",
    "    model.add(Dense(y_train.shape[1],\n",
    "                    \n",
    "                    activation = 'linear',\n",
    "                   name = \"output\"))        \n",
    "\n",
    "    sgd = optimizers.SGD(lr=lr, clipnorm=1.)\n",
    "    model.compile(loss='mean_squared_error',\n",
    "                  optimizer=sgd,\n",
    "                  metrics=['mean_squared_error', \"mean_absolute_error\"])\n",
    "    print(x_train.shape, y_train.shape)\n",
    "    model.fit(x_train, \n",
    "              y_train,\n",
    "              epochs = EPOCHS,\n",
    "              batch_size= BATCHSIZE,\n",
    "              verbose = VERBOSE\n",
    "             )\n",
    "    print(model.summary())\n",
    "    # evaluate the model\n",
    "    scores = model.evaluate(x_test, y_test, verbose=0)\n",
    "    print(\"%s: %.2f%%\" % (model.metrics_names[1], scores[1]))\n",
    "    \n",
    "    if saveModel:\n",
    "        model.save(name + '.h5')    \n",
    "        print(\"Saved Model\")\n",
    "    return model"
   ]
  },
  {
   "cell_type": "code",
   "execution_count": null,
   "metadata": {},
   "outputs": [],
   "source": []
  }
 ],
 "metadata": {
  "kernelspec": {
   "display_name": "Python 3",
   "language": "python",
   "name": "python3"
  },
  "language_info": {
   "codemirror_mode": {
    "name": "ipython",
    "version": 3
   },
   "file_extension": ".py",
   "mimetype": "text/x-python",
   "name": "python",
   "nbconvert_exporter": "python",
   "pygments_lexer": "ipython3",
   "version": "3.6.7"
  }
 },
 "nbformat": 4,
 "nbformat_minor": 2
}
