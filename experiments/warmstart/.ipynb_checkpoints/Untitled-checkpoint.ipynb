{
 "cells": [
  {
   "cell_type": "code",
   "execution_count": null,
   "metadata": {},
   "outputs": [],
   "source": [
    "%load_ext autoreload\n",
    "%autoreload 2"
   ]
  },
  {
   "cell_type": "code",
   "execution_count": 5,
   "metadata": {},
   "outputs": [],
   "source": [
    "from net import *\n",
    "from data import *\n",
    "import numpy as np\n",
    "import random\n",
    "import math\n",
    "import numpy as np\n",
    "import crocoddyl\n",
    "from sklearn.preprocessing import StandardScaler, MinMaxScaler, MaxAbsScaler\n",
    "crocoddyl.switchToNumpyArray()"
   ]
  },
  {
   "cell_type": "code",
   "execution_count": 7,
   "metadata": {},
   "outputs": [
    {
     "name": "stdout",
     "output_type": "stream",
     "text": [
      "TRAIN  (10000, 3) , (10000, 153)\n",
      "TEST  (5000, 3) , (5000, 153)\n"
     ]
    }
   ],
   "source": [
    "### Train, test data\n",
    "\n",
    "data = getTrainingData(15000)\n",
    "\n",
    "x_train , y_train = data[0:10000,0:3], data[0:10000, 3:]\n",
    "print(\"TRAIN \",x_train.shape,\",\", y_train.shape)\n",
    "\n",
    "x_test , y_test = data[10000:,0:3], data[10000:, 3:]\n",
    "print(\"TEST \", x_test.shape,\",\", y_test.shape)\n",
    "\n",
    "### Warmstart\n",
    "x_valid = [] \n",
    "for _ in range(100):\n",
    "    initial_config = [random.uniform(-1.99, 1.99), random.uniform(-1.99, 1.99), 0.0]\n",
    "    x_valid.append(initial_config)\n",
    "x_valid = np.array(x_valid)   "
   ]
  },
  {
   "cell_type": "code",
   "execution_count": 8,
   "metadata": {},
   "outputs": [],
   "source": [
    "x_scaler = StandardScaler()\n",
    "y_scaler = StandardScaler()\n",
    "\n",
    "x_train, x_test, x_valid = x_scaler.fit_transform(x_train), x_scaler.fit_transform(x_test), x_scaler.fit_transform(x_valid)\n",
    "y_train, y_test = y_scaler.fit_transform(y_train), y_scaler.fit_transform(y_test)"
   ]
  },
  {
   "cell_type": "code",
   "execution_count": null,
   "metadata": {},
   "outputs": [],
   "source": [
    "net = kerasBaselineNet(x_train,\n",
    "                     y_train,\n",
    "                     x_test,\n",
    "                     y_test,\n",
    "                     NUNITS_INPUT = 64,\n",
    "                     NUNITS = 128,\n",
    "                     NHIDDEN = 2,\n",
    "                     lr = 1e-3,\n",
    "                     EPOCHS = 100,\n",
    "                     BATCHSIZE = 64,\n",
    "                     VERBOSE = 0                    \n",
    "                    )"
   ]
  },
  {
   "cell_type": "code",
   "execution_count": null,
   "metadata": {},
   "outputs": [],
   "source": [
    "y_predicted = net.predict_on_batch(x_valid)"
   ]
  }
 ],
 "metadata": {
  "kernelspec": {
   "display_name": "Python 3",
   "language": "python",
   "name": "python3"
  },
  "language_info": {
   "codemirror_mode": {
    "name": "ipython",
    "version": 3
   },
   "file_extension": ".py",
   "mimetype": "text/x-python",
   "name": "python",
   "nbconvert_exporter": "python",
   "pygments_lexer": "ipython3",
   "version": "3.6.7"
  }
 },
 "nbformat": 4,
 "nbformat_minor": 2
}
