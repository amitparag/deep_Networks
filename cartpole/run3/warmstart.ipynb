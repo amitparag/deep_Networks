{
 "cells": [
  {
   "cell_type": "code",
   "execution_count": 1,
   "metadata": {},
   "outputs": [],
   "source": [
    "%load_ext autoreload\n",
    "%autoreload 2"
   ]
  },
  {
   "cell_type": "code",
   "execution_count": 2,
   "metadata": {},
   "outputs": [],
   "source": [
    "import pandas as pd\n",
    "import random\n",
    "import numpy as np\n"
   ]
  },
  {
   "cell_type": "code",
   "execution_count": 3,
   "metadata": {},
   "outputs": [],
   "source": [
    "df = pd.read_csv(\"fooBar.csv\")\n",
    "data = df.values"
   ]
  },
  {
   "cell_type": "code",
   "execution_count": 4,
   "metadata": {},
   "outputs": [
    {
     "data": {
      "text/plain": [
       "(9999, 305)"
      ]
     },
     "execution_count": 4,
     "metadata": {},
     "output_type": "execute_result"
    }
   ],
   "source": [
    "data.shape"
   ]
  },
  {
   "cell_type": "code",
   "execution_count": 5,
   "metadata": {},
   "outputs": [
    {
     "name": "stdout",
     "output_type": "stream",
     "text": [
      "Shape x_train -> 0 : 4, value function = index 4, then (x, y, z, theta, control, cost)..repeated\n",
      "T -> 50, so T x 6 = 300, + 5 \n"
     ]
    }
   ],
   "source": [
    "print(\"Shape x_train -> 0 : 4, value function = index 4, then (x, y, z, theta, control, cost)..repeated\")\n",
    "print(\"T -> 50, so T x 6 = 300, + 5 \")"
   ]
  },
  {
   "cell_type": "code",
   "execution_count": 6,
   "metadata": {},
   "outputs": [
    {
     "name": "stderr",
     "output_type": "stream",
     "text": [
      "Using TensorFlow backend.\n"
     ]
    }
   ],
   "source": [
    "from baselineNet import *"
   ]
  },
  {
   "cell_type": "code",
   "execution_count": 7,
   "metadata": {},
   "outputs": [],
   "source": [
    "x_data = data[:,0:4]\n",
    "y_data = data[:,4:]"
   ]
  },
  {
   "cell_type": "code",
   "execution_count": 8,
   "metadata": {},
   "outputs": [
    {
     "name": "stdout",
     "output_type": "stream",
     "text": [
      "(9999, 4)\n",
      "(9999, 301)\n"
     ]
    }
   ],
   "source": [
    "print(x_data.shape)\n",
    "print(y_data.shape)"
   ]
  },
  {
   "cell_type": "code",
   "execution_count": null,
   "metadata": {},
   "outputs": [],
   "source": [
    "net = kerasNet(x_data,\n",
    "             y_data,\n",
    "             NUNITS_INPUT = 64,\n",
    "             NUNITS = 64,\n",
    "             NHIDDEN = 2,\n",
    "             lr = 1e-2,\n",
    "             EPOCHS = 100,\n",
    "             BATCHSIZE = 16,\n",
    "             validation_split = 0.1,\n",
    "             VERBOSE = 2,\n",
    "             optimizer = \"adam\",\n",
    "             loss = ['mean_squared_error'],\n",
    "             use_gpu = True,\n",
    "             saveModel = False,\n",
    "             plot_results = True,\n",
    "             baseline = False    )"
   ]
  },
  {
   "cell_type": "code",
   "execution_count": null,
   "metadata": {},
   "outputs": [],
   "source": [
    "from timeit import default_timer as timer\n",
    "import crocoddyl\n",
    "from data import *\n",
    "from plotTable import *\n",
    "crocoddyl.switchToNumpyArray()\n"
   ]
  },
  {
   "cell_type": "code",
   "execution_count": null,
   "metadata": {},
   "outputs": [],
   "source": [
    "iterations = []\n",
    "time = []\n",
    "for _ in range(100):\n",
    "    \n",
    "\n",
    "    x0 = [random.uniform(0,1), random.uniform(-3.14, 3.14), random.uniform(0., 1), 0.]\n",
    "    x_test = np.array(x0).reshape(1, -1)\n",
    "    y_pred_ = net.predict(x_test)\n",
    "    \n",
    "    y_pred = y_pred_[:,1:]\n",
    "    warm = y_pred.reshape(50, 6)\n",
    "    init_xs = []\n",
    "    init_us = []\n",
    "    init_xs.append(np.array(x0))\n",
    "    state_array = warm[:,0:4]\n",
    "    control_array = warm[:,4]\n",
    "    \n",
    "    for state in state_array:\n",
    "        state = np.matrix(state).T\n",
    "        init_xs.append(state)\n",
    "        \n",
    "    for control in control_array:\n",
    "        control = np.matrix(control).T\n",
    "        init_us.append(control)    \n",
    "    \n",
    "    \n",
    "    \n",
    "    \n",
    "    \n",
    "    cartpoleDAM = DifferentialActionModelCartpole()\n",
    "    cartpoleData = cartpoleDAM.createData()\n",
    "    x = cartpoleDAM.state.rand()\n",
    "    u = np.zeros(1)\n",
    "    cartpoleDAM.calc(cartpoleData, x, u)\n",
    "    cartpoleND = crocoddyl.DifferentialActionModelNumDiff(cartpoleDAM, True) \n",
    "    timeStep = 5e-2\n",
    "    cartpoleIAM = crocoddyl.IntegratedActionModelEuler(cartpoleND, timeStep)\n",
    "    T  = 50\n",
    "    problem = crocoddyl.ShootingProblem(np.array(x0).T, [ cartpoleIAM ]*T, cartpoleIAM)\n",
    "    ddp = crocoddyl.SolverDDP(problem)\n",
    "    \n",
    "    \n",
    "    \n",
    "    cartpoleDAM2 = DifferentialActionModelCartpole()\n",
    "    cartpoleData2 = cartpoleDAM2.createData()\n",
    "    x2 = cartpoleDAM2.state.rand()\n",
    "    u2 = np.zeros(1)\n",
    "    cartpoleDAM2.calc(cartpoleData2, x2, u2)\n",
    "    cartpoleND2 = crocoddyl.DifferentialActionModelNumDiff(cartpoleDAM2, True) \n",
    "    timeStep = 5e-2\n",
    "    cartpoleIAM2 = crocoddyl.IntegratedActionModelEuler(cartpoleND2, timeStep)\n",
    "    T  = 50\n",
    "    problem2 = crocoddyl.ShootingProblem(np.array(x0).T, [ cartpoleIAM2 ]*T, cartpoleIAM2)\n",
    "    ddp2 = crocoddyl.SolverDDP(problem2)\n",
    "    \n",
    "    start1 = timer()\n",
    "    ddp.solve(init_xs, init_us, 1000)\n",
    "    end1 = timer()\n",
    "    \n",
    "    start2 = timer()\n",
    "    ddp2.solve([], [], 1000)\n",
    "    end2 = timer()\n",
    "   \n",
    "    \n",
    "    \n",
    "    ddp_xs = np.array(ddp.xs)\n",
    "    ddp_xs2 = np.array(ddp2.xs)\n",
    "    \n",
    "    iterations.append(np.array([ddp.iter, ddp2.iter]))\n",
    "    time.append(np.array([end1- start1, end2 - start2]))\n",
    "\n",
    "plotTable(iterations)"
   ]
  },
  {
   "cell_type": "code",
   "execution_count": null,
   "metadata": {},
   "outputs": [],
   "source": [
    "from plot1d import *\n",
    "\n",
    "iterations = np.array(iterations)\n",
    "time = np.array(time)\n",
    "plot_1d(iterations[:,0], xlabel = \"Warmstarted\" ,ylabel=\"iterations\")\n",
    "plot_1d(iterations[:,1], xlabel = \"oldstarted\" ,ylabel=\"iterations\")\n",
    "plot_1d(time[:,0])\n",
    "plot_1d(time[:,1])"
   ]
  },
  {
   "cell_type": "code",
   "execution_count": null,
   "metadata": {},
   "outputs": [],
   "source": []
  },
  {
   "cell_type": "code",
   "execution_count": null,
   "metadata": {},
   "outputs": [],
   "source": []
  },
  {
   "cell_type": "code",
   "execution_count": null,
   "metadata": {},
   "outputs": [],
   "source": []
  },
  {
   "cell_type": "code",
   "execution_count": null,
   "metadata": {},
   "outputs": [],
   "source": []
  }
 ],
 "metadata": {
  "kernelspec": {
   "display_name": "Python 3",
   "language": "python",
   "name": "python3"
  },
  "language_info": {
   "codemirror_mode": {
    "name": "ipython",
    "version": 3
   },
   "file_extension": ".py",
   "mimetype": "text/x-python",
   "name": "python",
   "nbconvert_exporter": "python",
   "pygments_lexer": "ipython3",
   "version": "3.6.7"
  }
 },
 "nbformat": 4,
 "nbformat_minor": 2
}
